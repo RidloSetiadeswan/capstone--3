{
 "cells": [
  {
   "cell_type": "code",
   "execution_count": 1,
   "metadata": {},
   "outputs": [],
   "source": [
    "# Library\n",
    "\n",
    "import pandas as pd\n",
    "import numpy as np\n",
    "\n",
    "# Visualization\n",
    "import matplotlib.pyplot as plt\n",
    "import seaborn as sns\n",
    "import missingno\n",
    "import plotly.express as px\n",
    "from IPython.display import display\n",
    "\n",
    "# Feature Engineering\n",
    "from sklearn.pipeline import Pipeline\n",
    "from sklearn.impute import SimpleImputer\n",
    "from sklearn.preprocessing import OneHotEncoder, LabelEncoder, OrdinalEncoder\n",
    "from sklearn.compose import ColumnTransformer\n",
    "from category_encoders import BinaryEncoder\n",
    "import category_encoders as ce\n",
    "from sklearn.preprocessing import FunctionTransformer\n",
    "\n",
    "# Model Selection\n",
    "from sklearn.linear_model import LogisticRegression\n",
    "from sklearn.tree import DecisionTreeClassifier\n",
    "from sklearn.model_selection import GridSearchCV,StratifiedKFold,train_test_split, cross_val_score\n",
    "from sklearn.metrics import classification_report, confusion_matrix\n",
    "from sklearn.neighbors import KNeighborsClassifier\n",
    "from sklearn.ensemble import RandomForestClassifier\n",
    "from xgboost import XGBClassifier\n",
    "import lightgbm as lgb\n",
    "from sklearn.metrics import f1_score, accuracy_score, recall_score, precision_score\n",
    "from sklearn.metrics import roc_curve, roc_auc_score\n",
    "from sklearn.preprocessing import MinMaxScaler\n",
    "\n",
    "# Imbalance Dataset\n",
    "from imblearn.pipeline import Pipeline\n",
    "from imblearn.over_sampling import RandomOverSampler\n",
    "from imblearn.over_sampling import SMOTE\n",
    "\n",
    "# Ignore Warning\n",
    "import sys\n",
    "import warnings\n",
    "if not sys.warnoptions:\n",
    "    warnings.simplefilter(\"ignore\")\n",
    "\n",
    "# Set max columns\n",
    "pd.set_option('display.max_columns', None)"
   ]
  },
  {
   "attachments": {},
   "cell_type": "markdown",
   "metadata": {},
   "source": [
    "# Hotel Customer Analytic : canceled booking\n",
    "\n",
    "### Created By : Ridlo Setiadeswan"
   ]
  },
  {
   "attachments": {},
   "cell_type": "markdown",
   "metadata": {},
   "source": [
    "# Business Problem Understanding"
   ]
  },
  {
   "attachments": {},
   "cell_type": "markdown",
   "metadata": {},
   "source": [
    "**Context**\n",
    "\n",
    "sebuah perusahaan hotel di portugal ingin menganalisa penyebab pelanggan yang melakukan pembatalan pemesanan. juga ingin untuk mengetahui pelanggan mana yang tepat dan tidak akan mengcancel.\n",
    "\n",
    "Target :\n",
    "\n",
    "0 : Pelanggan tetap melakukan Booking\n",
    "\n",
    "1 : pelanggan cancel"
   ]
  },
  {
   "attachments": {},
   "cell_type": "markdown",
   "metadata": {},
   "source": [
    "**Problem Statement :**\n",
    "\n",
    "pemesanan kamar yang berakhir di *cancel* akan membuat hotel merugi karena akan membuat kamar kosong dan tidak jadi memberikan *untung* kepada Hotel.\n",
    "Hotel ingin meningkatkan efisiensi penyaringan pelanggan dengan mengetahui pelanggan seperti apa yang memiliki kecenderungan akan membatalkan pemesanan.\n",
    "\n",
    "**Goals :**\n",
    "\n",
    "Maka berdasarkan permasalahan tersebut, Hotel ingin memiliki kemampuan untuk memprediksi kemungkinan pelanggan yang akan menginap/tidak, sehingga  dapat memfokuskan para customer yang akan menginap. dan juga, hotel ingin mengetahui faktor apa yang membuat seorang customer akan menginap/membatalkan pemesanannya. sehingga dapat membuat rencana yang lebih baik dalam mendekati pelanggan potensial\n",
    "\n",
    "**Analytic Approach :**\n",
    "\n",
    "Jadi yang akan saya lakukan adalah menganalisis data untuk menemukan pola yang membedakan pelanggan yang mau menginap dan yang tidak mau kemudian akan dibuatkan model klasifikasi yang akan membantu Hotel dalam memprediksi probabilitas pelanggan yang akan menginap atau tidak.\n",
    "\n",
    "**Metric Evaluation :**\n",
    "\n",
    "\n"
   ]
  },
  {
   "attachments": {},
   "cell_type": "markdown",
   "metadata": {},
   "source": [
    "Type 1 error : False Positive  (prediksi cancel realnya menginap)\n",
    "Konsekuensi: engagement dengan customer menurun karena customer yang akan menginap di prediksi cancel, namun sebenarnya tidak\n",
    "\n",
    "Type 2 error : False Negative  (prediksi menginap realnya cancel)\n",
    "Konsekuensi: keuntungan penyewaan kamar menurun karena kamar tidak jadi di sewa. \n",
    "\n",
    "Berdasarkan konsekuensinya, dibuatkan model yang dapat mengurangi kesalahan dalam memprediksi pelanggan cancel yang terdeteksi menjadi pelanggan tidak cancel. tanpa mengurangi engagement dengan customer yang memang akan menginap. menggunakan sesedikit mungkin false negative. jadi metric evaluation Utama yang akan saya gunakan adalah Roc auc. karena nilai ROC AUC menunjukan seberapa bisa model membedakan antara class positive dan negatif"
   ]
  },
  {
   "attachments": {},
   "cell_type": "markdown",
   "metadata": {},
   "source": [
    "# Data Understanding "
   ]
  },
  {
   "attachments": {},
   "cell_type": "markdown",
   "metadata": {},
   "source": [
    "Note : \n",
    "- Dataset tidak seimbang\n",
    "- terdapat 10 fitur dengan komposisi 5 fitur kategorikan dan 5 fitur Nominal. beberapa fitur dengan kardinalitas tinggi\n",
    "- Setiap baris data merepresentasikan informasi seorang customer yang sudah/ tidak jadi menginap pada sebuah hotel di portugal"
   ]
  },
  {
   "cell_type": "code",
   "execution_count": 2,
   "metadata": {},
   "outputs": [
    {
     "data": {
      "text/html": [
       "<div>\n",
       "<style scoped>\n",
       "    .dataframe tbody tr th:only-of-type {\n",
       "        vertical-align: middle;\n",
       "    }\n",
       "\n",
       "    .dataframe tbody tr th {\n",
       "        vertical-align: top;\n",
       "    }\n",
       "\n",
       "    .dataframe thead th {\n",
       "        text-align: right;\n",
       "    }\n",
       "</style>\n",
       "<table border=\"1\" class=\"dataframe\">\n",
       "  <thead>\n",
       "    <tr style=\"text-align: right;\">\n",
       "      <th></th>\n",
       "      <th>country</th>\n",
       "      <th>market_segment</th>\n",
       "      <th>previous_cancellations</th>\n",
       "      <th>booking_changes</th>\n",
       "      <th>deposit_type</th>\n",
       "      <th>days_in_waiting_list</th>\n",
       "      <th>customer_type</th>\n",
       "      <th>reserved_room_type</th>\n",
       "      <th>required_car_parking_spaces</th>\n",
       "      <th>total_of_special_requests</th>\n",
       "      <th>is_canceled</th>\n",
       "    </tr>\n",
       "  </thead>\n",
       "  <tbody>\n",
       "    <tr>\n",
       "      <th>0</th>\n",
       "      <td>IRL</td>\n",
       "      <td>Offline TA/TO</td>\n",
       "      <td>0</td>\n",
       "      <td>0</td>\n",
       "      <td>No Deposit</td>\n",
       "      <td>0</td>\n",
       "      <td>Transient-Party</td>\n",
       "      <td>A</td>\n",
       "      <td>0</td>\n",
       "      <td>0</td>\n",
       "      <td>0</td>\n",
       "    </tr>\n",
       "    <tr>\n",
       "      <th>1</th>\n",
       "      <td>FRA</td>\n",
       "      <td>Online TA</td>\n",
       "      <td>0</td>\n",
       "      <td>0</td>\n",
       "      <td>No Deposit</td>\n",
       "      <td>0</td>\n",
       "      <td>Transient</td>\n",
       "      <td>A</td>\n",
       "      <td>0</td>\n",
       "      <td>2</td>\n",
       "      <td>0</td>\n",
       "    </tr>\n",
       "    <tr>\n",
       "      <th>2</th>\n",
       "      <td>PRT</td>\n",
       "      <td>Online TA</td>\n",
       "      <td>0</td>\n",
       "      <td>1</td>\n",
       "      <td>No Deposit</td>\n",
       "      <td>0</td>\n",
       "      <td>Transient</td>\n",
       "      <td>A</td>\n",
       "      <td>0</td>\n",
       "      <td>2</td>\n",
       "      <td>0</td>\n",
       "    </tr>\n",
       "    <tr>\n",
       "      <th>3</th>\n",
       "      <td>NLD</td>\n",
       "      <td>Online TA</td>\n",
       "      <td>0</td>\n",
       "      <td>0</td>\n",
       "      <td>No Deposit</td>\n",
       "      <td>0</td>\n",
       "      <td>Transient</td>\n",
       "      <td>A</td>\n",
       "      <td>0</td>\n",
       "      <td>1</td>\n",
       "      <td>1</td>\n",
       "    </tr>\n",
       "    <tr>\n",
       "      <th>4</th>\n",
       "      <td>PRT</td>\n",
       "      <td>Online TA</td>\n",
       "      <td>0</td>\n",
       "      <td>2</td>\n",
       "      <td>No Deposit</td>\n",
       "      <td>0</td>\n",
       "      <td>Transient</td>\n",
       "      <td>A</td>\n",
       "      <td>0</td>\n",
       "      <td>2</td>\n",
       "      <td>0</td>\n",
       "    </tr>\n",
       "  </tbody>\n",
       "</table>\n",
       "</div>"
      ],
      "text/plain": [
       "  country market_segment  previous_cancellations  booking_changes  \\\n",
       "0     IRL  Offline TA/TO                       0                0   \n",
       "1     FRA      Online TA                       0                0   \n",
       "2     PRT      Online TA                       0                1   \n",
       "3     NLD      Online TA                       0                0   \n",
       "4     PRT      Online TA                       0                2   \n",
       "\n",
       "  deposit_type  days_in_waiting_list    customer_type reserved_room_type  \\\n",
       "0   No Deposit                     0  Transient-Party                  A   \n",
       "1   No Deposit                     0        Transient                  A   \n",
       "2   No Deposit                     0        Transient                  A   \n",
       "3   No Deposit                     0        Transient                  A   \n",
       "4   No Deposit                     0        Transient                  A   \n",
       "\n",
       "   required_car_parking_spaces  total_of_special_requests  is_canceled  \n",
       "0                            0                          0            0  \n",
       "1                            0                          2            0  \n",
       "2                            0                          2            0  \n",
       "3                            0                          1            1  \n",
       "4                            0                          2            0  "
      ]
     },
     "execution_count": 2,
     "metadata": {},
     "output_type": "execute_result"
    }
   ],
   "source": [
    "#Load Dataset\n",
    "df = pd.read_csv(\"data_hotel_booking_demand.csv\")\n",
    "df.head()"
   ]
  },
  {
   "cell_type": "code",
   "execution_count": 3,
   "metadata": {},
   "outputs": [
    {
     "name": "stdout",
     "output_type": "stream",
     "text": [
      "<class 'pandas.core.frame.DataFrame'>\n",
      "RangeIndex: 83573 entries, 0 to 83572\n",
      "Data columns (total 11 columns):\n",
      " #   Column                       Non-Null Count  Dtype \n",
      "---  ------                       --------------  ----- \n",
      " 0   country                      83222 non-null  object\n",
      " 1   market_segment               83573 non-null  object\n",
      " 2   previous_cancellations       83573 non-null  int64 \n",
      " 3   booking_changes              83573 non-null  int64 \n",
      " 4   deposit_type                 83573 non-null  object\n",
      " 5   days_in_waiting_list         83573 non-null  int64 \n",
      " 6   customer_type                83573 non-null  object\n",
      " 7   reserved_room_type           83573 non-null  object\n",
      " 8   required_car_parking_spaces  83573 non-null  int64 \n",
      " 9   total_of_special_requests    83573 non-null  int64 \n",
      " 10  is_canceled                  83573 non-null  int64 \n",
      "dtypes: int64(6), object(5)\n",
      "memory usage: 7.0+ MB\n"
     ]
    }
   ],
   "source": [
    "df.info()"
   ]
  },
  {
   "cell_type": "code",
   "execution_count": 4,
   "metadata": {},
   "outputs": [
    {
     "data": {
      "text/html": [
       "<div>\n",
       "<style scoped>\n",
       "    .dataframe tbody tr th:only-of-type {\n",
       "        vertical-align: middle;\n",
       "    }\n",
       "\n",
       "    .dataframe tbody tr th {\n",
       "        vertical-align: top;\n",
       "    }\n",
       "\n",
       "    .dataframe thead th {\n",
       "        text-align: right;\n",
       "    }\n",
       "</style>\n",
       "<table border=\"1\" class=\"dataframe\">\n",
       "  <thead>\n",
       "    <tr style=\"text-align: right;\">\n",
       "      <th></th>\n",
       "      <th>previous_cancellations</th>\n",
       "      <th>booking_changes</th>\n",
       "      <th>days_in_waiting_list</th>\n",
       "      <th>required_car_parking_spaces</th>\n",
       "      <th>total_of_special_requests</th>\n",
       "      <th>is_canceled</th>\n",
       "    </tr>\n",
       "  </thead>\n",
       "  <tbody>\n",
       "    <tr>\n",
       "      <th>count</th>\n",
       "      <td>83573.000000</td>\n",
       "      <td>83573.000000</td>\n",
       "      <td>83573.000000</td>\n",
       "      <td>83573.000000</td>\n",
       "      <td>83573.000000</td>\n",
       "      <td>83573.000000</td>\n",
       "    </tr>\n",
       "    <tr>\n",
       "      <th>mean</th>\n",
       "      <td>0.086798</td>\n",
       "      <td>0.220897</td>\n",
       "      <td>2.330561</td>\n",
       "      <td>0.062999</td>\n",
       "      <td>0.573211</td>\n",
       "      <td>0.368277</td>\n",
       "    </tr>\n",
       "    <tr>\n",
       "      <th>std</th>\n",
       "      <td>0.841011</td>\n",
       "      <td>0.648635</td>\n",
       "      <td>17.673051</td>\n",
       "      <td>0.246919</td>\n",
       "      <td>0.795163</td>\n",
       "      <td>0.482340</td>\n",
       "    </tr>\n",
       "    <tr>\n",
       "      <th>min</th>\n",
       "      <td>0.000000</td>\n",
       "      <td>0.000000</td>\n",
       "      <td>0.000000</td>\n",
       "      <td>0.000000</td>\n",
       "      <td>0.000000</td>\n",
       "      <td>0.000000</td>\n",
       "    </tr>\n",
       "    <tr>\n",
       "      <th>25%</th>\n",
       "      <td>0.000000</td>\n",
       "      <td>0.000000</td>\n",
       "      <td>0.000000</td>\n",
       "      <td>0.000000</td>\n",
       "      <td>0.000000</td>\n",
       "      <td>0.000000</td>\n",
       "    </tr>\n",
       "    <tr>\n",
       "      <th>50%</th>\n",
       "      <td>0.000000</td>\n",
       "      <td>0.000000</td>\n",
       "      <td>0.000000</td>\n",
       "      <td>0.000000</td>\n",
       "      <td>0.000000</td>\n",
       "      <td>0.000000</td>\n",
       "    </tr>\n",
       "    <tr>\n",
       "      <th>75%</th>\n",
       "      <td>0.000000</td>\n",
       "      <td>0.000000</td>\n",
       "      <td>0.000000</td>\n",
       "      <td>0.000000</td>\n",
       "      <td>1.000000</td>\n",
       "      <td>1.000000</td>\n",
       "    </tr>\n",
       "    <tr>\n",
       "      <th>max</th>\n",
       "      <td>26.000000</td>\n",
       "      <td>21.000000</td>\n",
       "      <td>391.000000</td>\n",
       "      <td>8.000000</td>\n",
       "      <td>5.000000</td>\n",
       "      <td>1.000000</td>\n",
       "    </tr>\n",
       "  </tbody>\n",
       "</table>\n",
       "</div>"
      ],
      "text/plain": [
       "       previous_cancellations  booking_changes  days_in_waiting_list  \\\n",
       "count            83573.000000     83573.000000          83573.000000   \n",
       "mean                 0.086798         0.220897              2.330561   \n",
       "std                  0.841011         0.648635             17.673051   \n",
       "min                  0.000000         0.000000              0.000000   \n",
       "25%                  0.000000         0.000000              0.000000   \n",
       "50%                  0.000000         0.000000              0.000000   \n",
       "75%                  0.000000         0.000000              0.000000   \n",
       "max                 26.000000        21.000000            391.000000   \n",
       "\n",
       "       required_car_parking_spaces  total_of_special_requests   is_canceled  \n",
       "count                 83573.000000               83573.000000  83573.000000  \n",
       "mean                      0.062999                   0.573211      0.368277  \n",
       "std                       0.246919                   0.795163      0.482340  \n",
       "min                       0.000000                   0.000000      0.000000  \n",
       "25%                       0.000000                   0.000000      0.000000  \n",
       "50%                       0.000000                   0.000000      0.000000  \n",
       "75%                       0.000000                   1.000000      1.000000  \n",
       "max                       8.000000                   5.000000      1.000000  "
      ]
     },
     "metadata": {},
     "output_type": "display_data"
    },
    {
     "data": {
      "text/html": [
       "<div>\n",
       "<style scoped>\n",
       "    .dataframe tbody tr th:only-of-type {\n",
       "        vertical-align: middle;\n",
       "    }\n",
       "\n",
       "    .dataframe tbody tr th {\n",
       "        vertical-align: top;\n",
       "    }\n",
       "\n",
       "    .dataframe thead th {\n",
       "        text-align: right;\n",
       "    }\n",
       "</style>\n",
       "<table border=\"1\" class=\"dataframe\">\n",
       "  <thead>\n",
       "    <tr style=\"text-align: right;\">\n",
       "      <th></th>\n",
       "      <th>country</th>\n",
       "      <th>market_segment</th>\n",
       "      <th>deposit_type</th>\n",
       "      <th>customer_type</th>\n",
       "      <th>reserved_room_type</th>\n",
       "    </tr>\n",
       "  </thead>\n",
       "  <tbody>\n",
       "    <tr>\n",
       "      <th>count</th>\n",
       "      <td>83222</td>\n",
       "      <td>83573</td>\n",
       "      <td>83573</td>\n",
       "      <td>83573</td>\n",
       "      <td>83573</td>\n",
       "    </tr>\n",
       "    <tr>\n",
       "      <th>unique</th>\n",
       "      <td>162</td>\n",
       "      <td>8</td>\n",
       "      <td>3</td>\n",
       "      <td>4</td>\n",
       "      <td>10</td>\n",
       "    </tr>\n",
       "    <tr>\n",
       "      <th>top</th>\n",
       "      <td>PRT</td>\n",
       "      <td>Online TA</td>\n",
       "      <td>No Deposit</td>\n",
       "      <td>Transient</td>\n",
       "      <td>A</td>\n",
       "    </tr>\n",
       "    <tr>\n",
       "      <th>freq</th>\n",
       "      <td>34097</td>\n",
       "      <td>39460</td>\n",
       "      <td>73352</td>\n",
       "      <td>62732</td>\n",
       "      <td>60041</td>\n",
       "    </tr>\n",
       "  </tbody>\n",
       "</table>\n",
       "</div>"
      ],
      "text/plain": [
       "       country market_segment deposit_type customer_type reserved_room_type\n",
       "count    83222          83573        83573         83573              83573\n",
       "unique     162              8            3             4                 10\n",
       "top        PRT      Online TA   No Deposit     Transient                  A\n",
       "freq     34097          39460        73352         62732              60041"
      ]
     },
     "metadata": {},
     "output_type": "display_data"
    }
   ],
   "source": [
    "display(df.describe(), df.describe(include='object'))"
   ]
  },
  {
   "attachments": {},
   "cell_type": "markdown",
   "metadata": {},
   "source": [
    "# Data Cleaning"
   ]
  },
  {
   "cell_type": "markdown",
   "metadata": {},
   "source": [
    "data yang hilang, kesalahan input pada data, tidak bisa di cek duplikat karena tidak ada id yang membedakan antara 1 data dengan lainya maka semua data dianggap unik."
   ]
  },
  {
   "cell_type": "code",
   "execution_count": 5,
   "metadata": {},
   "outputs": [
    {
     "data": {
      "text/html": [
       "<div>\n",
       "<style scoped>\n",
       "    .dataframe tbody tr th:only-of-type {\n",
       "        vertical-align: middle;\n",
       "    }\n",
       "\n",
       "    .dataframe tbody tr th {\n",
       "        vertical-align: top;\n",
       "    }\n",
       "\n",
       "    .dataframe thead th {\n",
       "        text-align: right;\n",
       "    }\n",
       "</style>\n",
       "<table border=\"1\" class=\"dataframe\">\n",
       "  <thead>\n",
       "    <tr style=\"text-align: right;\">\n",
       "      <th></th>\n",
       "      <th>dataFeatures</th>\n",
       "      <th>dataType</th>\n",
       "      <th>null</th>\n",
       "      <th>nullPct</th>\n",
       "      <th>unique</th>\n",
       "      <th>uniqueSample</th>\n",
       "    </tr>\n",
       "  </thead>\n",
       "  <tbody>\n",
       "    <tr>\n",
       "      <th>0</th>\n",
       "      <td>country</td>\n",
       "      <td>object</td>\n",
       "      <td>351</td>\n",
       "      <td>0.42</td>\n",
       "      <td>162</td>\n",
       "      <td>[MDV, IND]</td>\n",
       "    </tr>\n",
       "    <tr>\n",
       "      <th>1</th>\n",
       "      <td>market_segment</td>\n",
       "      <td>object</td>\n",
       "      <td>0</td>\n",
       "      <td>0.00</td>\n",
       "      <td>8</td>\n",
       "      <td>[Online TA, Aviation]</td>\n",
       "    </tr>\n",
       "    <tr>\n",
       "      <th>2</th>\n",
       "      <td>previous_cancellations</td>\n",
       "      <td>int64</td>\n",
       "      <td>0</td>\n",
       "      <td>0.00</td>\n",
       "      <td>15</td>\n",
       "      <td>[0, 11]</td>\n",
       "    </tr>\n",
       "    <tr>\n",
       "      <th>3</th>\n",
       "      <td>booking_changes</td>\n",
       "      <td>int64</td>\n",
       "      <td>0</td>\n",
       "      <td>0.00</td>\n",
       "      <td>19</td>\n",
       "      <td>[4, 9]</td>\n",
       "    </tr>\n",
       "    <tr>\n",
       "      <th>4</th>\n",
       "      <td>deposit_type</td>\n",
       "      <td>object</td>\n",
       "      <td>0</td>\n",
       "      <td>0.00</td>\n",
       "      <td>3</td>\n",
       "      <td>[Refundable, No Deposit]</td>\n",
       "    </tr>\n",
       "    <tr>\n",
       "      <th>5</th>\n",
       "      <td>days_in_waiting_list</td>\n",
       "      <td>int64</td>\n",
       "      <td>0</td>\n",
       "      <td>0.00</td>\n",
       "      <td>115</td>\n",
       "      <td>[174, 100]</td>\n",
       "    </tr>\n",
       "    <tr>\n",
       "      <th>6</th>\n",
       "      <td>customer_type</td>\n",
       "      <td>object</td>\n",
       "      <td>0</td>\n",
       "      <td>0.00</td>\n",
       "      <td>4</td>\n",
       "      <td>[Group, Transient]</td>\n",
       "    </tr>\n",
       "    <tr>\n",
       "      <th>7</th>\n",
       "      <td>reserved_room_type</td>\n",
       "      <td>object</td>\n",
       "      <td>0</td>\n",
       "      <td>0.00</td>\n",
       "      <td>10</td>\n",
       "      <td>[B, C]</td>\n",
       "    </tr>\n",
       "    <tr>\n",
       "      <th>8</th>\n",
       "      <td>required_car_parking_spaces</td>\n",
       "      <td>int64</td>\n",
       "      <td>0</td>\n",
       "      <td>0.00</td>\n",
       "      <td>5</td>\n",
       "      <td>[8, 2]</td>\n",
       "    </tr>\n",
       "    <tr>\n",
       "      <th>9</th>\n",
       "      <td>total_of_special_requests</td>\n",
       "      <td>int64</td>\n",
       "      <td>0</td>\n",
       "      <td>0.00</td>\n",
       "      <td>6</td>\n",
       "      <td>[2, 4]</td>\n",
       "    </tr>\n",
       "    <tr>\n",
       "      <th>10</th>\n",
       "      <td>is_canceled</td>\n",
       "      <td>int64</td>\n",
       "      <td>0</td>\n",
       "      <td>0.00</td>\n",
       "      <td>2</td>\n",
       "      <td>[1, 0]</td>\n",
       "    </tr>\n",
       "  </tbody>\n",
       "</table>\n",
       "</div>"
      ],
      "text/plain": [
       "                   dataFeatures dataType  null  nullPct  unique  \\\n",
       "0                       country   object   351     0.42     162   \n",
       "1                market_segment   object     0     0.00       8   \n",
       "2        previous_cancellations    int64     0     0.00      15   \n",
       "3               booking_changes    int64     0     0.00      19   \n",
       "4                  deposit_type   object     0     0.00       3   \n",
       "5          days_in_waiting_list    int64     0     0.00     115   \n",
       "6                 customer_type   object     0     0.00       4   \n",
       "7            reserved_room_type   object     0     0.00      10   \n",
       "8   required_car_parking_spaces    int64     0     0.00       5   \n",
       "9     total_of_special_requests    int64     0     0.00       6   \n",
       "10                  is_canceled    int64     0     0.00       2   \n",
       "\n",
       "                uniqueSample  \n",
       "0                 [MDV, IND]  \n",
       "1      [Online TA, Aviation]  \n",
       "2                    [0, 11]  \n",
       "3                     [4, 9]  \n",
       "4   [Refundable, No Deposit]  \n",
       "5                 [174, 100]  \n",
       "6         [Group, Transient]  \n",
       "7                     [B, C]  \n",
       "8                     [8, 2]  \n",
       "9                     [2, 4]  \n",
       "10                    [1, 0]  "
      ]
     },
     "execution_count": 5,
     "metadata": {},
     "output_type": "execute_result"
    }
   ],
   "source": [
    "listItem = []\n",
    "for col in df.columns :\n",
    "    listItem.append([col, df[col].dtype, df[col].isna().sum(), round((df[col].isna().sum()/len(df[col])) * 100,2),\n",
    "                    df[col].nunique(), list(df[col].drop_duplicates().sample(2).values)]);\n",
    "\n",
    "dfDesc = pd.DataFrame(columns=['dataFeatures', 'dataType', 'null', 'nullPct', 'unique', 'uniqueSample'],\n",
    "                     data=listItem)\n",
    "dfDesc"
   ]
  },
  {
   "cell_type": "code",
   "execution_count": 6,
   "metadata": {},
   "outputs": [
    {
     "data": {
      "image/png": "[encoded data removed]",
      "text/plain": [
       "<Figure size 1000x500 with 3 Axes>"
      ]
     },
     "metadata": {},
     "output_type": "display_data"
    }
   ],
   "source": [
    "missingno.bar(df,color=\"dodgerblue\", sort=\"ascending\", figsize=(10,5), fontsize=12);"
   ]
  },
  {
   "cell_type": "code",
   "execution_count": 7,
   "metadata": {},
   "outputs": [
    {
     "data": {
      "text/plain": [
       "array(['IRL', 'FRA', 'PRT', 'NLD', 'ESP', 'UMI', 'CN', 'LUX', 'BRA',\n",
       "       'BEL', 'JPN', 'DEU', 'ITA', 'CHE', 'GBR', 'AGO', 'SRB', 'COL',\n",
       "       'CHN', 'SWE', 'AUT', 'CIV', 'CZE', 'POL', 'USA', 'SGP', 'RUS',\n",
       "       'ROU', 'DNK', 'IND', 'MAR', 'PHL', 'ARG', 'ISL', 'ZAF', 'LBN',\n",
       "       'MOZ', 'TUR', 'BGD', 'MEX', 'CAF', 'NOR', 'FIN', 'UKR', 'EGY',\n",
       "       'ISR', nan, 'KOR', 'AZE', 'HUN', 'AUS', 'EST', 'CHL', 'SVN', 'PRY',\n",
       "       'ABW', 'ALB', 'LTU', 'ARE', 'HRV', 'SAU', 'NZL', 'LVA', 'ATA',\n",
       "       'KAZ', 'DZA', 'TWN', 'CRI', 'BIH', 'BGR', 'IRQ', 'OMN', 'VEN',\n",
       "       'IDN', 'GEO', 'MLT', 'IRN', 'BLR', 'URY', 'LBY', 'TUN', 'BEN',\n",
       "       'MYS', 'MWI', 'GRC', 'CYP', 'CPV', 'HKG', 'PRI', 'MKD', 'MUS',\n",
       "       'IMN', 'PAN', 'NGA', 'GLP', 'KHM', 'PER', 'QAT', 'SEN', 'MAC',\n",
       "       'SVK', 'BHR', 'ECU', 'SYC', 'BOL', 'TJK', 'LCA', 'MDV', 'SYR',\n",
       "       'ZMB', 'LIE', 'THA', 'MNE', 'BRB', 'CMR', 'JEY', 'GTM', 'LKA',\n",
       "       'JOR', 'TZA', 'AND', 'ARM', 'GIB', 'VNM', 'PAK', 'JAM', 'DOM',\n",
       "       'KWT', 'LAO', 'RWA', 'FRO', 'GAB', 'ETH', 'CUB', 'COM', 'GNB',\n",
       "       'GGY', 'NIC', 'TGO', 'TMP', 'CYM', 'GHA', 'SLE', 'BWA', 'NCL',\n",
       "       'UZB', 'SUR', 'SDN', 'PLW', 'MLI', 'MMR', 'BFA', 'SLV', 'BDI',\n",
       "       'ZWE', 'UGA', 'DMA', 'VGB', 'KIR', 'KEN', 'MYT', 'KNA', 'AIA'],\n",
       "      dtype=object)"
      ]
     },
     "execution_count": 7,
     "metadata": {},
     "output_type": "execute_result"
    }
   ],
   "source": [
    "df['country'].unique()"
   ]
  },
  {
   "cell_type": "code",
   "execution_count": 8,
   "metadata": {},
   "outputs": [
    {
     "name": "stdout",
     "output_type": "stream",
     "text": [
      "PRT    34097\n",
      "GBR     8495\n",
      "FRA     7307\n",
      "ESP     5996\n",
      "DEU     5116\n",
      "       ...  \n",
      "ZMB        1\n",
      "LCA        1\n",
      "SYC        1\n",
      "GLP        1\n",
      "AIA        1\n",
      "Name: country, Length: 162, dtype: int64\n"
     ]
    }
   ],
   "source": [
    "Country_counts = df['country'].value_counts()\n",
    "\n",
    "\n",
    "# Print the percentage of each value\n",
    "print(Country_counts)"
   ]
  },
  {
   "cell_type": "code",
   "execution_count": 9,
   "metadata": {},
   "outputs": [
    {
     "name": "stdout",
     "output_type": "stream",
     "text": [
      "PRT    40.971137\n",
      "GBR    10.207637\n",
      "FRA     8.780130\n",
      "ESP     7.204826\n",
      "DEU     6.147413\n",
      "         ...    \n",
      "ZMB     0.001202\n",
      "LCA     0.001202\n",
      "SYC     0.001202\n",
      "GLP     0.001202\n",
      "AIA     0.001202\n",
      "Name: country, Length: 162, dtype: float64\n"
     ]
    }
   ],
   "source": [
    "Country_counts = df['country'].value_counts()\n",
    "Country_counts_percent = Country_counts / Country_counts.sum() * 100\n",
    "\n",
    "# Print the percentage of each value\n",
    "print(Country_counts_percent)"
   ]
  },
  {
   "cell_type": "code",
   "execution_count": 10,
   "metadata": {},
   "outputs": [],
   "source": [
    "df['country'].fillna('PRT', inplace=True)\n"
   ]
  },
  {
   "attachments": {},
   "cell_type": "markdown",
   "metadata": {},
   "source": [
    "pembuatan persentase diatas dikarenakan saya hendak mengisi data null dengan data terbanyak. yang didasari :\n",
    "\n",
    "1. apabila dia datang dari negara portugal/ ditempat hotel tersebut berada maka ada asumsi dimana pelanggan akan cenderung tidak mengisi, ini berdasarkan pengalaman pribadi saya..\n",
    "\n",
    "2. jika dilihat dari persentase data diatas dapat dilihat bahwa 40 persen data pelanggan yang datang adalah pelanggan yang berasal dari portugal.\n",
    "\n",
    "maka dari itu saya akan mengisi data null tersebut dengan PRT(portugal)\n",
    "dengan asumsi pengisian data ini tidak akan mengubah kecenderungan data secara signifikan."
   ]
  },
  {
   "cell_type": "code",
   "execution_count": 11,
   "metadata": {},
   "outputs": [
    {
     "data": {
      "text/html": [
       "<div>\n",
       "<style scoped>\n",
       "    .dataframe tbody tr th:only-of-type {\n",
       "        vertical-align: middle;\n",
       "    }\n",
       "\n",
       "    .dataframe tbody tr th {\n",
       "        vertical-align: top;\n",
       "    }\n",
       "\n",
       "    .dataframe thead th {\n",
       "        text-align: right;\n",
       "    }\n",
       "</style>\n",
       "<table border=\"1\" class=\"dataframe\">\n",
       "  <thead>\n",
       "    <tr style=\"text-align: right;\">\n",
       "      <th></th>\n",
       "      <th>dataFeatures</th>\n",
       "      <th>dataType</th>\n",
       "      <th>null</th>\n",
       "      <th>nullPct</th>\n",
       "      <th>unique</th>\n",
       "      <th>uniqueSample</th>\n",
       "    </tr>\n",
       "  </thead>\n",
       "  <tbody>\n",
       "    <tr>\n",
       "      <th>0</th>\n",
       "      <td>country</td>\n",
       "      <td>object</td>\n",
       "      <td>0</td>\n",
       "      <td>0.0</td>\n",
       "      <td>162</td>\n",
       "      <td>[PLW, GIB]</td>\n",
       "    </tr>\n",
       "    <tr>\n",
       "      <th>1</th>\n",
       "      <td>market_segment</td>\n",
       "      <td>object</td>\n",
       "      <td>0</td>\n",
       "      <td>0.0</td>\n",
       "      <td>8</td>\n",
       "      <td>[Groups, Complementary]</td>\n",
       "    </tr>\n",
       "    <tr>\n",
       "      <th>2</th>\n",
       "      <td>previous_cancellations</td>\n",
       "      <td>int64</td>\n",
       "      <td>0</td>\n",
       "      <td>0.0</td>\n",
       "      <td>15</td>\n",
       "      <td>[0, 26]</td>\n",
       "    </tr>\n",
       "    <tr>\n",
       "      <th>3</th>\n",
       "      <td>booking_changes</td>\n",
       "      <td>int64</td>\n",
       "      <td>0</td>\n",
       "      <td>0.0</td>\n",
       "      <td>19</td>\n",
       "      <td>[10, 1]</td>\n",
       "    </tr>\n",
       "    <tr>\n",
       "      <th>4</th>\n",
       "      <td>deposit_type</td>\n",
       "      <td>object</td>\n",
       "      <td>0</td>\n",
       "      <td>0.0</td>\n",
       "      <td>3</td>\n",
       "      <td>[No Deposit, Non Refund]</td>\n",
       "    </tr>\n",
       "    <tr>\n",
       "      <th>5</th>\n",
       "      <td>days_in_waiting_list</td>\n",
       "      <td>int64</td>\n",
       "      <td>0</td>\n",
       "      <td>0.0</td>\n",
       "      <td>115</td>\n",
       "      <td>[5, 87]</td>\n",
       "    </tr>\n",
       "    <tr>\n",
       "      <th>6</th>\n",
       "      <td>customer_type</td>\n",
       "      <td>object</td>\n",
       "      <td>0</td>\n",
       "      <td>0.0</td>\n",
       "      <td>4</td>\n",
       "      <td>[Transient-Party, Contract]</td>\n",
       "    </tr>\n",
       "    <tr>\n",
       "      <th>7</th>\n",
       "      <td>reserved_room_type</td>\n",
       "      <td>object</td>\n",
       "      <td>0</td>\n",
       "      <td>0.0</td>\n",
       "      <td>10</td>\n",
       "      <td>[H, D]</td>\n",
       "    </tr>\n",
       "    <tr>\n",
       "      <th>8</th>\n",
       "      <td>required_car_parking_spaces</td>\n",
       "      <td>int64</td>\n",
       "      <td>0</td>\n",
       "      <td>0.0</td>\n",
       "      <td>5</td>\n",
       "      <td>[3, 0]</td>\n",
       "    </tr>\n",
       "    <tr>\n",
       "      <th>9</th>\n",
       "      <td>total_of_special_requests</td>\n",
       "      <td>int64</td>\n",
       "      <td>0</td>\n",
       "      <td>0.0</td>\n",
       "      <td>6</td>\n",
       "      <td>[4, 2]</td>\n",
       "    </tr>\n",
       "    <tr>\n",
       "      <th>10</th>\n",
       "      <td>is_canceled</td>\n",
       "      <td>int64</td>\n",
       "      <td>0</td>\n",
       "      <td>0.0</td>\n",
       "      <td>2</td>\n",
       "      <td>[1, 0]</td>\n",
       "    </tr>\n",
       "  </tbody>\n",
       "</table>\n",
       "</div>"
      ],
      "text/plain": [
       "                   dataFeatures dataType  null  nullPct  unique  \\\n",
       "0                       country   object     0      0.0     162   \n",
       "1                market_segment   object     0      0.0       8   \n",
       "2        previous_cancellations    int64     0      0.0      15   \n",
       "3               booking_changes    int64     0      0.0      19   \n",
       "4                  deposit_type   object     0      0.0       3   \n",
       "5          days_in_waiting_list    int64     0      0.0     115   \n",
       "6                 customer_type   object     0      0.0       4   \n",
       "7            reserved_room_type   object     0      0.0      10   \n",
       "8   required_car_parking_spaces    int64     0      0.0       5   \n",
       "9     total_of_special_requests    int64     0      0.0       6   \n",
       "10                  is_canceled    int64     0      0.0       2   \n",
       "\n",
       "                   uniqueSample  \n",
       "0                    [PLW, GIB]  \n",
       "1       [Groups, Complementary]  \n",
       "2                       [0, 26]  \n",
       "3                       [10, 1]  \n",
       "4      [No Deposit, Non Refund]  \n",
       "5                       [5, 87]  \n",
       "6   [Transient-Party, Contract]  \n",
       "7                        [H, D]  \n",
       "8                        [3, 0]  \n",
       "9                        [4, 2]  \n",
       "10                       [1, 0]  "
      ]
     },
     "execution_count": 11,
     "metadata": {},
     "output_type": "execute_result"
    }
   ],
   "source": [
    "listItem = []\n",
    "for col in df.columns :\n",
    "    listItem.append([col, df[col].dtype, df[col].isna().sum(), round((df[col].isna().sum()/len(df[col])) * 100,2),\n",
    "                    df[col].nunique(), list(df[col].drop_duplicates().sample(2).values)]);\n",
    "\n",
    "dfDesc = pd.DataFrame(columns=['dataFeatures', 'dataType', 'null', 'nullPct', 'unique', 'uniqueSample'],\n",
    "                     data=listItem)\n",
    "dfDesc"
   ]
  },
  {
   "cell_type": "code",
   "execution_count": 12,
   "metadata": {},
   "outputs": [
    {
     "data": {
      "text/html": [
       "<div>\n",
       "<style scoped>\n",
       "    .dataframe tbody tr th:only-of-type {\n",
       "        vertical-align: middle;\n",
       "    }\n",
       "\n",
       "    .dataframe tbody tr th {\n",
       "        vertical-align: top;\n",
       "    }\n",
       "\n",
       "    .dataframe thead th {\n",
       "        text-align: right;\n",
       "    }\n",
       "</style>\n",
       "<table border=\"1\" class=\"dataframe\">\n",
       "  <thead>\n",
       "    <tr style=\"text-align: right;\">\n",
       "      <th></th>\n",
       "      <th>country</th>\n",
       "      <th>market_segment</th>\n",
       "      <th>deposit_type</th>\n",
       "      <th>customer_type</th>\n",
       "      <th>reserved_room_type</th>\n",
       "    </tr>\n",
       "  </thead>\n",
       "  <tbody>\n",
       "    <tr>\n",
       "      <th>count</th>\n",
       "      <td>83573</td>\n",
       "      <td>83573</td>\n",
       "      <td>83573</td>\n",
       "      <td>83573</td>\n",
       "      <td>83573</td>\n",
       "    </tr>\n",
       "    <tr>\n",
       "      <th>unique</th>\n",
       "      <td>162</td>\n",
       "      <td>8</td>\n",
       "      <td>3</td>\n",
       "      <td>4</td>\n",
       "      <td>10</td>\n",
       "    </tr>\n",
       "    <tr>\n",
       "      <th>top</th>\n",
       "      <td>PRT</td>\n",
       "      <td>Online TA</td>\n",
       "      <td>No Deposit</td>\n",
       "      <td>Transient</td>\n",
       "      <td>A</td>\n",
       "    </tr>\n",
       "    <tr>\n",
       "      <th>freq</th>\n",
       "      <td>34448</td>\n",
       "      <td>39460</td>\n",
       "      <td>73352</td>\n",
       "      <td>62732</td>\n",
       "      <td>60041</td>\n",
       "    </tr>\n",
       "  </tbody>\n",
       "</table>\n",
       "</div>"
      ],
      "text/plain": [
       "       country market_segment deposit_type customer_type reserved_room_type\n",
       "count    83573          83573        83573         83573              83573\n",
       "unique     162              8            3             4                 10\n",
       "top        PRT      Online TA   No Deposit     Transient                  A\n",
       "freq     34448          39460        73352         62732              60041"
      ]
     },
     "execution_count": 12,
     "metadata": {},
     "output_type": "execute_result"
    }
   ],
   "source": [
    "df.describe(include=['O'])"
   ]
  },
  {
   "cell_type": "code",
   "execution_count": 13,
   "metadata": {},
   "outputs": [
    {
     "data": {
      "text/html": [
       "<div>\n",
       "<style scoped>\n",
       "    .dataframe tbody tr th:only-of-type {\n",
       "        vertical-align: middle;\n",
       "    }\n",
       "\n",
       "    .dataframe tbody tr th {\n",
       "        vertical-align: top;\n",
       "    }\n",
       "\n",
       "    .dataframe thead th {\n",
       "        text-align: right;\n",
       "    }\n",
       "</style>\n",
       "<table border=\"1\" class=\"dataframe\">\n",
       "  <thead>\n",
       "    <tr style=\"text-align: right;\">\n",
       "      <th></th>\n",
       "      <th>previous_cancellations</th>\n",
       "      <th>booking_changes</th>\n",
       "      <th>days_in_waiting_list</th>\n",
       "      <th>required_car_parking_spaces</th>\n",
       "      <th>total_of_special_requests</th>\n",
       "      <th>is_canceled</th>\n",
       "    </tr>\n",
       "  </thead>\n",
       "  <tbody>\n",
       "    <tr>\n",
       "      <th>count</th>\n",
       "      <td>83573.000000</td>\n",
       "      <td>83573.000000</td>\n",
       "      <td>83573.000000</td>\n",
       "      <td>83573.000000</td>\n",
       "      <td>83573.000000</td>\n",
       "      <td>83573.000000</td>\n",
       "    </tr>\n",
       "    <tr>\n",
       "      <th>mean</th>\n",
       "      <td>0.086798</td>\n",
       "      <td>0.220897</td>\n",
       "      <td>2.330561</td>\n",
       "      <td>0.062999</td>\n",
       "      <td>0.573211</td>\n",
       "      <td>0.368277</td>\n",
       "    </tr>\n",
       "    <tr>\n",
       "      <th>std</th>\n",
       "      <td>0.841011</td>\n",
       "      <td>0.648635</td>\n",
       "      <td>17.673051</td>\n",
       "      <td>0.246919</td>\n",
       "      <td>0.795163</td>\n",
       "      <td>0.482340</td>\n",
       "    </tr>\n",
       "    <tr>\n",
       "      <th>min</th>\n",
       "      <td>0.000000</td>\n",
       "      <td>0.000000</td>\n",
       "      <td>0.000000</td>\n",
       "      <td>0.000000</td>\n",
       "      <td>0.000000</td>\n",
       "      <td>0.000000</td>\n",
       "    </tr>\n",
       "    <tr>\n",
       "      <th>25%</th>\n",
       "      <td>0.000000</td>\n",
       "      <td>0.000000</td>\n",
       "      <td>0.000000</td>\n",
       "      <td>0.000000</td>\n",
       "      <td>0.000000</td>\n",
       "      <td>0.000000</td>\n",
       "    </tr>\n",
       "    <tr>\n",
       "      <th>50%</th>\n",
       "      <td>0.000000</td>\n",
       "      <td>0.000000</td>\n",
       "      <td>0.000000</td>\n",
       "      <td>0.000000</td>\n",
       "      <td>0.000000</td>\n",
       "      <td>0.000000</td>\n",
       "    </tr>\n",
       "    <tr>\n",
       "      <th>75%</th>\n",
       "      <td>0.000000</td>\n",
       "      <td>0.000000</td>\n",
       "      <td>0.000000</td>\n",
       "      <td>0.000000</td>\n",
       "      <td>1.000000</td>\n",
       "      <td>1.000000</td>\n",
       "    </tr>\n",
       "    <tr>\n",
       "      <th>max</th>\n",
       "      <td>26.000000</td>\n",
       "      <td>21.000000</td>\n",
       "      <td>391.000000</td>\n",
       "      <td>8.000000</td>\n",
       "      <td>5.000000</td>\n",
       "      <td>1.000000</td>\n",
       "    </tr>\n",
       "  </tbody>\n",
       "</table>\n",
       "</div>"
      ],
      "text/plain": [
       "       previous_cancellations  booking_changes  days_in_waiting_list  \\\n",
       "count            83573.000000     83573.000000          83573.000000   \n",
       "mean                 0.086798         0.220897              2.330561   \n",
       "std                  0.841011         0.648635             17.673051   \n",
       "min                  0.000000         0.000000              0.000000   \n",
       "25%                  0.000000         0.000000              0.000000   \n",
       "50%                  0.000000         0.000000              0.000000   \n",
       "75%                  0.000000         0.000000              0.000000   \n",
       "max                 26.000000        21.000000            391.000000   \n",
       "\n",
       "       required_car_parking_spaces  total_of_special_requests   is_canceled  \n",
       "count                 83573.000000               83573.000000  83573.000000  \n",
       "mean                      0.062999                   0.573211      0.368277  \n",
       "std                       0.246919                   0.795163      0.482340  \n",
       "min                       0.000000                   0.000000      0.000000  \n",
       "25%                       0.000000                   0.000000      0.000000  \n",
       "50%                       0.000000                   0.000000      0.000000  \n",
       "75%                       0.000000                   1.000000      1.000000  \n",
       "max                       8.000000                   5.000000      1.000000  "
      ]
     },
     "execution_count": 13,
     "metadata": {},
     "output_type": "execute_result"
    }
   ],
   "source": [
    "df.describe()"
   ]
  },
  {
   "attachments": {},
   "cell_type": "markdown",
   "metadata": {},
   "source": [
    "# remove unused data"
   ]
  },
  {
   "attachments": {},
   "cell_type": "markdown",
   "metadata": {},
   "source": [
    "saya akan hapus kolom Country dari dataset saya, dimana alasan kolom Country dihapus adalah untuk supaya analisa yang saya lakukan dan juga model ML yang nanti saya akan buat, tidak melakukan diskriminasi terhadap Country. \n",
    "\n",
    "Dimana semestinya, Country tidak mempengaruhi/membedakan mana pelanggan yang akan meng cancel dan tidak. "
   ]
  },
  {
   "cell_type": "code",
   "execution_count": 14,
   "metadata": {},
   "outputs": [
    {
     "data": {
      "application/vnd.plotly.v1+json": {
       "config": {
        "plotlyServerURL": "https://plot.ly"
       },
       "data": [
        {
         "branchvalues": "total",
         "customdata": [
          [
           0
          ],
          [
           0
          ],
          [
           0
          ],
          [
           0
          ],
          [
           0
          ],
          [
           0
          ],
          [
           0
          ],
          [
           0
          ],
          [
           0
          ],
          [
           0
          ],
          [
           0
          ],
          [
           0
          ],
          [
           0
          ],
          [
           0
          ],
          [
           0
          ],
          [
           0
          ],
          [
           0
          ],
          [
           0
          ],
          [
           0
          ],
          [
           0
          ],
          [
           0
          ],
          [
           0
          ],
          [
           0
          ],
          [
           0
          ],
          [
           0
          ],
          [
           0
          ],
          [
           0
          ],
          [
           0
          ],
          [
           0
          ],
          [
           0
          ],
          [
           0
          ],
          [
           0
          ],
          [
           0
          ],
          [
           0
          ],
          [
           0
          ],
          [
           0
          ],
          [
           0
          ],
          [
           0
          ],
          [
           0
          ],
          [
           0
          ],
          [
           0
          ],
          [
           0
          ],
          [
           0
          ],
          [
           0
          ],
          [
           0
          ],
          [
           0
          ],
          [
           0
          ],
          [
           0
          ],
          [
           0
          ],
          [
           0
          ],
          [
           0
          ],
          [
           0
          ],
          [
           0
          ],
          [
           0
          ],
          [
           0
          ],
          [
           0
          ],
          [
           0
          ],
          [
           0
          ],
          [
           0
          ],
          [
           0
          ],
          [
           0
          ],
          [
           0
          ],
          [
           0
          ],
          [
           0
          ],
          [
           0
          ],
          [
           0
          ],
          [
           0
          ],
          [
           0
          ],
          [
           0
          ],
          [
           0
          ],
          [
           0
          ],
          [
           0
          ],
          [
           0
          ],
          [
           0
          ],
          [
           0
          ],
          [
           0
          ],
          [
           0
          ],
          [
           0
          ],
          [
           0
          ],
          [
           0
          ],
          [
           0
          ],
          [
           0
          ],
          [
           0
          ],
          [
           0
          ],
          [
           0
          ],
          [
           0
          ],
          [
           0
          ],
          [
           0
          ],
          [
           0
          ],
          [
           0
          ],
          [
           0
          ],
          [
           0
          ],
          [
           0
          ],
          [
           0
          ],
          [
           0
          ],
          [
           0
          ],
          [
           0
          ],
          [
           0
          ],
          [
           0
          ],
          [
           0
          ],
          [
           0
          ],
          [
           0
          ],
          [
           0
          ],
          [
           0
          ],
          [
           0
          ],
          [
           0
          ],
          [
           0
          ],
          [
           0
          ],
          [
           0
          ],
          [
           0
          ],
          [
           0
          ],
          [
           0
          ],
          [
           0
          ],
          [
           0
          ],
          [
           0
          ],
          [
           0
          ],
          [
           0
          ],
          [
           0
          ],
          [
           0
          ],
          [
           0
          ],
          [
           0
          ],
          [
           0
          ],
          [
           0
          ],
          [
           0
          ],
          [
           0
          ],
          [
           0
          ],
          [
           0
          ],
          [
           0
          ],
          [
           0
          ],
          [
           0
          ],
          [
           0
          ],
          [
           0
          ],
          [
           0
          ],
          [
           0
          ],
          [
           0
          ],
          [
           0
          ],
          [
           0
          ],
          [
           0
          ],
          [
           0
          ],
          [
           0
          ],
          [
           0
          ],
          [
           0
          ],
          [
           0
          ],
          [
           0
          ],
          [
           0
          ],
          [
           0
          ],
          [
           0
          ],
          [
           0
          ],
          [
           1
          ],
          [
           1
          ],
          [
           1
          ],
          [
           1
          ],
          [
           1
          ],
          [
           1
          ],
          [
           1
          ],
          [
           1
          ],
          [
           1
          ],
          [
           1
          ],
          [
           1
          ],
          [
           1
          ],
          [
           1
          ],
          [
           1
          ],
          [
           1
          ],
          [
           1
          ],
          [
           1
          ],
          [
           1
          ],
          [
           1
          ],
          [
           1
          ],
          [
           1
          ],
          [
           1
          ],
          [
           1
          ],
          [
           1
          ],
          [
           1
          ],
          [
           1
          ],
          [
           1
          ],
          [
           1
          ],
          [
           1
          ],
          [
           1
          ],
          [
           1
          ],
          [
           1
          ],
          [
           1
          ],
          [
           1
          ],
          [
           1
          ],
          [
           1
          ],
          [
           1
          ],
          [
           1
          ],
          [
           1
          ],
          [
           1
          ],
          [
           1
          ],
          [
           1
          ],
          [
           1
          ],
          [
           1
          ],
          [
           1
          ],
          [
           1
          ],
          [
           1
          ],
          [
           1
          ],
          [
           1
          ],
          [
           1
          ],
          [
           1
          ],
          [
           1
          ],
          [
           1
          ],
          [
           1
          ],
          [
           1
          ],
          [
           1
          ],
          [
           1
          ],
          [
           1
          ],
          [
           1
          ],
          [
           1
          ],
          [
           1
          ],
          [
           1
          ],
          [
           1
          ],
          [
           1
          ],
          [
           1
          ],
          [
           1
          ],
          [
           1
          ],
          [
           1
          ],
          [
           1
          ],
          [
           1
          ],
          [
           1
          ],
          [
           1
          ],
          [
           1
          ],
          [
           1
          ],
          [
           1
          ],
          [
           1
          ],
          [
           1
          ],
          [
           1
          ],
          [
           1
          ],
          [
           1
          ],
          [
           1
          ],
          [
           1
          ],
          [
           1
          ],
          [
           1
          ],
          [
           1
          ],
          [
           1
          ],
          [
           1
          ],
          [
           1
          ],
          [
           1
          ],
          [
           1
          ],
          [
           1
          ],
          [
           1
          ],
          [
           1
          ],
          [
           1
          ],
          [
           1
          ],
          [
           1
          ],
          [
           1
          ],
          [
           1
          ],
          [
           1
          ],
          [
           1
          ],
          [
           1
          ],
          [
           1
          ],
          [
           1
          ],
          [
           1
          ],
          [
           1
          ],
          [
           1
          ],
          [
           1
          ],
          [
           1
          ],
          [
           1
          ],
          [
           1
          ],
          [
           1
          ],
          [
           1
          ],
          [
           1
          ],
          [
           1
          ],
          [
           1
          ],
          [
           1
          ],
          [
           1
          ],
          [
           1
          ],
          [
           1
          ],
          [
           1
          ],
          [
           0
          ],
          [
           0.5473251028806584
          ],
          [
           0
          ],
          [
           0.3333333333333333
          ],
          [
           0.8333333333333334
          ],
          [
           0.8421052631578947
          ],
          [
           0.2532467532467532
          ],
          [
           0.2857142857142857
          ],
          [
           0
          ],
          [
           0.25249169435215946
          ],
          [
           0.1764032073310424
          ],
          [
           0.6
          ],
          [
           0
          ],
          [
           0.19781553398058252
          ],
          [
           1
          ],
          [
           0
          ],
          [
           0.6666666666666666
          ],
          [
           0.14545454545454545
          ],
          [
           1
          ],
          [
           0.2
          ],
          [
           0.5294117647058824
          ],
          [
           0
          ],
          [
           0.3760463618802318
          ],
          [
           0
          ],
          [
           0
          ],
          [
           0
          ],
          [
           0.23813488759367193
          ],
          [
           0.2558139534883721
          ],
          [
           0.461212976022567
          ],
          [
           0.6666666666666666
          ],
          [
           0
          ],
          [
           0.18284424379232506
          ],
          [
           0.3191489361702128
          ],
          [
           0
          ],
          [
           0.5294117647058824
          ],
          [
           0
          ],
          [
           0
          ],
          [
           0
          ],
          [
           0.24242424242424243
          ],
          [
           0.2222222222222222
          ],
          [
           0.16497263487099295
          ],
          [
           0
          ],
          [
           0.2564935064935065
          ],
          [
           0.5555555555555556
          ],
          [
           0.225
          ],
          [
           0.2
          ],
          [
           0.38095238095238093
          ],
          [
           0.2578385590393596
          ],
          [
           0.21818181818181817
          ],
          [
           0.3333333333333333
          ],
          [
           0.1360759493670886
          ],
          [
           0.18694402627617354
          ],
          [
           0.75
          ],
          [
           0.3333333333333333
          ],
          [
           0.2029429075927016
          ],
          [
           0.6153846153846154
          ],
          [
           1
          ],
          [
           0.6666666666666666
          ],
          [
           0.6666666666666666
          ],
          [
           1
          ],
          [
           0.16666666666666666
          ],
          [
           0.30851063829787234
          ],
          [
           0
          ],
          [
           0.8846153846153846
          ],
          [
           0.2602739726027397
          ],
          [
           0.3333333333333333
          ],
          [
           0.6666666666666666
          ],
          [
           1
          ],
          [
           0.23076923076923078
          ],
          [
           0.24615384615384617
          ],
          [
           0.2857142857142857
          ],
          [
           0
          ],
          [
           0.04878048780487805
          ],
          [
           0.24838012958963282
          ],
          [
           0.35176824680210683
          ],
          [
           0
          ],
          [
           1
          ],
          [
           0.21428571428571427
          ],
          [
           0.13953488372093023
          ],
          [
           0.26666666666666666
          ],
          [
           0.3333333333333333
          ],
          [
           1
          ],
          [
           0
          ],
          [
           0
          ],
          [
           0.39215686274509803
          ],
          [
           0.38461538461538464
          ],
          [
           0
          ],
          [
           0.3333333333333333
          ],
          [
           0
          ],
          [
           0
          ],
          [
           0
          ],
          [
           0
          ],
          [
           0.1016949152542373
          ],
          [
           0.3756906077348066
          ],
          [
           0.1388888888888889
          ],
          [
           1
          ],
          [
           0.4301675977653631
          ],
          [
           0.7
          ],
          [
           0.12280701754385964
          ],
          [
           0.14285714285714285
          ],
          [
           0
          ],
          [
           0.15384615384615385
          ],
          [
           0
          ],
          [
           0.5
          ],
          [
           0.23809523809523808
          ],
          [
           0.3333333333333333
          ],
          [
           0
          ],
          [
           0.058823529411764705
          ],
          [
           1
          ],
          [
           0
          ],
          [
           0.6818181818181818
          ],
          [
           1
          ],
          [
           0.17096999302163293
          ],
          [
           0.30162412993039445
          ],
          [
           0.061224489795918366
          ],
          [
           0.16666666666666666
          ],
          [
           0.625
          ],
          [
           0
          ],
          [
           0.2857142857142857
          ],
          [
           0.6296296296296297
          ],
          [
           0
          ],
          [
           0.21786833855799373
          ],
          [
           0.09090909090909091
          ],
          [
           0.5574489084997678
          ],
          [
           0
          ],
          [
           0.6923076923076923
          ],
          [
           0.2668621700879765
          ],
          [
           0.3793103448275862
          ],
          [
           0
          ],
          [
           0.7027027027027027
          ],
          [
           0
          ],
          [
           0.625
          ],
          [
           0.37037037037037035
          ],
          [
           0
          ],
          [
           0
          ],
          [
           0.024691358024691357
          ],
          [
           0
          ],
          [
           0.36585365853658536
          ],
          [
           0.2857142857142857
          ],
          [
           0.21685082872928177
          ],
          [
           1
          ],
          [
           0
          ],
          [
           0
          ],
          [
           0.35
          ],
          [
           0.8333333333333334
          ],
          [
           0
          ],
          [
           0.3870967741935484
          ],
          [
           0.38650306748466257
          ],
          [
           0.2647058823529412
          ],
          [
           0.75
          ],
          [
           0
          ],
          [
           0.3333333333333333
          ],
          [
           1
          ],
          [
           0.30434782608695654
          ],
          [
           0.24116847826086957
          ],
          [
           0
          ],
          [
           0.5
          ],
          [
           1
          ],
          [
           0.4
          ],
          [
           0.36666666666666664
          ],
          [
           1
          ],
          [
           0.6666666666666666
          ]
         ],
         "domain": {
          "x": [
           0,
           1
          ],
          "y": [
           0,
           1
          ]
         },
         "hovertemplate": "labels=%{label}<br>count=%{value}<br>parent=%{parent}<br>id=%{id}<br>is_canceled=%{color}<extra></extra>",
         "ids": [
          "ABW/0",
          "AGO/0",
          "AIA/0",
          "ALB/0",
          "AND/0",
          "ARE/0",
          "ARG/0",
          "ARM/0",
          "ATA/0",
          "AUS/0",
          "AUT/0",
          "AZE/0",
          "BDI/0",
          "BEL/0",
          "BFA/0",
          "BGD/0",
          "BGR/0",
          "BIH/0",
          "BLR/0",
          "BOL/0",
          "BRA/0",
          "BRB/0",
          "BWA/0",
          "CAF/0",
          "CHE/0",
          "CHL/0",
          "CHN/0",
          "CIV/0",
          "CMR/0",
          "CN/0",
          "COL/0",
          "COM/0",
          "CPV/0",
          "CRI/0",
          "CUB/0",
          "CYM/0",
          "CYP/0",
          "CZE/0",
          "DEU/0",
          "DMA/0",
          "DNK/0",
          "DOM/0",
          "DZA/0",
          "ECU/0",
          "EGY/0",
          "ESP/0",
          "EST/0",
          "ETH/0",
          "FIN/0",
          "FRA/0",
          "FRO/0",
          "GAB/0",
          "GBR/0",
          "GEO/0",
          "GHA/0",
          "GIB/0",
          "GNB/0",
          "GRC/0",
          "GTM/0",
          "HKG/0",
          "HRV/0",
          "HUN/0",
          "IDN/0",
          "IND/0",
          "IRL/0",
          "IRN/0",
          "IRQ/0",
          "ISL/0",
          "ISR/0",
          "ITA/0",
          "JAM/0",
          "JOR/0",
          "JPN/0",
          "KAZ/0",
          "KEN/0",
          "KIR/0",
          "KNA/0",
          "KOR/0",
          "KWT/0",
          "LAO/0",
          "LBN/0",
          "LBY/0",
          "LCA/0",
          "LIE/0",
          "LKA/0",
          "LTU/0",
          "LUX/0",
          "LVA/0",
          "MAR/0",
          "MDV/0",
          "MEX/0",
          "MKD/0",
          "MLI/0",
          "MLT/0",
          "MMR/0",
          "MNE/0",
          "MOZ/0",
          "MUS/0",
          "MWI/0",
          "MYS/0",
          "NCL/0",
          "NGA/0",
          "NLD/0",
          "NOR/0",
          "NZL/0",
          "OMN/0",
          "PAK/0",
          "PAN/0",
          "PER/0",
          "PHL/0",
          "PLW/0",
          "POL/0",
          "PRI/0",
          "PRT/0",
          "PRY/0",
          "QAT/0",
          "ROU/0",
          "RUS/0",
          "RWA/0",
          "SAU/0",
          "SDN/0",
          "SEN/0",
          "SGP/0",
          "SLE/0",
          "SLV/0",
          "SRB/0",
          "SUR/0",
          "SVK/0",
          "SVN/0",
          "SWE/0",
          "SYR/0",
          "TGO/0",
          "THA/0",
          "TJK/0",
          "TMP/0",
          "TUN/0",
          "TUR/0",
          "TWN/0",
          "TZA/0",
          "UGA/0",
          "UKR/0",
          "URY/0",
          "USA/0",
          "UZB/0",
          "VEN/0",
          "VNM/0",
          "ZAF/0",
          "ZWE/0",
          "AGO/1",
          "ALB/1",
          "AND/1",
          "ARE/1",
          "ARG/1",
          "ARM/1",
          "AUS/1",
          "AUT/1",
          "AZE/1",
          "BEL/1",
          "BEN/1",
          "BGD/1",
          "BGR/1",
          "BHR/1",
          "BIH/1",
          "BLR/1",
          "BRA/1",
          "CHE/1",
          "CHL/1",
          "CHN/1",
          "CIV/1",
          "CN/1",
          "COL/1",
          "CPV/1",
          "CYP/1",
          "CZE/1",
          "DEU/1",
          "DNK/1",
          "DOM/1",
          "DZA/1",
          "ECU/1",
          "EGY/1",
          "ESP/1",
          "EST/1",
          "ETH/1",
          "FIN/1",
          "FRA/1",
          "FRO/1",
          "GAB/1",
          "GBR/1",
          "GEO/1",
          "GGY/1",
          "GHA/1",
          "GIB/1",
          "GLP/1",
          "GNB/1",
          "GRC/1",
          "HKG/1",
          "HRV/1",
          "HUN/1",
          "IDN/1",
          "IMN/1",
          "IND/1",
          "IRL/1",
          "IRN/1",
          "ISL/1",
          "ISR/1",
          "ITA/1",
          "JEY/1",
          "JOR/1",
          "JPN/1",
          "KAZ/1",
          "KEN/1",
          "KHM/1",
          "KOR/1",
          "KWT/1",
          "LBN/1",
          "LTU/1",
          "LUX/1",
          "LVA/1",
          "MAC/1",
          "MAR/1",
          "MDV/1",
          "MEX/1",
          "MKD/1",
          "MLT/1",
          "MNE/1",
          "MOZ/1",
          "MUS/1",
          "MYS/1",
          "MYT/1",
          "NGA/1",
          "NIC/1",
          "NLD/1",
          "NOR/1",
          "NZL/1",
          "OMN/1",
          "PAK/1",
          "PER/1",
          "PHL/1",
          "POL/1",
          "PRI/1",
          "PRT/1",
          "QAT/1",
          "ROU/1",
          "RUS/1",
          "SAU/1",
          "SEN/1",
          "SGP/1",
          "SRB/1",
          "SVK/1",
          "SVN/1",
          "SWE/1",
          "SYC/1",
          "THA/1",
          "TJK/1",
          "TUN/1",
          "TUR/1",
          "TWN/1",
          "TZA/1",
          "UKR/1",
          "UMI/1",
          "URY/1",
          "USA/1",
          "VEN/1",
          "VGB/1",
          "VNM/1",
          "ZAF/1",
          "ZMB/1",
          "ZWE/1",
          "ABW",
          "AGO",
          "AIA",
          "ALB",
          "AND",
          "ARE",
          "ARG",
          "ARM",
          "ATA",
          "AUS",
          "AUT",
          "AZE",
          "BDI",
          "BEL",
          "BEN",
          "BFA",
          "BGD",
          "BGR",
          "BHR",
          "BIH",
          "BLR",
          "BOL",
          "BRA",
          "BRB",
          "BWA",
          "CAF",
          "CHE",
          "CHL",
          "CHN",
          "CIV",
          "CMR",
          "CN",
          "COL",
          "COM",
          "CPV",
          "CRI",
          "CUB",
          "CYM",
          "CYP",
          "CZE",
          "DEU",
          "DMA",
          "DNK",
          "DOM",
          "DZA",
          "ECU",
          "EGY",
          "ESP",
          "EST",
          "ETH",
          "FIN",
          "FRA",
          "FRO",
          "GAB",
          "GBR",
          "GEO",
          "GGY",
          "GHA",
          "GIB",
          "GLP",
          "GNB",
          "GRC",
          "GTM",
          "HKG",
          "HRV",
          "HUN",
          "IDN",
          "IMN",
          "IND",
          "IRL",
          "IRN",
          "IRQ",
          "ISL",
          "ISR",
          "ITA",
          "JAM",
          "JEY",
          "JOR",
          "JPN",
          "KAZ",
          "KEN",
          "KHM",
          "KIR",
          "KNA",
          "KOR",
          "KWT",
          "LAO",
          "LBN",
          "LBY",
          "LCA",
          "LIE",
          "LKA",
          "LTU",
          "LUX",
          "LVA",
          "MAC",
          "MAR",
          "MDV",
          "MEX",
          "MKD",
          "MLI",
          "MLT",
          "MMR",
          "MNE",
          "MOZ",
          "MUS",
          "MWI",
          "MYS",
          "MYT",
          "NCL",
          "NGA",
          "NIC",
          "NLD",
          "NOR",
          "NZL",
          "OMN",
          "PAK",
          "PAN",
          "PER",
          "PHL",
          "PLW",
          "POL",
          "PRI",
          "PRT",
          "PRY",
          "QAT",
          "ROU",
          "RUS",
          "RWA",
          "SAU",
          "SDN",
          "SEN",
          "SGP",
          "SLE",
          "SLV",
          "SRB",
          "SUR",
          "SVK",
          "SVN",
          "SWE",
          "SYC",
          "SYR",
          "TGO",
          "THA",
          "TJK",
          "TMP",
          "TUN",
          "TUR",
          "TWN",
          "TZA",
          "UGA",
          "UKR",
          "UMI",
          "URY",
          "USA",
          "UZB",
          "VEN",
          "VGB",
          "VNM",
          "ZAF",
          "ZMB",
          "ZWE"
         ],
         "labels": [
          "0",
          "0",
          "0",
          "0",
          "0",
          "0",
          "0",
          "0",
          "0",
          "0",
          "0",
          "0",
          "0",
          "0",
          "0",
          "0",
          "0",
          "0",
          "0",
          "0",
          "0",
          "0",
          "0",
          "0",
          "0",
          "0",
          "0",
          "0",
          "0",
          "0",
          "0",
          "0",
          "0",
          "0",
          "0",
          "0",
          "0",
          "0",
          "0",
          "0",
          "0",
          "0",
          "0",
          "0",
          "0",
          "0",
          "0",
          "0",
          "0",
          "0",
          "0",
          "0",
          "0",
          "0",
          "0",
          "0",
          "0",
          "0",
          "0",
          "0",
          "0",
          "0",
          "0",
          "0",
          "0",
          "0",
          "0",
          "0",
          "0",
          "0",
          "0",
          "0",
          "0",
          "0",
          "0",
          "0",
          "0",
          "0",
          "0",
          "0",
          "0",
          "0",
          "0",
          "0",
          "0",
          "0",
          "0",
          "0",
          "0",
          "0",
          "0",
          "0",
          "0",
          "0",
          "0",
          "0",
          "0",
          "0",
          "0",
          "0",
          "0",
          "0",
          "0",
          "0",
          "0",
          "0",
          "0",
          "0",
          "0",
          "0",
          "0",
          "0",
          "0",
          "0",
          "0",
          "0",
          "0",
          "0",
          "0",
          "0",
          "0",
          "0",
          "0",
          "0",
          "0",
          "0",
          "0",
          "0",
          "0",
          "0",
          "0",
          "0",
          "0",
          "0",
          "0",
          "0",
          "0",
          "0",
          "0",
          "0",
          "0",
          "0",
          "0",
          "0",
          "0",
          "0",
          "0",
          "0",
          "1",
          "1",
          "1",
          "1",
          "1",
          "1",
          "1",
          "1",
          "1",
          "1",
          "1",
          "1",
          "1",
          "1",
          "1",
          "1",
          "1",
          "1",
          "1",
          "1",
          "1",
          "1",
          "1",
          "1",
          "1",
          "1",
          "1",
          "1",
          "1",
          "1",
          "1",
          "1",
          "1",
          "1",
          "1",
          "1",
          "1",
          "1",
          "1",
          "1",
          "1",
          "1",
          "1",
          "1",
          "1",
          "1",
          "1",
          "1",
          "1",
          "1",
          "1",
          "1",
          "1",
          "1",
          "1",
          "1",
          "1",
          "1",
          "1",
          "1",
          "1",
          "1",
          "1",
          "1",
          "1",
          "1",
          "1",
          "1",
          "1",
          "1",
          "1",
          "1",
          "1",
          "1",
          "1",
          "1",
          "1",
          "1",
          "1",
          "1",
          "1",
          "1",
          "1",
          "1",
          "1",
          "1",
          "1",
          "1",
          "1",
          "1",
          "1",
          "1",
          "1",
          "1",
          "1",
          "1",
          "1",
          "1",
          "1",
          "1",
          "1",
          "1",
          "1",
          "1",
          "1",
          "1",
          "1",
          "1",
          "1",
          "1",
          "1",
          "1",
          "1",
          "1",
          "1",
          "1",
          "1",
          "1",
          "1",
          "1",
          "ABW",
          "AGO",
          "AIA",
          "ALB",
          "AND",
          "ARE",
          "ARG",
          "ARM",
          "ATA",
          "AUS",
          "AUT",
          "AZE",
          "BDI",
          "BEL",
          "BEN",
          "BFA",
          "BGD",
          "BGR",
          "BHR",
          "BIH",
          "BLR",
          "BOL",
          "BRA",
          "BRB",
          "BWA",
          "CAF",
          "CHE",
          "CHL",
          "CHN",
          "CIV",
          "CMR",
          "CN",
          "COL",
          "COM",
          "CPV",
          "CRI",
          "CUB",
          "CYM",
          "CYP",
          "CZE",
          "DEU",
          "DMA",
          "DNK",
          "DOM",
          "DZA",
          "ECU",
          "EGY",
          "ESP",
          "EST",
          "ETH",
          "FIN",
          "FRA",
          "FRO",
          "GAB",
          "GBR",
          "GEO",
          "GGY",
          "GHA",
          "GIB",
          "GLP",
          "GNB",
          "GRC",
          "GTM",
          "HKG",
          "HRV",
          "HUN",
          "IDN",
          "IMN",
          "IND",
          "IRL",
          "IRN",
          "IRQ",
          "ISL",
          "ISR",
          "ITA",
          "JAM",
          "JEY",
          "JOR",
          "JPN",
          "KAZ",
          "KEN",
          "KHM",
          "KIR",
          "KNA",
          "KOR",
          "KWT",
          "LAO",
          "LBN",
          "LBY",
          "LCA",
          "LIE",
          "LKA",
          "LTU",
          "LUX",
          "LVA",
          "MAC",
          "MAR",
          "MDV",
          "MEX",
          "MKD",
          "MLI",
          "MLT",
          "MMR",
          "MNE",
          "MOZ",
          "MUS",
          "MWI",
          "MYS",
          "MYT",
          "NCL",
          "NGA",
          "NIC",
          "NLD",
          "NOR",
          "NZL",
          "OMN",
          "PAK",
          "PAN",
          "PER",
          "PHL",
          "PLW",
          "POL",
          "PRI",
          "PRT",
          "PRY",
          "QAT",
          "ROU",
          "RUS",
          "RWA",
          "SAU",
          "SDN",
          "SEN",
          "SGP",
          "SLE",
          "SLV",
          "SRB",
          "SUR",
          "SVK",
          "SVN",
          "SWE",
          "SYC",
          "SYR",
          "TGO",
          "THA",
          "TJK",
          "TMP",
          "TUN",
          "TUR",
          "TWN",
          "TZA",
          "UGA",
          "UKR",
          "UMI",
          "URY",
          "USA",
          "UZB",
          "VEN",
          "VGB",
          "VNM",
          "ZAF",
          "ZMB",
          "ZWE"
         ],
         "marker": {
          "coloraxis": "coloraxis",
          "colors": [
           0,
           0,
           0,
           0,
           0,
           0,
           0,
           0,
           0,
           0,
           0,
           0,
           0,
           0,
           0,
           0,
           0,
           0,
           0,
           0,
           0,
           0,
           0,
           0,
           0,
           0,
           0,
           0,
           0,
           0,
           0,
           0,
           0,
           0,
           0,
           0,
           0,
           0,
           0,
           0,
           0,
           0,
           0,
           0,
           0,
           0,
           0,
           0,
           0,
           0,
           0,
           0,
           0,
           0,
           0,
           0,
           0,
           0,
           0,
           0,
           0,
           0,
           0,
           0,
           0,
           0,
           0,
           0,
           0,
           0,
           0,
           0,
           0,
           0,
           0,
           0,
           0,
           0,
           0,
           0,
           0,
           0,
           0,
           0,
           0,
           0,
           0,
           0,
           0,
           0,
           0,
           0,
           0,
           0,
           0,
           0,
           0,
           0,
           0,
           0,
           0,
           0,
           0,
           0,
           0,
           0,
           0,
           0,
           0,
           0,
           0,
           0,
           0,
           0,
           0,
           0,
           0,
           0,
           0,
           0,
           0,
           0,
           0,
           0,
           0,
           0,
           0,
           0,
           0,
           0,
           0,
           0,
           0,
           0,
           0,
           0,
           0,
           0,
           0,
           0,
           0,
           0,
           0,
           0,
           0,
           0,
           0,
           0,
           1,
           1,
           1,
           1,
           1,
           1,
           1,
           1,
           1,
           1,
           1,
           1,
           1,
           1,
           1,
           1,
           1,
           1,
           1,
           1,
           1,
           1,
           1,
           1,
           1,
           1,
           1,
           1,
           1,
           1,
           1,
           1,
           1,
           1,
           1,
           1,
           1,
           1,
           1,
           1,
           1,
           1,
           1,
           1,
           1,
           1,
           1,
           1,
           1,
           1,
           1,
           1,
           1,
           1,
           1,
           1,
           1,
           1,
           1,
           1,
           1,
           1,
           1,
           1,
           1,
           1,
           1,
           1,
           1,
           1,
           1,
           1,
           1,
           1,
           1,
           1,
           1,
           1,
           1,
           1,
           1,
           1,
           1,
           1,
           1,
           1,
           1,
           1,
           1,
           1,
           1,
           1,
           1,
           1,
           1,
           1,
           1,
           1,
           1,
           1,
           1,
           1,
           1,
           1,
           1,
           1,
           1,
           1,
           1,
           1,
           1,
           1,
           1,
           1,
           1,
           1,
           1,
           1,
           1,
           1,
           0,
           0.5473251028806584,
           0,
           0.3333333333333333,
           0.8333333333333334,
           0.8421052631578947,
           0.2532467532467532,
           0.2857142857142857,
           0,
           0.25249169435215946,
           0.1764032073310424,
           0.6,
           0,
           0.19781553398058252,
           1,
           0,
           0.6666666666666666,
           0.14545454545454545,
           1,
           0.2,
           0.5294117647058824,
           0,
           0.3760463618802318,
           0,
           0,
           0,
           0.23813488759367193,
           0.2558139534883721,
           0.461212976022567,
           0.6666666666666666,
           0,
           0.18284424379232506,
           0.3191489361702128,
           0,
           0.5294117647058824,
           0,
           0,
           0,
           0.24242424242424243,
           0.2222222222222222,
           0.16497263487099295,
           0,
           0.2564935064935065,
           0.5555555555555556,
           0.225,
           0.2,
           0.38095238095238093,
           0.2578385590393596,
           0.21818181818181817,
           0.3333333333333333,
           0.1360759493670886,
           0.18694402627617354,
           0.75,
           0.3333333333333333,
           0.2029429075927016,
           0.6153846153846154,
           1,
           0.6666666666666666,
           0.6666666666666666,
           1,
           0.16666666666666666,
           0.30851063829787234,
           0,
           0.8846153846153846,
           0.2602739726027397,
           0.3333333333333333,
           0.6666666666666666,
           1,
           0.23076923076923078,
           0.24615384615384617,
           0.2857142857142857,
           0,
           0.04878048780487805,
           0.24838012958963282,
           0.35176824680210683,
           0,
           1,
           0.21428571428571427,
           0.13953488372093023,
           0.26666666666666666,
           0.3333333333333333,
           1,
           0,
           0,
           0.39215686274509803,
           0.38461538461538464,
           0,
           0.3333333333333333,
           0,
           0,
           0,
           0,
           0.1016949152542373,
           0.3756906077348066,
           0.1388888888888889,
           1,
           0.4301675977653631,
           0.7,
           0.12280701754385964,
           0.14285714285714285,
           0,
           0.15384615384615385,
           0,
           0.5,
           0.23809523809523808,
           0.3333333333333333,
           0,
           0.058823529411764705,
           1,
           0,
           0.6818181818181818,
           1,
           0.17096999302163293,
           0.30162412993039445,
           0.061224489795918366,
           0.16666666666666666,
           0.625,
           0,
           0.2857142857142857,
           0.6296296296296297,
           0,
           0.21786833855799373,
           0.09090909090909091,
           0.5574489084997678,
           0,
           0.6923076923076923,
           0.2668621700879765,
           0.3793103448275862,
           0,
           0.7027027027027027,
           0,
           0.625,
           0.37037037037037035,
           0,
           0,
           0.024691358024691357,
           0,
           0.36585365853658536,
           0.2857142857142857,
           0.21685082872928177,
           1,
           0,
           0,
           0.35,
           0.8333333333333334,
           0,
           0.3870967741935484,
           0.38650306748466257,
           0.2647058823529412,
           0.75,
           0,
           0.3333333333333333,
           1,
           0.30434782608695654,
           0.24116847826086957,
           0,
           0.5,
           1,
           0.4,
           0.36666666666666664,
           1,
           0.6666666666666666
          ]
         },
         "name": "",
         "parents": [
          "ABW",
          "AGO",
          "AIA",
          "ALB",
          "AND",
          "ARE",
          "ARG",
          "ARM",
          "ATA",
          "AUS",
          "AUT",
          "AZE",
          "BDI",
          "BEL",
          "BFA",
          "BGD",
          "BGR",
          "BIH",
          "BLR",
          "BOL",
          "BRA",
          "BRB",
          "BWA",
          "CAF",
          "CHE",
          "CHL",
          "CHN",
          "CIV",
          "CMR",
          "CN",
          "COL",
          "COM",
          "CPV",
          "CRI",
          "CUB",
          "CYM",
          "CYP",
          "CZE",
          "DEU",
          "DMA",
          "DNK",
          "DOM",
          "DZA",
          "ECU",
          "EGY",
          "ESP",
          "EST",
          "ETH",
          "FIN",
          "FRA",
          "FRO",
          "GAB",
          "GBR",
          "GEO",
          "GHA",
          "GIB",
          "GNB",
          "GRC",
          "GTM",
          "HKG",
          "HRV",
          "HUN",
          "IDN",
          "IND",
          "IRL",
          "IRN",
          "IRQ",
          "ISL",
          "ISR",
          "ITA",
          "JAM",
          "JOR",
          "JPN",
          "KAZ",
          "KEN",
          "KIR",
          "KNA",
          "KOR",
          "KWT",
          "LAO",
          "LBN",
          "LBY",
          "LCA",
          "LIE",
          "LKA",
          "LTU",
          "LUX",
          "LVA",
          "MAR",
          "MDV",
          "MEX",
          "MKD",
          "MLI",
          "MLT",
          "MMR",
          "MNE",
          "MOZ",
          "MUS",
          "MWI",
          "MYS",
          "NCL",
          "NGA",
          "NLD",
          "NOR",
          "NZL",
          "OMN",
          "PAK",
          "PAN",
          "PER",
          "PHL",
          "PLW",
          "POL",
          "PRI",
          "PRT",
          "PRY",
          "QAT",
          "ROU",
          "RUS",
          "RWA",
          "SAU",
          "SDN",
          "SEN",
          "SGP",
          "SLE",
          "SLV",
          "SRB",
          "SUR",
          "SVK",
          "SVN",
          "SWE",
          "SYR",
          "TGO",
          "THA",
          "TJK",
          "TMP",
          "TUN",
          "TUR",
          "TWN",
          "TZA",
          "UGA",
          "UKR",
          "URY",
          "USA",
          "UZB",
          "VEN",
          "VNM",
          "ZAF",
          "ZWE",
          "AGO",
          "ALB",
          "AND",
          "ARE",
          "ARG",
          "ARM",
          "AUS",
          "AUT",
          "AZE",
          "BEL",
          "BEN",
          "BGD",
          "BGR",
          "BHR",
          "BIH",
          "BLR",
          "BRA",
          "CHE",
          "CHL",
          "CHN",
          "CIV",
          "CN",
          "COL",
          "CPV",
          "CYP",
          "CZE",
          "DEU",
          "DNK",
          "DOM",
          "DZA",
          "ECU",
          "EGY",
          "ESP",
          "EST",
          "ETH",
          "FIN",
          "FRA",
          "FRO",
          "GAB",
          "GBR",
          "GEO",
          "GGY",
          "GHA",
          "GIB",
          "GLP",
          "GNB",
          "GRC",
          "HKG",
          "HRV",
          "HUN",
          "IDN",
          "IMN",
          "IND",
          "IRL",
          "IRN",
          "ISL",
          "ISR",
          "ITA",
          "JEY",
          "JOR",
          "JPN",
          "KAZ",
          "KEN",
          "KHM",
          "KOR",
          "KWT",
          "LBN",
          "LTU",
          "LUX",
          "LVA",
          "MAC",
          "MAR",
          "MDV",
          "MEX",
          "MKD",
          "MLT",
          "MNE",
          "MOZ",
          "MUS",
          "MYS",
          "MYT",
          "NGA",
          "NIC",
          "NLD",
          "NOR",
          "NZL",
          "OMN",
          "PAK",
          "PER",
          "PHL",
          "POL",
          "PRI",
          "PRT",
          "QAT",
          "ROU",
          "RUS",
          "SAU",
          "SEN",
          "SGP",
          "SRB",
          "SVK",
          "SVN",
          "SWE",
          "SYC",
          "THA",
          "TJK",
          "TUN",
          "TUR",
          "TWN",
          "TZA",
          "UKR",
          "UMI",
          "URY",
          "USA",
          "VEN",
          "VGB",
          "VNM",
          "ZAF",
          "ZMB",
          "ZWE",
          "",
          "",
          "",
          "",
          "",
          "",
          "",
          "",
          "",
          "",
          "",
          "",
          "",
          "",
          "",
          "",
          "",
          "",
          "",
          "",
          "",
          "",
          "",
          "",
          "",
          "",
          "",
          "",
          "",
          "",
          "",
          "",
          "",
          "",
          "",
          "",
          "",
          "",
          "",
          "",
          "",
          "",
          "",
          "",
          "",
          "",
          "",
          "",
          "",
          "",
          "",
          "",
          "",
          "",
          "",
          "",
          "",
          "",
          "",
          "",
          "",
          "",
          "",
          "",
          "",
          "",
          "",
          "",
          "",
          "",
          "",
          "",
          "",
          "",
          "",
          "",
          "",
          "",
          "",
          "",
          "",
          "",
          "",
          "",
          "",
          "",
          "",
          "",
          "",
          "",
          "",
          "",
          "",
          "",
          "",
          "",
          "",
          "",
          "",
          "",
          "",
          "",
          "",
          "",
          "",
          "",
          "",
          "",
          "",
          "",
          "",
          "",
          "",
          "",
          "",
          "",
          "",
          "",
          "",
          "",
          "",
          "",
          "",
          "",
          "",
          "",
          "",
          "",
          "",
          "",
          "",
          "",
          "",
          "",
          "",
          "",
          "",
          "",
          "",
          "",
          "",
          "",
          "",
          "",
          "",
          "",
          "",
          "",
          "",
          "",
          "",
          "",
          "",
          "",
          "",
          "",
          "",
          "",
          "",
          "",
          "",
          ""
         ],
         "type": "sunburst",
         "values": [
          2,
          110,
          1,
          4,
          1,
          6,
          115,
          5,
          1,
          225,
          719,
          4,
          1,
          1322,
          1,
          2,
          47,
          8,
          8,
          5,
          969,
          2,
          1,
          3,
          915,
          32,
          382,
          1,
          6,
          724,
          32,
          2,
          8,
          10,
          4,
          1,
          25,
          91,
          4272,
          1,
          229,
          4,
          62,
          16,
          13,
          4450,
          43,
          2,
          273,
          5941,
          1,
          2,
          6771,
          5,
          1,
          3,
          5,
          65,
          3,
          3,
          54,
          92,
          9,
          80,
          1764,
          45,
          8,
          39,
          348,
          1723,
          5,
          11,
          111,
          11,
          2,
          1,
          1,
          62,
          8,
          2,
          16,
          6,
          1,
          2,
          4,
          53,
          113,
          31,
          102,
          3,
          50,
          6,
          1,
          11,
          1,
          1,
          32,
          2,
          2,
          16,
          1,
          7,
          1188,
          301,
          46,
          10,
          3,
          8,
          15,
          10,
          1,
          499,
          10,
          15245,
          3,
          4,
          250,
          270,
          1,
          11,
          1,
          3,
          17,
          1,
          2,
          79,
          2,
          26,
          30,
          567,
          3,
          2,
          26,
          1,
          2,
          19,
          100,
          25,
          1,
          1,
          28,
          16,
          1117,
          2,
          10,
          3,
          38,
          1,
          133,
          2,
          5,
          32,
          39,
          2,
          76,
          154,
          6,
          326,
          1,
          4,
          8,
          4,
          2,
          9,
          584,
          286,
          11,
          327,
          2,
          162,
          15,
          9,
          8,
          26,
          844,
          79,
          5,
          18,
          4,
          8,
          1546,
          12,
          1,
          43,
          1366,
          3,
          1,
          1724,
          8,
          2,
          2,
          6,
          1,
          1,
          29,
          23,
          19,
          46,
          18,
          2,
          24,
          576,
          18,
          2,
          115,
          935,
          7,
          3,
          18,
          4,
          1,
          2,
          40,
          5,
          8,
          6,
          68,
          5,
          8,
          77,
          7,
          7,
          1,
          2,
          1,
          10,
          1,
          1,
          1,
          15,
          1,
          245,
          130,
          3,
          2,
          5,
          6,
          17,
          139,
          1,
          19203,
          9,
          91,
          165,
          26,
          5,
          10,
          2,
          15,
          12,
          157,
          1,
          14,
          5,
          12,
          63,
          9,
          3,
          14,
          1,
          7,
          355,
          10,
          1,
          2,
          22,
          1,
          2,
          2,
          243,
          1,
          6,
          6,
          38,
          154,
          7,
          1,
          301,
          873,
          10,
          1,
          1648,
          1,
          1,
          6,
          55,
          4,
          10,
          17,
          5,
          1553,
          2,
          1,
          3,
          1201,
          43,
          709,
          3,
          6,
          886,
          47,
          2,
          17,
          10,
          4,
          1,
          33,
          117,
          5116,
          1,
          308,
          9,
          80,
          20,
          21,
          5996,
          55,
          3,
          316,
          7307,
          4,
          3,
          8495,
          13,
          2,
          3,
          9,
          1,
          6,
          94,
          3,
          26,
          73,
          138,
          27,
          2,
          104,
          2340,
          63,
          8,
          41,
          463,
          2658,
          5,
          7,
          14,
          129,
          15,
          3,
          2,
          1,
          1,
          102,
          13,
          2,
          24,
          6,
          1,
          2,
          4,
          59,
          181,
          36,
          8,
          179,
          10,
          57,
          7,
          1,
          13,
          1,
          2,
          42,
          3,
          2,
          17,
          1,
          1,
          22,
          1,
          1433,
          431,
          49,
          12,
          8,
          8,
          21,
          27,
          1,
          638,
          11,
          34448,
          3,
          13,
          341,
          435,
          1,
          37,
          1,
          8,
          27,
          1,
          2,
          81,
          2,
          41,
          42,
          724,
          1,
          3,
          2,
          40,
          6,
          2,
          31,
          163,
          34,
          4,
          1,
          42,
          1,
          23,
          1472,
          2,
          20,
          1,
          5,
          60,
          1,
          3
         ]
        }
       ],
       "layout": {
        "coloraxis": {
         "colorbar": {
          "title": {
           "text": "is_canceled"
          }
         },
         "colorscale": [
          [
           0,
           "#0d0887"
          ],
          [
           0.1111111111111111,
           "#46039f"
          ],
          [
           0.2222222222222222,
           "#7201a8"
          ],
          [
           0.3333333333333333,
           "#9c179e"
          ],
          [
           0.4444444444444444,
           "#bd3786"
          ],
          [
           0.5555555555555556,
           "#d8576b"
          ],
          [
           0.6666666666666666,
           "#ed7953"
          ],
          [
           0.7777777777777778,
           "#fb9f3a"
          ],
          [
           0.8888888888888888,
           "#fdca26"
          ],
          [
           1,
           "#f0f921"
          ]
         ]
        },
        "legend": {
         "tracegroupgap": 0
        },
        "template": {
         "data": {
          "bar": [
           {
            "error_x": {
             "color": "#2a3f5f"
            },
            "error_y": {
             "color": "#2a3f5f"
            },
            "marker": {
             "line": {
              "color": "#E5ECF6",
              "width": 0.5
             },
             "pattern": {
              "fillmode": "overlay",
              "size": 10,
              "solidity": 0.2
             }
            },
            "type": "bar"
           }
          ],
          "barpolar": [
           {
            "marker": {
             "line": {
              "color": "#E5ECF6",
              "width": 0.5
             },
             "pattern": {
              "fillmode": "overlay",
              "size": 10,
              "solidity": 0.2
             }
            },
            "type": "barpolar"
           }
          ],
          "carpet": [
           {
            "aaxis": {
             "endlinecolor": "#2a3f5f",
             "gridcolor": "white",
             "linecolor": "white",
             "minorgridcolor": "white",
             "startlinecolor": "#2a3f5f"
            },
            "baxis": {
             "endlinecolor": "#2a3f5f",
             "gridcolor": "white",
             "linecolor": "white",
             "minorgridcolor": "white",
             "startlinecolor": "#2a3f5f"
            },
            "type": "carpet"
           }
          ],
          "choropleth": [
           {
            "colorbar": {
             "outlinewidth": 0,
             "ticks": ""
            },
            "type": "choropleth"
           }
          ],
          "contour": [
           {
            "colorbar": {
             "outlinewidth": 0,
             "ticks": ""
            },
            "colorscale": [
             [
              0,
              "#0d0887"
             ],
             [
              0.1111111111111111,
              "#46039f"
             ],
             [
              0.2222222222222222,
              "#7201a8"
             ],
             [
              0.3333333333333333,
              "#9c179e"
             ],
             [
              0.4444444444444444,
              "#bd3786"
             ],
             [
              0.5555555555555556,
              "#d8576b"
             ],
             [
              0.6666666666666666,
              "#ed7953"
             ],
             [
              0.7777777777777778,
              "#fb9f3a"
             ],
             [
              0.8888888888888888,
              "#fdca26"
             ],
             [
              1,
              "#f0f921"
             ]
            ],
            "type": "contour"
           }
          ],
          "contourcarpet": [
           {
            "colorbar": {
             "outlinewidth": 0,
             "ticks": ""
            },
            "type": "contourcarpet"
           }
          ],
          "heatmap": [
           {
            "colorbar": {
             "outlinewidth": 0,
             "ticks": ""
            },
            "colorscale": [
             [
              0,
              "#0d0887"
             ],
             [
              0.1111111111111111,
              "#46039f"
             ],
             [
              0.2222222222222222,
              "#7201a8"
             ],
             [
              0.3333333333333333,
              "#9c179e"
             ],
             [
              0.4444444444444444,
              "#bd3786"
             ],
             [
              0.5555555555555556,
              "#d8576b"
             ],
             [
              0.6666666666666666,
              "#ed7953"
             ],
             [
              0.7777777777777778,
              "#fb9f3a"
             ],
             [
              0.8888888888888888,
              "#fdca26"
             ],
             [
              1,
              "#f0f921"
             ]
            ],
            "type": "heatmap"
           }
          ],
          "heatmapgl": [
           {
            "colorbar": {
             "outlinewidth": 0,
             "ticks": ""
            },
            "colorscale": [
             [
              0,
              "#0d0887"
             ],
             [
              0.1111111111111111,
              "#46039f"
             ],
             [
              0.2222222222222222,
              "#7201a8"
             ],
             [
              0.3333333333333333,
              "#9c179e"
             ],
             [
              0.4444444444444444,
              "#bd3786"
             ],
             [
              0.5555555555555556,
              "#d8576b"
             ],
             [
              0.6666666666666666,
              "#ed7953"
             ],
             [
              0.7777777777777778,
              "#fb9f3a"
             ],
             [
              0.8888888888888888,
              "#fdca26"
             ],
             [
              1,
              "#f0f921"
             ]
            ],
            "type": "heatmapgl"
           }
          ],
          "histogram": [
           {
            "marker": {
             "pattern": {
              "fillmode": "overlay",
              "size": 10,
              "solidity": 0.2
             }
            },
            "type": "histogram"
           }
          ],
          "histogram2d": [
           {
            "colorbar": {
             "outlinewidth": 0,
             "ticks": ""
            },
            "colorscale": [
             [
              0,
              "#0d0887"
             ],
             [
              0.1111111111111111,
              "#46039f"
             ],
             [
              0.2222222222222222,
              "#7201a8"
             ],
             [
              0.3333333333333333,
              "#9c179e"
             ],
             [
              0.4444444444444444,
              "#bd3786"
             ],
             [
              0.5555555555555556,
              "#d8576b"
             ],
             [
              0.6666666666666666,
              "#ed7953"
             ],
             [
              0.7777777777777778,
              "#fb9f3a"
             ],
             [
              0.8888888888888888,
              "#fdca26"
             ],
             [
              1,
              "#f0f921"
             ]
            ],
            "type": "histogram2d"
           }
          ],
          "histogram2dcontour": [
           {
            "colorbar": {
             "outlinewidth": 0,
             "ticks": ""
            },
            "colorscale": [
             [
              0,
              "#0d0887"
             ],
             [
              0.1111111111111111,
              "#46039f"
             ],
             [
              0.2222222222222222,
              "#7201a8"
             ],
             [
              0.3333333333333333,
              "#9c179e"
             ],
             [
              0.4444444444444444,
              "#bd3786"
             ],
             [
              0.5555555555555556,
              "#d8576b"
             ],
             [
              0.6666666666666666,
              "#ed7953"
             ],
             [
              0.7777777777777778,
              "#fb9f3a"
             ],
             [
              0.8888888888888888,
              "#fdca26"
             ],
             [
              1,
              "#f0f921"
             ]
            ],
            "type": "histogram2dcontour"
           }
          ],
          "mesh3d": [
           {
            "colorbar": {
             "outlinewidth": 0,
             "ticks": ""
            },
            "type": "mesh3d"
           }
          ],
          "parcoords": [
           {
            "line": {
             "colorbar": {
              "outlinewidth": 0,
              "ticks": ""
             }
            },
            "type": "parcoords"
           }
          ],
          "pie": [
           {
            "automargin": true,
            "type": "pie"
           }
          ],
          "scatter": [
           {
            "fillpattern": {
             "fillmode": "overlay",
             "size": 10,
             "solidity": 0.2
            },
            "type": "scatter"
           }
          ],
          "scatter3d": [
           {
            "line": {
             "colorbar": {
              "outlinewidth": 0,
              "ticks": ""
             }
            },
            "marker": {
             "colorbar": {
              "outlinewidth": 0,
              "ticks": ""
             }
            },
            "type": "scatter3d"
           }
          ],
          "scattercarpet": [
           {
            "marker": {
             "colorbar": {
              "outlinewidth": 0,
              "ticks": ""
             }
            },
            "type": "scattercarpet"
           }
          ],
          "scattergeo": [
           {
            "marker": {
             "colorbar": {
              "outlinewidth": 0,
              "ticks": ""
             }
            },
            "type": "scattergeo"
           }
          ],
          "scattergl": [
           {
            "marker": {
             "colorbar": {
              "outlinewidth": 0,
              "ticks": ""
             }
            },
            "type": "scattergl"
           }
          ],
          "scattermapbox": [
           {
            "marker": {
             "colorbar": {
              "outlinewidth": 0,
              "ticks": ""
             }
            },
            "type": "scattermapbox"
           }
          ],
          "scatterpolar": [
           {
            "marker": {
             "colorbar": {
              "outlinewidth": 0,
              "ticks": ""
             }
            },
            "type": "scatterpolar"
           }
          ],
          "scatterpolargl": [
           {
            "marker": {
             "colorbar": {
              "outlinewidth": 0,
              "ticks": ""
             }
            },
            "type": "scatterpolargl"
           }
          ],
          "scatterternary": [
           {
            "marker": {
             "colorbar": {
              "outlinewidth": 0,
              "ticks": ""
             }
            },
            "type": "scatterternary"
           }
          ],
          "surface": [
           {
            "colorbar": {
             "outlinewidth": 0,
             "ticks": ""
            },
            "colorscale": [
             [
              0,
              "#0d0887"
             ],
             [
              0.1111111111111111,
              "#46039f"
             ],
             [
              0.2222222222222222,
              "#7201a8"
             ],
             [
              0.3333333333333333,
              "#9c179e"
             ],
             [
              0.4444444444444444,
              "#bd3786"
             ],
             [
              0.5555555555555556,
              "#d8576b"
             ],
             [
              0.6666666666666666,
              "#ed7953"
             ],
             [
              0.7777777777777778,
              "#fb9f3a"
             ],
             [
              0.8888888888888888,
              "#fdca26"
             ],
             [
              1,
              "#f0f921"
             ]
            ],
            "type": "surface"
           }
          ],
          "table": [
           {
            "cells": {
             "fill": {
              "color": "#EBF0F8"
             },
             "line": {
              "color": "white"
             }
            },
            "header": {
             "fill": {
              "color": "#C8D4E3"
             },
             "line": {
              "color": "white"
             }
            },
            "type": "table"
           }
          ]
         },
         "layout": {
          "annotationdefaults": {
           "arrowcolor": "#2a3f5f",
           "arrowhead": 0,
           "arrowwidth": 1
          },
          "autotypenumbers": "strict",
          "coloraxis": {
           "colorbar": {
            "outlinewidth": 0,
            "ticks": ""
           }
          },
          "colorscale": {
           "diverging": [
            [
             0,
             "#8e0152"
            ],
            [
             0.1,
             "#c51b7d"
            ],
            [
             0.2,
             "#de77ae"
            ],
            [
             0.3,
             "#f1b6da"
            ],
            [
             0.4,
             "#fde0ef"
            ],
            [
             0.5,
             "#f7f7f7"
            ],
            [
             0.6,
             "#e6f5d0"
            ],
            [
             0.7,
             "#b8e186"
            ],
            [
             0.8,
             "#7fbc41"
            ],
            [
             0.9,
             "#4d9221"
            ],
            [
             1,
             "#276419"
            ]
           ],
           "sequential": [
            [
             0,
             "#0d0887"
            ],
            [
             0.1111111111111111,
             "#46039f"
            ],
            [
             0.2222222222222222,
             "#7201a8"
            ],
            [
             0.3333333333333333,
             "#9c179e"
            ],
            [
             0.4444444444444444,
             "#bd3786"
            ],
            [
             0.5555555555555556,
             "#d8576b"
            ],
            [
             0.6666666666666666,
             "#ed7953"
            ],
            [
             0.7777777777777778,
             "#fb9f3a"
            ],
            [
             0.8888888888888888,
             "#fdca26"
            ],
            [
             1,
             "#f0f921"
            ]
           ],
           "sequentialminus": [
            [
             0,
             "#0d0887"
            ],
            [
             0.1111111111111111,
             "#46039f"
            ],
            [
             0.2222222222222222,
             "#7201a8"
            ],
            [
             0.3333333333333333,
             "#9c179e"
            ],
            [
             0.4444444444444444,
             "#bd3786"
            ],
            [
             0.5555555555555556,
             "#d8576b"
            ],
            [
             0.6666666666666666,
             "#ed7953"
            ],
            [
             0.7777777777777778,
             "#fb9f3a"
            ],
            [
             0.8888888888888888,
             "#fdca26"
            ],
            [
             1,
             "#f0f921"
            ]
           ]
          },
          "colorway": [
           "#636efa",
           "#EF553B",
           "#00cc96",
           "#ab63fa",
           "#FFA15A",
           "#19d3f3",
           "#FF6692",
           "#B6E880",
           "#FF97FF",
           "#FECB52"
          ],
          "font": {
           "color": "#2a3f5f"
          },
          "geo": {
           "bgcolor": "white",
           "lakecolor": "white",
           "landcolor": "#E5ECF6",
           "showlakes": true,
           "showland": true,
           "subunitcolor": "white"
          },
          "hoverlabel": {
           "align": "left"
          },
          "hovermode": "closest",
          "mapbox": {
           "style": "light"
          },
          "paper_bgcolor": "white",
          "plot_bgcolor": "#E5ECF6",
          "polar": {
           "angularaxis": {
            "gridcolor": "white",
            "linecolor": "white",
            "ticks": ""
           },
           "bgcolor": "#E5ECF6",
           "radialaxis": {
            "gridcolor": "white",
            "linecolor": "white",
            "ticks": ""
           }
          },
          "scene": {
           "xaxis": {
            "backgroundcolor": "#E5ECF6",
            "gridcolor": "white",
            "gridwidth": 2,
            "linecolor": "white",
            "showbackground": true,
            "ticks": "",
            "zerolinecolor": "white"
           },
           "yaxis": {
            "backgroundcolor": "#E5ECF6",
            "gridcolor": "white",
            "gridwidth": 2,
            "linecolor": "white",
            "showbackground": true,
            "ticks": "",
            "zerolinecolor": "white"
           },
           "zaxis": {
            "backgroundcolor": "#E5ECF6",
            "gridcolor": "white",
            "gridwidth": 2,
            "linecolor": "white",
            "showbackground": true,
            "ticks": "",
            "zerolinecolor": "white"
           }
          },
          "shapedefaults": {
           "line": {
            "color": "#2a3f5f"
           }
          },
          "ternary": {
           "aaxis": {
            "gridcolor": "white",
            "linecolor": "white",
            "ticks": ""
           },
           "baxis": {
            "gridcolor": "white",
            "linecolor": "white",
            "ticks": ""
           },
           "bgcolor": "#E5ECF6",
           "caxis": {
            "gridcolor": "white",
            "linecolor": "white",
            "ticks": ""
           }
          },
          "title": {
           "x": 0.05
          },
          "xaxis": {
           "automargin": true,
           "gridcolor": "white",
           "linecolor": "white",
           "ticks": "",
           "title": {
            "standoff": 15
           },
           "zerolinecolor": "white",
           "zerolinewidth": 2
          },
          "yaxis": {
           "automargin": true,
           "gridcolor": "white",
           "linecolor": "white",
           "ticks": "",
           "title": {
            "standoff": 15
           },
           "zerolinecolor": "white",
           "zerolinewidth": 2
          }
         }
        },
        "title": {
         "text": "Proporsi negara pemesan country"
        }
       }
      }
     },
     "metadata": {},
     "output_type": "display_data"
    }
   ],
   "source": [
    "for i in ['country']:\n",
    "    fig=px.sunburst(df,path=[i,'is_canceled'],color='is_canceled', title=f'Proporsi negara pemesan {i}')\n",
    "    fig.show()\n"
   ]
  },
  {
   "attachments": {},
   "cell_type": "markdown",
   "metadata": {},
   "source": [
    "karena jika dilihat dari grafik pun bahwa data negara ini didominansi dengan data dari negara portugal saja dengan nilai 40% dari total keseluruhan data sedangkan data kedua terbesar hanya 10% dari keseluruhan data. selain tidak cocok untuk machine learning  juga tidak cocok untuk dianalisa karena data yang tidak seimbang juga karena beberapa data di tutupi oleh anonimity reason sehingga semakin sulit mencari korelasi antara country dengan fitur lain."
   ]
  },
  {
   "cell_type": "code",
   "execution_count": 15,
   "metadata": {},
   "outputs": [],
   "source": [
    "df.drop('country', axis=1, inplace= True)"
   ]
  },
  {
   "cell_type": "code",
   "execution_count": 16,
   "metadata": {},
   "outputs": [
    {
     "name": "stdout",
     "output_type": "stream",
     "text": [
      "<class 'pandas.core.frame.DataFrame'>\n",
      "RangeIndex: 83573 entries, 0 to 83572\n",
      "Data columns (total 10 columns):\n",
      " #   Column                       Non-Null Count  Dtype \n",
      "---  ------                       --------------  ----- \n",
      " 0   market_segment               83573 non-null  object\n",
      " 1   previous_cancellations       83573 non-null  int64 \n",
      " 2   booking_changes              83573 non-null  int64 \n",
      " 3   deposit_type                 83573 non-null  object\n",
      " 4   days_in_waiting_list         83573 non-null  int64 \n",
      " 5   customer_type                83573 non-null  object\n",
      " 6   reserved_room_type           83573 non-null  object\n",
      " 7   required_car_parking_spaces  83573 non-null  int64 \n",
      " 8   total_of_special_requests    83573 non-null  int64 \n",
      " 9   is_canceled                  83573 non-null  int64 \n",
      "dtypes: int64(6), object(4)\n",
      "memory usage: 6.4+ MB\n"
     ]
    }
   ],
   "source": [
    "df.info()"
   ]
  },
  {
   "cell_type": "code",
   "execution_count": 17,
   "metadata": {},
   "outputs": [
    {
     "data": {
      "text/html": [
       "<div>\n",
       "<style scoped>\n",
       "    .dataframe tbody tr th:only-of-type {\n",
       "        vertical-align: middle;\n",
       "    }\n",
       "\n",
       "    .dataframe tbody tr th {\n",
       "        vertical-align: top;\n",
       "    }\n",
       "\n",
       "    .dataframe thead th {\n",
       "        text-align: right;\n",
       "    }\n",
       "</style>\n",
       "<table border=\"1\" class=\"dataframe\">\n",
       "  <thead>\n",
       "    <tr style=\"text-align: right;\">\n",
       "      <th></th>\n",
       "      <th>previous_cancellations</th>\n",
       "      <th>booking_changes</th>\n",
       "      <th>days_in_waiting_list</th>\n",
       "      <th>required_car_parking_spaces</th>\n",
       "      <th>total_of_special_requests</th>\n",
       "      <th>is_canceled</th>\n",
       "    </tr>\n",
       "  </thead>\n",
       "  <tbody>\n",
       "    <tr>\n",
       "      <th>count</th>\n",
       "      <td>83573.000000</td>\n",
       "      <td>83573.000000</td>\n",
       "      <td>83573.000000</td>\n",
       "      <td>83573.000000</td>\n",
       "      <td>83573.000000</td>\n",
       "      <td>83573.000000</td>\n",
       "    </tr>\n",
       "    <tr>\n",
       "      <th>mean</th>\n",
       "      <td>0.086798</td>\n",
       "      <td>0.220897</td>\n",
       "      <td>2.330561</td>\n",
       "      <td>0.062999</td>\n",
       "      <td>0.573211</td>\n",
       "      <td>0.368277</td>\n",
       "    </tr>\n",
       "    <tr>\n",
       "      <th>std</th>\n",
       "      <td>0.841011</td>\n",
       "      <td>0.648635</td>\n",
       "      <td>17.673051</td>\n",
       "      <td>0.246919</td>\n",
       "      <td>0.795163</td>\n",
       "      <td>0.482340</td>\n",
       "    </tr>\n",
       "    <tr>\n",
       "      <th>min</th>\n",
       "      <td>0.000000</td>\n",
       "      <td>0.000000</td>\n",
       "      <td>0.000000</td>\n",
       "      <td>0.000000</td>\n",
       "      <td>0.000000</td>\n",
       "      <td>0.000000</td>\n",
       "    </tr>\n",
       "    <tr>\n",
       "      <th>25%</th>\n",
       "      <td>0.000000</td>\n",
       "      <td>0.000000</td>\n",
       "      <td>0.000000</td>\n",
       "      <td>0.000000</td>\n",
       "      <td>0.000000</td>\n",
       "      <td>0.000000</td>\n",
       "    </tr>\n",
       "    <tr>\n",
       "      <th>50%</th>\n",
       "      <td>0.000000</td>\n",
       "      <td>0.000000</td>\n",
       "      <td>0.000000</td>\n",
       "      <td>0.000000</td>\n",
       "      <td>0.000000</td>\n",
       "      <td>0.000000</td>\n",
       "    </tr>\n",
       "    <tr>\n",
       "      <th>75%</th>\n",
       "      <td>0.000000</td>\n",
       "      <td>0.000000</td>\n",
       "      <td>0.000000</td>\n",
       "      <td>0.000000</td>\n",
       "      <td>1.000000</td>\n",
       "      <td>1.000000</td>\n",
       "    </tr>\n",
       "    <tr>\n",
       "      <th>max</th>\n",
       "      <td>26.000000</td>\n",
       "      <td>21.000000</td>\n",
       "      <td>391.000000</td>\n",
       "      <td>8.000000</td>\n",
       "      <td>5.000000</td>\n",
       "      <td>1.000000</td>\n",
       "    </tr>\n",
       "  </tbody>\n",
       "</table>\n",
       "</div>"
      ],
      "text/plain": [
       "       previous_cancellations  booking_changes  days_in_waiting_list  \\\n",
       "count            83573.000000     83573.000000          83573.000000   \n",
       "mean                 0.086798         0.220897              2.330561   \n",
       "std                  0.841011         0.648635             17.673051   \n",
       "min                  0.000000         0.000000              0.000000   \n",
       "25%                  0.000000         0.000000              0.000000   \n",
       "50%                  0.000000         0.000000              0.000000   \n",
       "75%                  0.000000         0.000000              0.000000   \n",
       "max                 26.000000        21.000000            391.000000   \n",
       "\n",
       "       required_car_parking_spaces  total_of_special_requests   is_canceled  \n",
       "count                 83573.000000               83573.000000  83573.000000  \n",
       "mean                      0.062999                   0.573211      0.368277  \n",
       "std                       0.246919                   0.795163      0.482340  \n",
       "min                       0.000000                   0.000000      0.000000  \n",
       "25%                       0.000000                   0.000000      0.000000  \n",
       "50%                       0.000000                   0.000000      0.000000  \n",
       "75%                       0.000000                   1.000000      1.000000  \n",
       "max                       8.000000                   5.000000      1.000000  "
      ]
     },
     "execution_count": 17,
     "metadata": {},
     "output_type": "execute_result"
    }
   ],
   "source": [
    "df.describe()"
   ]
  },
  {
   "cell_type": "code",
   "execution_count": 18,
   "metadata": {},
   "outputs": [
    {
     "data": {
      "text/html": [
       "<div>\n",
       "<style scoped>\n",
       "    .dataframe tbody tr th:only-of-type {\n",
       "        vertical-align: middle;\n",
       "    }\n",
       "\n",
       "    .dataframe tbody tr th {\n",
       "        vertical-align: top;\n",
       "    }\n",
       "\n",
       "    .dataframe thead th {\n",
       "        text-align: right;\n",
       "    }\n",
       "</style>\n",
       "<table border=\"1\" class=\"dataframe\">\n",
       "  <thead>\n",
       "    <tr style=\"text-align: right;\">\n",
       "      <th></th>\n",
       "      <th>previous_cancellations</th>\n",
       "      <th>booking_changes</th>\n",
       "      <th>days_in_waiting_list</th>\n",
       "      <th>required_car_parking_spaces</th>\n",
       "      <th>total_of_special_requests</th>\n",
       "      <th>is_canceled</th>\n",
       "    </tr>\n",
       "  </thead>\n",
       "  <tbody>\n",
       "    <tr>\n",
       "      <th>count</th>\n",
       "      <td>83573.000000</td>\n",
       "      <td>83573.000000</td>\n",
       "      <td>83573.000000</td>\n",
       "      <td>83573.000000</td>\n",
       "      <td>83573.000000</td>\n",
       "      <td>83573.000000</td>\n",
       "    </tr>\n",
       "    <tr>\n",
       "      <th>mean</th>\n",
       "      <td>0.086798</td>\n",
       "      <td>0.220897</td>\n",
       "      <td>2.330561</td>\n",
       "      <td>0.062999</td>\n",
       "      <td>0.573211</td>\n",
       "      <td>0.368277</td>\n",
       "    </tr>\n",
       "    <tr>\n",
       "      <th>std</th>\n",
       "      <td>0.841011</td>\n",
       "      <td>0.648635</td>\n",
       "      <td>17.673051</td>\n",
       "      <td>0.246919</td>\n",
       "      <td>0.795163</td>\n",
       "      <td>0.482340</td>\n",
       "    </tr>\n",
       "    <tr>\n",
       "      <th>min</th>\n",
       "      <td>0.000000</td>\n",
       "      <td>0.000000</td>\n",
       "      <td>0.000000</td>\n",
       "      <td>0.000000</td>\n",
       "      <td>0.000000</td>\n",
       "      <td>0.000000</td>\n",
       "    </tr>\n",
       "    <tr>\n",
       "      <th>25%</th>\n",
       "      <td>0.000000</td>\n",
       "      <td>0.000000</td>\n",
       "      <td>0.000000</td>\n",
       "      <td>0.000000</td>\n",
       "      <td>0.000000</td>\n",
       "      <td>0.000000</td>\n",
       "    </tr>\n",
       "    <tr>\n",
       "      <th>50%</th>\n",
       "      <td>0.000000</td>\n",
       "      <td>0.000000</td>\n",
       "      <td>0.000000</td>\n",
       "      <td>0.000000</td>\n",
       "      <td>0.000000</td>\n",
       "      <td>0.000000</td>\n",
       "    </tr>\n",
       "    <tr>\n",
       "      <th>75%</th>\n",
       "      <td>0.000000</td>\n",
       "      <td>0.000000</td>\n",
       "      <td>0.000000</td>\n",
       "      <td>0.000000</td>\n",
       "      <td>1.000000</td>\n",
       "      <td>1.000000</td>\n",
       "    </tr>\n",
       "    <tr>\n",
       "      <th>max</th>\n",
       "      <td>26.000000</td>\n",
       "      <td>21.000000</td>\n",
       "      <td>391.000000</td>\n",
       "      <td>8.000000</td>\n",
       "      <td>5.000000</td>\n",
       "      <td>1.000000</td>\n",
       "    </tr>\n",
       "  </tbody>\n",
       "</table>\n",
       "</div>"
      ],
      "text/plain": [
       "       previous_cancellations  booking_changes  days_in_waiting_list  \\\n",
       "count            83573.000000     83573.000000          83573.000000   \n",
       "mean                 0.086798         0.220897              2.330561   \n",
       "std                  0.841011         0.648635             17.673051   \n",
       "min                  0.000000         0.000000              0.000000   \n",
       "25%                  0.000000         0.000000              0.000000   \n",
       "50%                  0.000000         0.000000              0.000000   \n",
       "75%                  0.000000         0.000000              0.000000   \n",
       "max                 26.000000        21.000000            391.000000   \n",
       "\n",
       "       required_car_parking_spaces  total_of_special_requests   is_canceled  \n",
       "count                 83573.000000               83573.000000  83573.000000  \n",
       "mean                      0.062999                   0.573211      0.368277  \n",
       "std                       0.246919                   0.795163      0.482340  \n",
       "min                       0.000000                   0.000000      0.000000  \n",
       "25%                       0.000000                   0.000000      0.000000  \n",
       "50%                       0.000000                   0.000000      0.000000  \n",
       "75%                       0.000000                   1.000000      1.000000  \n",
       "max                       8.000000                   5.000000      1.000000  "
      ]
     },
     "execution_count": 18,
     "metadata": {},
     "output_type": "execute_result"
    }
   ],
   "source": [
    "df.dropna().describe()"
   ]
  },
  {
   "cell_type": "code",
   "execution_count": 19,
   "metadata": {},
   "outputs": [
    {
     "data": {
      "text/html": [
       "<div>\n",
       "<style scoped>\n",
       "    .dataframe tbody tr th:only-of-type {\n",
       "        vertical-align: middle;\n",
       "    }\n",
       "\n",
       "    .dataframe tbody tr th {\n",
       "        vertical-align: top;\n",
       "    }\n",
       "\n",
       "    .dataframe thead th {\n",
       "        text-align: right;\n",
       "    }\n",
       "</style>\n",
       "<table border=\"1\" class=\"dataframe\">\n",
       "  <thead>\n",
       "    <tr style=\"text-align: right;\">\n",
       "      <th></th>\n",
       "      <th>market_segment</th>\n",
       "      <th>deposit_type</th>\n",
       "      <th>customer_type</th>\n",
       "      <th>reserved_room_type</th>\n",
       "    </tr>\n",
       "  </thead>\n",
       "  <tbody>\n",
       "    <tr>\n",
       "      <th>count</th>\n",
       "      <td>83573</td>\n",
       "      <td>83573</td>\n",
       "      <td>83573</td>\n",
       "      <td>83573</td>\n",
       "    </tr>\n",
       "    <tr>\n",
       "      <th>unique</th>\n",
       "      <td>8</td>\n",
       "      <td>3</td>\n",
       "      <td>4</td>\n",
       "      <td>10</td>\n",
       "    </tr>\n",
       "    <tr>\n",
       "      <th>top</th>\n",
       "      <td>Online TA</td>\n",
       "      <td>No Deposit</td>\n",
       "      <td>Transient</td>\n",
       "      <td>A</td>\n",
       "    </tr>\n",
       "    <tr>\n",
       "      <th>freq</th>\n",
       "      <td>39460</td>\n",
       "      <td>73352</td>\n",
       "      <td>62732</td>\n",
       "      <td>60041</td>\n",
       "    </tr>\n",
       "  </tbody>\n",
       "</table>\n",
       "</div>"
      ],
      "text/plain": [
       "       market_segment deposit_type customer_type reserved_room_type\n",
       "count           83573        83573         83573              83573\n",
       "unique              8            3             4                 10\n",
       "top         Online TA   No Deposit     Transient                  A\n",
       "freq            39460        73352         62732              60041"
      ]
     },
     "execution_count": 19,
     "metadata": {},
     "output_type": "execute_result"
    }
   ],
   "source": [
    "df.dropna().describe(include= 'O')"
   ]
  },
  {
   "cell_type": "code",
   "execution_count": 20,
   "metadata": {},
   "outputs": [
    {
     "data": {
      "text/html": [
       "<div>\n",
       "<style scoped>\n",
       "    .dataframe tbody tr th:only-of-type {\n",
       "        vertical-align: middle;\n",
       "    }\n",
       "\n",
       "    .dataframe tbody tr th {\n",
       "        vertical-align: top;\n",
       "    }\n",
       "\n",
       "    .dataframe thead th {\n",
       "        text-align: right;\n",
       "    }\n",
       "</style>\n",
       "<table border=\"1\" class=\"dataframe\">\n",
       "  <thead>\n",
       "    <tr style=\"text-align: right;\">\n",
       "      <th></th>\n",
       "      <th>market_segment</th>\n",
       "      <th>deposit_type</th>\n",
       "      <th>customer_type</th>\n",
       "      <th>reserved_room_type</th>\n",
       "    </tr>\n",
       "  </thead>\n",
       "  <tbody>\n",
       "    <tr>\n",
       "      <th>count</th>\n",
       "      <td>83573</td>\n",
       "      <td>83573</td>\n",
       "      <td>83573</td>\n",
       "      <td>83573</td>\n",
       "    </tr>\n",
       "    <tr>\n",
       "      <th>unique</th>\n",
       "      <td>8</td>\n",
       "      <td>3</td>\n",
       "      <td>4</td>\n",
       "      <td>10</td>\n",
       "    </tr>\n",
       "    <tr>\n",
       "      <th>top</th>\n",
       "      <td>Online TA</td>\n",
       "      <td>No Deposit</td>\n",
       "      <td>Transient</td>\n",
       "      <td>A</td>\n",
       "    </tr>\n",
       "    <tr>\n",
       "      <th>freq</th>\n",
       "      <td>39460</td>\n",
       "      <td>73352</td>\n",
       "      <td>62732</td>\n",
       "      <td>60041</td>\n",
       "    </tr>\n",
       "  </tbody>\n",
       "</table>\n",
       "</div>"
      ],
      "text/plain": [
       "       market_segment deposit_type customer_type reserved_room_type\n",
       "count           83573        83573         83573              83573\n",
       "unique              8            3             4                 10\n",
       "top         Online TA   No Deposit     Transient                  A\n",
       "freq            39460        73352         62732              60041"
      ]
     },
     "execution_count": 20,
     "metadata": {},
     "output_type": "execute_result"
    }
   ],
   "source": [
    "df.describe(include= 'O')"
   ]
  },
  {
   "cell_type": "code",
   "execution_count": 21,
   "metadata": {},
   "outputs": [
    {
     "data": {
      "text/plain": [
       "0    52795\n",
       "1    30778\n",
       "Name: is_canceled, dtype: int64"
      ]
     },
     "execution_count": 21,
     "metadata": {},
     "output_type": "execute_result"
    }
   ],
   "source": [
    "df['is_canceled'].value_counts()"
   ]
  },
  {
   "cell_type": "code",
   "execution_count": 22,
   "metadata": {},
   "outputs": [
    {
     "data": {
      "text/plain": [
       "0    0.631723\n",
       "1    0.368277\n",
       "Name: is_canceled, dtype: float64"
      ]
     },
     "execution_count": 22,
     "metadata": {},
     "output_type": "execute_result"
    }
   ],
   "source": [
    "df['is_canceled'].value_counts(normalize= True)"
   ]
  },
  {
   "cell_type": "code",
   "execution_count": 23,
   "metadata": {},
   "outputs": [
    {
     "data": {
      "text/html": [
       "<div>\n",
       "<style scoped>\n",
       "    .dataframe tbody tr th:only-of-type {\n",
       "        vertical-align: middle;\n",
       "    }\n",
       "\n",
       "    .dataframe tbody tr th {\n",
       "        vertical-align: top;\n",
       "    }\n",
       "\n",
       "    .dataframe thead th {\n",
       "        text-align: right;\n",
       "    }\n",
       "</style>\n",
       "<table border=\"1\" class=\"dataframe\">\n",
       "  <thead>\n",
       "    <tr style=\"text-align: right;\">\n",
       "      <th></th>\n",
       "      <th>dataFeatures</th>\n",
       "      <th>dataType</th>\n",
       "      <th>null</th>\n",
       "      <th>nullPct</th>\n",
       "      <th>unique</th>\n",
       "      <th>uniqueSample</th>\n",
       "    </tr>\n",
       "  </thead>\n",
       "  <tbody>\n",
       "    <tr>\n",
       "      <th>0</th>\n",
       "      <td>market_segment</td>\n",
       "      <td>object</td>\n",
       "      <td>0</td>\n",
       "      <td>0.0</td>\n",
       "      <td>8</td>\n",
       "      <td>[Offline TA/TO, Aviation]</td>\n",
       "    </tr>\n",
       "    <tr>\n",
       "      <th>1</th>\n",
       "      <td>previous_cancellations</td>\n",
       "      <td>int64</td>\n",
       "      <td>0</td>\n",
       "      <td>0.0</td>\n",
       "      <td>15</td>\n",
       "      <td>[14, 4]</td>\n",
       "    </tr>\n",
       "    <tr>\n",
       "      <th>2</th>\n",
       "      <td>booking_changes</td>\n",
       "      <td>int64</td>\n",
       "      <td>0</td>\n",
       "      <td>0.0</td>\n",
       "      <td>19</td>\n",
       "      <td>[20, 0]</td>\n",
       "    </tr>\n",
       "    <tr>\n",
       "      <th>3</th>\n",
       "      <td>deposit_type</td>\n",
       "      <td>object</td>\n",
       "      <td>0</td>\n",
       "      <td>0.0</td>\n",
       "      <td>3</td>\n",
       "      <td>[No Deposit, Non Refund]</td>\n",
       "    </tr>\n",
       "    <tr>\n",
       "      <th>4</th>\n",
       "      <td>days_in_waiting_list</td>\n",
       "      <td>int64</td>\n",
       "      <td>0</td>\n",
       "      <td>0.0</td>\n",
       "      <td>115</td>\n",
       "      <td>[108, 60]</td>\n",
       "    </tr>\n",
       "    <tr>\n",
       "      <th>5</th>\n",
       "      <td>customer_type</td>\n",
       "      <td>object</td>\n",
       "      <td>0</td>\n",
       "      <td>0.0</td>\n",
       "      <td>4</td>\n",
       "      <td>[Contract, Transient-Party]</td>\n",
       "    </tr>\n",
       "    <tr>\n",
       "      <th>6</th>\n",
       "      <td>reserved_room_type</td>\n",
       "      <td>object</td>\n",
       "      <td>0</td>\n",
       "      <td>0.0</td>\n",
       "      <td>10</td>\n",
       "      <td>[F, C]</td>\n",
       "    </tr>\n",
       "    <tr>\n",
       "      <th>7</th>\n",
       "      <td>required_car_parking_spaces</td>\n",
       "      <td>int64</td>\n",
       "      <td>0</td>\n",
       "      <td>0.0</td>\n",
       "      <td>5</td>\n",
       "      <td>[0, 8]</td>\n",
       "    </tr>\n",
       "    <tr>\n",
       "      <th>8</th>\n",
       "      <td>total_of_special_requests</td>\n",
       "      <td>int64</td>\n",
       "      <td>0</td>\n",
       "      <td>0.0</td>\n",
       "      <td>6</td>\n",
       "      <td>[3, 5]</td>\n",
       "    </tr>\n",
       "    <tr>\n",
       "      <th>9</th>\n",
       "      <td>is_canceled</td>\n",
       "      <td>int64</td>\n",
       "      <td>0</td>\n",
       "      <td>0.0</td>\n",
       "      <td>2</td>\n",
       "      <td>[1, 0]</td>\n",
       "    </tr>\n",
       "  </tbody>\n",
       "</table>\n",
       "</div>"
      ],
      "text/plain": [
       "                  dataFeatures dataType  null  nullPct  unique  \\\n",
       "0               market_segment   object     0      0.0       8   \n",
       "1       previous_cancellations    int64     0      0.0      15   \n",
       "2              booking_changes    int64     0      0.0      19   \n",
       "3                 deposit_type   object     0      0.0       3   \n",
       "4         days_in_waiting_list    int64     0      0.0     115   \n",
       "5                customer_type   object     0      0.0       4   \n",
       "6           reserved_room_type   object     0      0.0      10   \n",
       "7  required_car_parking_spaces    int64     0      0.0       5   \n",
       "8    total_of_special_requests    int64     0      0.0       6   \n",
       "9                  is_canceled    int64     0      0.0       2   \n",
       "\n",
       "                  uniqueSample  \n",
       "0    [Offline TA/TO, Aviation]  \n",
       "1                      [14, 4]  \n",
       "2                      [20, 0]  \n",
       "3     [No Deposit, Non Refund]  \n",
       "4                    [108, 60]  \n",
       "5  [Contract, Transient-Party]  \n",
       "6                       [F, C]  \n",
       "7                       [0, 8]  \n",
       "8                       [3, 5]  \n",
       "9                       [1, 0]  "
      ]
     },
     "execution_count": 23,
     "metadata": {},
     "output_type": "execute_result"
    }
   ],
   "source": [
    "listItem = []\n",
    "for col in df.columns :\n",
    "    listItem.append([col, df[col].dtype, df[col].isna().sum(), round((df[col].isna().sum()/len(df[col])) * 100,2),\n",
    "                    df[col].nunique(), list(df[col].drop_duplicates().sample(2).values)]);\n",
    "\n",
    "dfDesc = pd.DataFrame(columns=['dataFeatures', 'dataType', 'null', 'nullPct', 'unique', 'uniqueSample'],\n",
    "                     data=listItem)\n",
    "dfDesc"
   ]
  },
  {
   "cell_type": "code",
   "execution_count": null,
   "metadata": {},
   "outputs": [],
   "source": []
  },
  {
   "cell_type": "markdown",
   "metadata": {},
   "source": [
    "# Data Analysis"
   ]
  },
  {
   "cell_type": "code",
   "execution_count": 24,
   "metadata": {},
   "outputs": [
    {
     "data": {
      "image/png": "[encoded data removed]",
      "text/plain": [
       "<Figure size 2000x2000 with 8 Axes>"
      ]
     },
     "metadata": {},
     "output_type": "display_data"
    }
   ],
   "source": [
    "count = 0\n",
    "fig = plt.figure(figsize=(20,20))\n",
    "\n",
    "for i in df.drop(columns=['is_canceled','days_in_waiting_list']).columns:\n",
    "    count +=1\n",
    "    ax= plt.subplot(4,2,count)\n",
    "    pd.crosstab(df[i],df['is_canceled'],normalize=0).plot(kind='bar',stacked=True,ax=ax)\n",
    "    fig.tight_layout()\n",
    "\n",
    "plt.show()"
   ]
  },
  {
   "cell_type": "code",
   "execution_count": 25,
   "metadata": {},
   "outputs": [
    {
     "data": {
      "text/html": [
       "<div>\n",
       "<style scoped>\n",
       "    .dataframe tbody tr th:only-of-type {\n",
       "        vertical-align: middle;\n",
       "    }\n",
       "\n",
       "    .dataframe tbody tr th {\n",
       "        vertical-align: top;\n",
       "    }\n",
       "\n",
       "    .dataframe thead th {\n",
       "        text-align: right;\n",
       "    }\n",
       "</style>\n",
       "<table border=\"1\" class=\"dataframe\">\n",
       "  <thead>\n",
       "    <tr style=\"text-align: right;\">\n",
       "      <th>is_canceled</th>\n",
       "      <th>0</th>\n",
       "      <th>1</th>\n",
       "      <th>count</th>\n",
       "    </tr>\n",
       "    <tr>\n",
       "      <th>market_segment</th>\n",
       "      <th></th>\n",
       "      <th></th>\n",
       "      <th></th>\n",
       "    </tr>\n",
       "  </thead>\n",
       "  <tbody>\n",
       "    <tr>\n",
       "      <th>Undefined</th>\n",
       "      <td>NaN</td>\n",
       "      <td>1.000000</td>\n",
       "      <td>1</td>\n",
       "    </tr>\n",
       "    <tr>\n",
       "      <th>Groups</th>\n",
       "      <td>0.386925</td>\n",
       "      <td>0.613075</td>\n",
       "      <td>13721</td>\n",
       "    </tr>\n",
       "    <tr>\n",
       "      <th>Online TA</th>\n",
       "      <td>0.634237</td>\n",
       "      <td>0.365763</td>\n",
       "      <td>39460</td>\n",
       "    </tr>\n",
       "    <tr>\n",
       "      <th>Offline TA/TO</th>\n",
       "      <td>0.659853</td>\n",
       "      <td>0.340147</td>\n",
       "      <td>17025</td>\n",
       "    </tr>\n",
       "    <tr>\n",
       "      <th>Aviation</th>\n",
       "      <td>0.787879</td>\n",
       "      <td>0.212121</td>\n",
       "      <td>165</td>\n",
       "    </tr>\n",
       "    <tr>\n",
       "      <th>Corporate</th>\n",
       "      <td>0.819093</td>\n",
       "      <td>0.180907</td>\n",
       "      <td>3792</td>\n",
       "    </tr>\n",
       "    <tr>\n",
       "      <th>Direct</th>\n",
       "      <td>0.848618</td>\n",
       "      <td>0.151382</td>\n",
       "      <td>8898</td>\n",
       "    </tr>\n",
       "    <tr>\n",
       "      <th>Complementary</th>\n",
       "      <td>0.857143</td>\n",
       "      <td>0.142857</td>\n",
       "      <td>511</td>\n",
       "    </tr>\n",
       "  </tbody>\n",
       "</table>\n",
       "</div>"
      ],
      "text/plain": [
       "is_canceled            0         1  count\n",
       "market_segment                           \n",
       "Undefined            NaN  1.000000      1\n",
       "Groups          0.386925  0.613075  13721\n",
       "Online TA       0.634237  0.365763  39460\n",
       "Offline TA/TO   0.659853  0.340147  17025\n",
       "Aviation        0.787879  0.212121    165\n",
       "Corporate       0.819093  0.180907   3792\n",
       "Direct          0.848618  0.151382   8898\n",
       "Complementary   0.857143  0.142857    511"
      ]
     },
     "metadata": {},
     "output_type": "display_data"
    },
    {
     "data": {
      "text/html": [
       "<div>\n",
       "<style scoped>\n",
       "    .dataframe tbody tr th:only-of-type {\n",
       "        vertical-align: middle;\n",
       "    }\n",
       "\n",
       "    .dataframe tbody tr th {\n",
       "        vertical-align: top;\n",
       "    }\n",
       "\n",
       "    .dataframe thead th {\n",
       "        text-align: right;\n",
       "    }\n",
       "</style>\n",
       "<table border=\"1\" class=\"dataframe\">\n",
       "  <thead>\n",
       "    <tr style=\"text-align: right;\">\n",
       "      <th>is_canceled</th>\n",
       "      <th>0</th>\n",
       "      <th>1</th>\n",
       "      <th>count</th>\n",
       "    </tr>\n",
       "    <tr>\n",
       "      <th>previous_cancellations</th>\n",
       "      <th></th>\n",
       "      <th></th>\n",
       "      <th></th>\n",
       "    </tr>\n",
       "  </thead>\n",
       "  <tbody>\n",
       "    <tr>\n",
       "      <th>14</th>\n",
       "      <td>NaN</td>\n",
       "      <td>1.000000</td>\n",
       "      <td>10</td>\n",
       "    </tr>\n",
       "    <tr>\n",
       "      <th>19</th>\n",
       "      <td>NaN</td>\n",
       "      <td>1.000000</td>\n",
       "      <td>12</td>\n",
       "    </tr>\n",
       "    <tr>\n",
       "      <th>21</th>\n",
       "      <td>NaN</td>\n",
       "      <td>1.000000</td>\n",
       "      <td>1</td>\n",
       "    </tr>\n",
       "    <tr>\n",
       "      <th>24</th>\n",
       "      <td>NaN</td>\n",
       "      <td>1.000000</td>\n",
       "      <td>33</td>\n",
       "    </tr>\n",
       "    <tr>\n",
       "      <th>25</th>\n",
       "      <td>NaN</td>\n",
       "      <td>1.000000</td>\n",
       "      <td>17</td>\n",
       "    </tr>\n",
       "    <tr>\n",
       "      <th>26</th>\n",
       "      <td>NaN</td>\n",
       "      <td>1.000000</td>\n",
       "      <td>18</td>\n",
       "    </tr>\n",
       "    <tr>\n",
       "      <th>1</th>\n",
       "      <td>0.056572</td>\n",
       "      <td>0.943428</td>\n",
       "      <td>4207</td>\n",
       "    </tr>\n",
       "    <tr>\n",
       "      <th>13</th>\n",
       "      <td>0.100000</td>\n",
       "      <td>0.900000</td>\n",
       "      <td>10</td>\n",
       "    </tr>\n",
       "    <tr>\n",
       "      <th>3</th>\n",
       "      <td>0.652174</td>\n",
       "      <td>0.347826</td>\n",
       "      <td>46</td>\n",
       "    </tr>\n",
       "    <tr>\n",
       "      <th>0</th>\n",
       "      <td>0.662914</td>\n",
       "      <td>0.337086</td>\n",
       "      <td>79060</td>\n",
       "    </tr>\n",
       "    <tr>\n",
       "      <th>6</th>\n",
       "      <td>0.684211</td>\n",
       "      <td>0.315789</td>\n",
       "      <td>19</td>\n",
       "    </tr>\n",
       "    <tr>\n",
       "      <th>2</th>\n",
       "      <td>0.686047</td>\n",
       "      <td>0.313953</td>\n",
       "      <td>86</td>\n",
       "    </tr>\n",
       "    <tr>\n",
       "      <th>11</th>\n",
       "      <td>0.750000</td>\n",
       "      <td>0.250000</td>\n",
       "      <td>28</td>\n",
       "    </tr>\n",
       "    <tr>\n",
       "      <th>4</th>\n",
       "      <td>0.842105</td>\n",
       "      <td>0.157895</td>\n",
       "      <td>19</td>\n",
       "    </tr>\n",
       "    <tr>\n",
       "      <th>5</th>\n",
       "      <td>1.000000</td>\n",
       "      <td>NaN</td>\n",
       "      <td>7</td>\n",
       "    </tr>\n",
       "  </tbody>\n",
       "</table>\n",
       "</div>"
      ],
      "text/plain": [
       "is_canceled                    0         1  count\n",
       "previous_cancellations                           \n",
       "14                           NaN  1.000000     10\n",
       "19                           NaN  1.000000     12\n",
       "21                           NaN  1.000000      1\n",
       "24                           NaN  1.000000     33\n",
       "25                           NaN  1.000000     17\n",
       "26                           NaN  1.000000     18\n",
       "1                       0.056572  0.943428   4207\n",
       "13                      0.100000  0.900000     10\n",
       "3                       0.652174  0.347826     46\n",
       "0                       0.662914  0.337086  79060\n",
       "6                       0.684211  0.315789     19\n",
       "2                       0.686047  0.313953     86\n",
       "11                      0.750000  0.250000     28\n",
       "4                       0.842105  0.157895     19\n",
       "5                       1.000000       NaN      7"
      ]
     },
     "metadata": {},
     "output_type": "display_data"
    },
    {
     "data": {
      "text/html": [
       "<div>\n",
       "<style scoped>\n",
       "    .dataframe tbody tr th:only-of-type {\n",
       "        vertical-align: middle;\n",
       "    }\n",
       "\n",
       "    .dataframe tbody tr th {\n",
       "        vertical-align: top;\n",
       "    }\n",
       "\n",
       "    .dataframe thead th {\n",
       "        text-align: right;\n",
       "    }\n",
       "</style>\n",
       "<table border=\"1\" class=\"dataframe\">\n",
       "  <thead>\n",
       "    <tr style=\"text-align: right;\">\n",
       "      <th>is_canceled</th>\n",
       "      <th>0</th>\n",
       "      <th>1</th>\n",
       "      <th>count</th>\n",
       "    </tr>\n",
       "    <tr>\n",
       "      <th>booking_changes</th>\n",
       "      <th></th>\n",
       "      <th></th>\n",
       "      <th></th>\n",
       "    </tr>\n",
       "  </thead>\n",
       "  <tbody>\n",
       "    <tr>\n",
       "      <th>16</th>\n",
       "      <td>0.500000</td>\n",
       "      <td>0.500000</td>\n",
       "      <td>2</td>\n",
       "    </tr>\n",
       "    <tr>\n",
       "      <th>0</th>\n",
       "      <td>0.593639</td>\n",
       "      <td>0.406361</td>\n",
       "      <td>70873</td>\n",
       "    </tr>\n",
       "    <tr>\n",
       "      <th>8</th>\n",
       "      <td>0.600000</td>\n",
       "      <td>0.400000</td>\n",
       "      <td>10</td>\n",
       "    </tr>\n",
       "    <tr>\n",
       "      <th>6</th>\n",
       "      <td>0.692308</td>\n",
       "      <td>0.307692</td>\n",
       "      <td>39</td>\n",
       "    </tr>\n",
       "    <tr>\n",
       "      <th>10</th>\n",
       "      <td>0.800000</td>\n",
       "      <td>0.200000</td>\n",
       "      <td>5</td>\n",
       "    </tr>\n",
       "    <tr>\n",
       "      <th>2</th>\n",
       "      <td>0.802790</td>\n",
       "      <td>0.197210</td>\n",
       "      <td>2652</td>\n",
       "    </tr>\n",
       "    <tr>\n",
       "      <th>4</th>\n",
       "      <td>0.834615</td>\n",
       "      <td>0.165385</td>\n",
       "      <td>260</td>\n",
       "    </tr>\n",
       "    <tr>\n",
       "      <th>5</th>\n",
       "      <td>0.844444</td>\n",
       "      <td>0.155556</td>\n",
       "      <td>90</td>\n",
       "    </tr>\n",
       "    <tr>\n",
       "      <th>3</th>\n",
       "      <td>0.856025</td>\n",
       "      <td>0.143975</td>\n",
       "      <td>639</td>\n",
       "    </tr>\n",
       "    <tr>\n",
       "      <th>1</th>\n",
       "      <td>0.856410</td>\n",
       "      <td>0.143590</td>\n",
       "      <td>8963</td>\n",
       "    </tr>\n",
       "    <tr>\n",
       "      <th>7</th>\n",
       "      <td>0.956522</td>\n",
       "      <td>0.043478</td>\n",
       "      <td>23</td>\n",
       "    </tr>\n",
       "    <tr>\n",
       "      <th>9</th>\n",
       "      <td>1.000000</td>\n",
       "      <td>NaN</td>\n",
       "      <td>4</td>\n",
       "    </tr>\n",
       "    <tr>\n",
       "      <th>12</th>\n",
       "      <td>1.000000</td>\n",
       "      <td>NaN</td>\n",
       "      <td>2</td>\n",
       "    </tr>\n",
       "    <tr>\n",
       "      <th>13</th>\n",
       "      <td>1.000000</td>\n",
       "      <td>NaN</td>\n",
       "      <td>4</td>\n",
       "    </tr>\n",
       "    <tr>\n",
       "      <th>14</th>\n",
       "      <td>1.000000</td>\n",
       "      <td>NaN</td>\n",
       "      <td>2</td>\n",
       "    </tr>\n",
       "    <tr>\n",
       "      <th>15</th>\n",
       "      <td>1.000000</td>\n",
       "      <td>NaN</td>\n",
       "      <td>1</td>\n",
       "    </tr>\n",
       "    <tr>\n",
       "      <th>17</th>\n",
       "      <td>1.000000</td>\n",
       "      <td>NaN</td>\n",
       "      <td>2</td>\n",
       "    </tr>\n",
       "    <tr>\n",
       "      <th>20</th>\n",
       "      <td>1.000000</td>\n",
       "      <td>NaN</td>\n",
       "      <td>1</td>\n",
       "    </tr>\n",
       "    <tr>\n",
       "      <th>21</th>\n",
       "      <td>1.000000</td>\n",
       "      <td>NaN</td>\n",
       "      <td>1</td>\n",
       "    </tr>\n",
       "  </tbody>\n",
       "</table>\n",
       "</div>"
      ],
      "text/plain": [
       "is_canceled             0         1  count\n",
       "booking_changes                           \n",
       "16               0.500000  0.500000      2\n",
       "0                0.593639  0.406361  70873\n",
       "8                0.600000  0.400000     10\n",
       "6                0.692308  0.307692     39\n",
       "10               0.800000  0.200000      5\n",
       "2                0.802790  0.197210   2652\n",
       "4                0.834615  0.165385    260\n",
       "5                0.844444  0.155556     90\n",
       "3                0.856025  0.143975    639\n",
       "1                0.856410  0.143590   8963\n",
       "7                0.956522  0.043478     23\n",
       "9                1.000000       NaN      4\n",
       "12               1.000000       NaN      2\n",
       "13               1.000000       NaN      4\n",
       "14               1.000000       NaN      2\n",
       "15               1.000000       NaN      1\n",
       "17               1.000000       NaN      2\n",
       "20               1.000000       NaN      1\n",
       "21               1.000000       NaN      1"
      ]
     },
     "metadata": {},
     "output_type": "display_data"
    },
    {
     "data": {
      "text/html": [
       "<div>\n",
       "<style scoped>\n",
       "    .dataframe tbody tr th:only-of-type {\n",
       "        vertical-align: middle;\n",
       "    }\n",
       "\n",
       "    .dataframe tbody tr th {\n",
       "        vertical-align: top;\n",
       "    }\n",
       "\n",
       "    .dataframe thead th {\n",
       "        text-align: right;\n",
       "    }\n",
       "</style>\n",
       "<table border=\"1\" class=\"dataframe\">\n",
       "  <thead>\n",
       "    <tr style=\"text-align: right;\">\n",
       "      <th>is_canceled</th>\n",
       "      <th>0</th>\n",
       "      <th>1</th>\n",
       "      <th>count</th>\n",
       "    </tr>\n",
       "    <tr>\n",
       "      <th>deposit_type</th>\n",
       "      <th></th>\n",
       "      <th></th>\n",
       "      <th></th>\n",
       "    </tr>\n",
       "  </thead>\n",
       "  <tbody>\n",
       "    <tr>\n",
       "      <th>Non Refund</th>\n",
       "      <td>0.006231</td>\n",
       "      <td>0.993769</td>\n",
       "      <td>10111</td>\n",
       "    </tr>\n",
       "    <tr>\n",
       "      <th>No Deposit</th>\n",
       "      <td>0.717704</td>\n",
       "      <td>0.282296</td>\n",
       "      <td>73352</td>\n",
       "    </tr>\n",
       "    <tr>\n",
       "      <th>Refundable</th>\n",
       "      <td>0.790909</td>\n",
       "      <td>0.209091</td>\n",
       "      <td>110</td>\n",
       "    </tr>\n",
       "  </tbody>\n",
       "</table>\n",
       "</div>"
      ],
      "text/plain": [
       "is_canceled          0         1  count\n",
       "deposit_type                           \n",
       "Non Refund    0.006231  0.993769  10111\n",
       "No Deposit    0.717704  0.282296  73352\n",
       "Refundable    0.790909  0.209091    110"
      ]
     },
     "metadata": {},
     "output_type": "display_data"
    },
    {
     "data": {
      "text/html": [
       "<div>\n",
       "<style scoped>\n",
       "    .dataframe tbody tr th:only-of-type {\n",
       "        vertical-align: middle;\n",
       "    }\n",
       "\n",
       "    .dataframe tbody tr th {\n",
       "        vertical-align: top;\n",
       "    }\n",
       "\n",
       "    .dataframe thead th {\n",
       "        text-align: right;\n",
       "    }\n",
       "</style>\n",
       "<table border=\"1\" class=\"dataframe\">\n",
       "  <thead>\n",
       "    <tr style=\"text-align: right;\">\n",
       "      <th>is_canceled</th>\n",
       "      <th>0</th>\n",
       "      <th>1</th>\n",
       "      <th>count</th>\n",
       "    </tr>\n",
       "    <tr>\n",
       "      <th>days_in_waiting_list</th>\n",
       "      <th></th>\n",
       "      <th></th>\n",
       "      <th></th>\n",
       "    </tr>\n",
       "  </thead>\n",
       "  <tbody>\n",
       "    <tr>\n",
       "      <th>391</th>\n",
       "      <td>NaN</td>\n",
       "      <td>1.0</td>\n",
       "      <td>33</td>\n",
       "    </tr>\n",
       "    <tr>\n",
       "      <th>71</th>\n",
       "      <td>NaN</td>\n",
       "      <td>1.0</td>\n",
       "      <td>10</td>\n",
       "    </tr>\n",
       "    <tr>\n",
       "      <th>79</th>\n",
       "      <td>NaN</td>\n",
       "      <td>1.0</td>\n",
       "      <td>14</td>\n",
       "    </tr>\n",
       "    <tr>\n",
       "      <th>26</th>\n",
       "      <td>NaN</td>\n",
       "      <td>1.0</td>\n",
       "      <td>3</td>\n",
       "    </tr>\n",
       "    <tr>\n",
       "      <th>76</th>\n",
       "      <td>NaN</td>\n",
       "      <td>1.0</td>\n",
       "      <td>2</td>\n",
       "    </tr>\n",
       "    <tr>\n",
       "      <th>...</th>\n",
       "      <td>...</td>\n",
       "      <td>...</td>\n",
       "      <td>...</td>\n",
       "    </tr>\n",
       "    <tr>\n",
       "      <th>121</th>\n",
       "      <td>1.0</td>\n",
       "      <td>NaN</td>\n",
       "      <td>1</td>\n",
       "    </tr>\n",
       "    <tr>\n",
       "      <th>150</th>\n",
       "      <td>1.0</td>\n",
       "      <td>NaN</td>\n",
       "      <td>7</td>\n",
       "    </tr>\n",
       "    <tr>\n",
       "      <th>185</th>\n",
       "      <td>1.0</td>\n",
       "      <td>NaN</td>\n",
       "      <td>1</td>\n",
       "    </tr>\n",
       "    <tr>\n",
       "      <th>259</th>\n",
       "      <td>1.0</td>\n",
       "      <td>NaN</td>\n",
       "      <td>8</td>\n",
       "    </tr>\n",
       "    <tr>\n",
       "      <th>330</th>\n",
       "      <td>1.0</td>\n",
       "      <td>NaN</td>\n",
       "      <td>8</td>\n",
       "    </tr>\n",
       "  </tbody>\n",
       "</table>\n",
       "<p>115 rows × 3 columns</p>\n",
       "</div>"
      ],
      "text/plain": [
       "is_canceled             0    1  count\n",
       "days_in_waiting_list                 \n",
       "391                   NaN  1.0     33\n",
       "71                    NaN  1.0     10\n",
       "79                    NaN  1.0     14\n",
       "26                    NaN  1.0      3\n",
       "76                    NaN  1.0      2\n",
       "...                   ...  ...    ...\n",
       "121                   1.0  NaN      1\n",
       "150                   1.0  NaN      7\n",
       "185                   1.0  NaN      1\n",
       "259                   1.0  NaN      8\n",
       "330                   1.0  NaN      8\n",
       "\n",
       "[115 rows x 3 columns]"
      ]
     },
     "metadata": {},
     "output_type": "display_data"
    },
    {
     "data": {
      "text/html": [
       "<div>\n",
       "<style scoped>\n",
       "    .dataframe tbody tr th:only-of-type {\n",
       "        vertical-align: middle;\n",
       "    }\n",
       "\n",
       "    .dataframe tbody tr th {\n",
       "        vertical-align: top;\n",
       "    }\n",
       "\n",
       "    .dataframe thead th {\n",
       "        text-align: right;\n",
       "    }\n",
       "</style>\n",
       "<table border=\"1\" class=\"dataframe\">\n",
       "  <thead>\n",
       "    <tr style=\"text-align: right;\">\n",
       "      <th>is_canceled</th>\n",
       "      <th>0</th>\n",
       "      <th>1</th>\n",
       "      <th>count</th>\n",
       "    </tr>\n",
       "    <tr>\n",
       "      <th>customer_type</th>\n",
       "      <th></th>\n",
       "      <th></th>\n",
       "      <th></th>\n",
       "    </tr>\n",
       "  </thead>\n",
       "  <tbody>\n",
       "    <tr>\n",
       "      <th>Transient</th>\n",
       "      <td>0.595645</td>\n",
       "      <td>0.404355</td>\n",
       "      <td>62732</td>\n",
       "    </tr>\n",
       "    <tr>\n",
       "      <th>Contract</th>\n",
       "      <td>0.692922</td>\n",
       "      <td>0.307078</td>\n",
       "      <td>2882</td>\n",
       "    </tr>\n",
       "    <tr>\n",
       "      <th>Transient-Party</th>\n",
       "      <td>0.744183</td>\n",
       "      <td>0.255817</td>\n",
       "      <td>17536</td>\n",
       "    </tr>\n",
       "    <tr>\n",
       "      <th>Group</th>\n",
       "      <td>0.903073</td>\n",
       "      <td>0.096927</td>\n",
       "      <td>423</td>\n",
       "    </tr>\n",
       "  </tbody>\n",
       "</table>\n",
       "</div>"
      ],
      "text/plain": [
       "is_canceled             0         1  count\n",
       "customer_type                             \n",
       "Transient        0.595645  0.404355  62732\n",
       "Contract         0.692922  0.307078   2882\n",
       "Transient-Party  0.744183  0.255817  17536\n",
       "Group            0.903073  0.096927    423"
      ]
     },
     "metadata": {},
     "output_type": "display_data"
    },
    {
     "data": {
      "text/html": [
       "<div>\n",
       "<style scoped>\n",
       "    .dataframe tbody tr th:only-of-type {\n",
       "        vertical-align: middle;\n",
       "    }\n",
       "\n",
       "    .dataframe tbody tr th {\n",
       "        vertical-align: top;\n",
       "    }\n",
       "\n",
       "    .dataframe thead th {\n",
       "        text-align: right;\n",
       "    }\n",
       "</style>\n",
       "<table border=\"1\" class=\"dataframe\">\n",
       "  <thead>\n",
       "    <tr style=\"text-align: right;\">\n",
       "      <th>is_canceled</th>\n",
       "      <th>0</th>\n",
       "      <th>1</th>\n",
       "      <th>count</th>\n",
       "    </tr>\n",
       "    <tr>\n",
       "      <th>reserved_room_type</th>\n",
       "      <th></th>\n",
       "      <th></th>\n",
       "      <th></th>\n",
       "    </tr>\n",
       "  </thead>\n",
       "  <tbody>\n",
       "    <tr>\n",
       "      <th>P</th>\n",
       "      <td>NaN</td>\n",
       "      <td>1.000000</td>\n",
       "      <td>9</td>\n",
       "    </tr>\n",
       "    <tr>\n",
       "      <th>H</th>\n",
       "      <td>0.593516</td>\n",
       "      <td>0.406484</td>\n",
       "      <td>401</td>\n",
       "    </tr>\n",
       "    <tr>\n",
       "      <th>A</th>\n",
       "      <td>0.610400</td>\n",
       "      <td>0.389600</td>\n",
       "      <td>60041</td>\n",
       "    </tr>\n",
       "    <tr>\n",
       "      <th>G</th>\n",
       "      <td>0.641327</td>\n",
       "      <td>0.358673</td>\n",
       "      <td>1447</td>\n",
       "    </tr>\n",
       "    <tr>\n",
       "      <th>L</th>\n",
       "      <td>0.666667</td>\n",
       "      <td>0.333333</td>\n",
       "      <td>3</td>\n",
       "    </tr>\n",
       "    <tr>\n",
       "      <th>B</th>\n",
       "      <td>0.675985</td>\n",
       "      <td>0.324015</td>\n",
       "      <td>787</td>\n",
       "    </tr>\n",
       "    <tr>\n",
       "      <th>C</th>\n",
       "      <td>0.683507</td>\n",
       "      <td>0.316493</td>\n",
       "      <td>673</td>\n",
       "    </tr>\n",
       "    <tr>\n",
       "      <th>D</th>\n",
       "      <td>0.684386</td>\n",
       "      <td>0.315614</td>\n",
       "      <td>13526</td>\n",
       "    </tr>\n",
       "    <tr>\n",
       "      <th>F</th>\n",
       "      <td>0.702504</td>\n",
       "      <td>0.297496</td>\n",
       "      <td>2037</td>\n",
       "    </tr>\n",
       "    <tr>\n",
       "      <th>E</th>\n",
       "      <td>0.709400</td>\n",
       "      <td>0.290600</td>\n",
       "      <td>4649</td>\n",
       "    </tr>\n",
       "  </tbody>\n",
       "</table>\n",
       "</div>"
      ],
      "text/plain": [
       "is_canceled                0         1  count\n",
       "reserved_room_type                           \n",
       "P                        NaN  1.000000      9\n",
       "H                   0.593516  0.406484    401\n",
       "A                   0.610400  0.389600  60041\n",
       "G                   0.641327  0.358673   1447\n",
       "L                   0.666667  0.333333      3\n",
       "B                   0.675985  0.324015    787\n",
       "C                   0.683507  0.316493    673\n",
       "D                   0.684386  0.315614  13526\n",
       "F                   0.702504  0.297496   2037\n",
       "E                   0.709400  0.290600   4649"
      ]
     },
     "metadata": {},
     "output_type": "display_data"
    },
    {
     "data": {
      "text/html": [
       "<div>\n",
       "<style scoped>\n",
       "    .dataframe tbody tr th:only-of-type {\n",
       "        vertical-align: middle;\n",
       "    }\n",
       "\n",
       "    .dataframe tbody tr th {\n",
       "        vertical-align: top;\n",
       "    }\n",
       "\n",
       "    .dataframe thead th {\n",
       "        text-align: right;\n",
       "    }\n",
       "</style>\n",
       "<table border=\"1\" class=\"dataframe\">\n",
       "  <thead>\n",
       "    <tr style=\"text-align: right;\">\n",
       "      <th>is_canceled</th>\n",
       "      <th>0</th>\n",
       "      <th>1</th>\n",
       "      <th>count</th>\n",
       "    </tr>\n",
       "    <tr>\n",
       "      <th>required_car_parking_spaces</th>\n",
       "      <th></th>\n",
       "      <th></th>\n",
       "      <th></th>\n",
       "    </tr>\n",
       "  </thead>\n",
       "  <tbody>\n",
       "    <tr>\n",
       "      <th>0</th>\n",
       "      <td>0.607153</td>\n",
       "      <td>0.392847</td>\n",
       "      <td>78346</td>\n",
       "    </tr>\n",
       "    <tr>\n",
       "      <th>1</th>\n",
       "      <td>1.000000</td>\n",
       "      <td>NaN</td>\n",
       "      <td>5202</td>\n",
       "    </tr>\n",
       "    <tr>\n",
       "      <th>2</th>\n",
       "      <td>1.000000</td>\n",
       "      <td>NaN</td>\n",
       "      <td>22</td>\n",
       "    </tr>\n",
       "    <tr>\n",
       "      <th>3</th>\n",
       "      <td>1.000000</td>\n",
       "      <td>NaN</td>\n",
       "      <td>1</td>\n",
       "    </tr>\n",
       "    <tr>\n",
       "      <th>8</th>\n",
       "      <td>1.000000</td>\n",
       "      <td>NaN</td>\n",
       "      <td>2</td>\n",
       "    </tr>\n",
       "  </tbody>\n",
       "</table>\n",
       "</div>"
      ],
      "text/plain": [
       "is_canceled                         0         1  count\n",
       "required_car_parking_spaces                           \n",
       "0                            0.607153  0.392847  78346\n",
       "1                            1.000000       NaN   5202\n",
       "2                            1.000000       NaN     22\n",
       "3                            1.000000       NaN      1\n",
       "8                            1.000000       NaN      2"
      ]
     },
     "metadata": {},
     "output_type": "display_data"
    },
    {
     "data": {
      "text/html": [
       "<div>\n",
       "<style scoped>\n",
       "    .dataframe tbody tr th:only-of-type {\n",
       "        vertical-align: middle;\n",
       "    }\n",
       "\n",
       "    .dataframe tbody tr th {\n",
       "        vertical-align: top;\n",
       "    }\n",
       "\n",
       "    .dataframe thead th {\n",
       "        text-align: right;\n",
       "    }\n",
       "</style>\n",
       "<table border=\"1\" class=\"dataframe\">\n",
       "  <thead>\n",
       "    <tr style=\"text-align: right;\">\n",
       "      <th>is_canceled</th>\n",
       "      <th>0</th>\n",
       "      <th>1</th>\n",
       "      <th>count</th>\n",
       "    </tr>\n",
       "    <tr>\n",
       "      <th>total_of_special_requests</th>\n",
       "      <th></th>\n",
       "      <th></th>\n",
       "      <th></th>\n",
       "    </tr>\n",
       "  </thead>\n",
       "  <tbody>\n",
       "    <tr>\n",
       "      <th>0</th>\n",
       "      <td>0.524904</td>\n",
       "      <td>0.475096</td>\n",
       "      <td>49188</td>\n",
       "    </tr>\n",
       "    <tr>\n",
       "      <th>1</th>\n",
       "      <td>0.780047</td>\n",
       "      <td>0.219953</td>\n",
       "      <td>23214</td>\n",
       "    </tr>\n",
       "    <tr>\n",
       "      <th>2</th>\n",
       "      <td>0.784320</td>\n",
       "      <td>0.215680</td>\n",
       "      <td>9120</td>\n",
       "    </tr>\n",
       "    <tr>\n",
       "      <th>3</th>\n",
       "      <td>0.827915</td>\n",
       "      <td>0.172085</td>\n",
       "      <td>1784</td>\n",
       "    </tr>\n",
       "    <tr>\n",
       "      <th>4</th>\n",
       "      <td>0.881356</td>\n",
       "      <td>0.118644</td>\n",
       "      <td>236</td>\n",
       "    </tr>\n",
       "    <tr>\n",
       "      <th>5</th>\n",
       "      <td>0.967742</td>\n",
       "      <td>0.032258</td>\n",
       "      <td>31</td>\n",
       "    </tr>\n",
       "  </tbody>\n",
       "</table>\n",
       "</div>"
      ],
      "text/plain": [
       "is_canceled                       0         1  count\n",
       "total_of_special_requests                           \n",
       "0                          0.524904  0.475096  49188\n",
       "1                          0.780047  0.219953  23214\n",
       "2                          0.784320  0.215680   9120\n",
       "3                          0.827915  0.172085   1784\n",
       "4                          0.881356  0.118644    236\n",
       "5                          0.967742  0.032258     31"
      ]
     },
     "metadata": {},
     "output_type": "display_data"
    }
   ],
   "source": [
    "for i in df.drop(columns=['is_canceled']).columns:\n",
    "    abc = df.groupby(i)['is_canceled'].value_counts(normalize=True).unstack()\n",
    "    abc['count'] = df.groupby(i)['is_canceled'].count()\n",
    "    display(abc.sort_values(by=[1.0], ascending=False))"
   ]
  },
  {
   "cell_type": "code",
   "execution_count": 26,
   "metadata": {},
   "outputs": [
    {
     "data": {
      "text/html": [
       "<div>\n",
       "<style scoped>\n",
       "    .dataframe tbody tr th:only-of-type {\n",
       "        vertical-align: middle;\n",
       "    }\n",
       "\n",
       "    .dataframe tbody tr th {\n",
       "        vertical-align: top;\n",
       "    }\n",
       "\n",
       "    .dataframe thead th {\n",
       "        text-align: right;\n",
       "    }\n",
       "</style>\n",
       "<table border=\"1\" class=\"dataframe\">\n",
       "  <thead>\n",
       "    <tr style=\"text-align: right;\">\n",
       "      <th>is_canceled</th>\n",
       "      <th>0</th>\n",
       "      <th>1</th>\n",
       "    </tr>\n",
       "    <tr>\n",
       "      <th>days_in_waiting_list</th>\n",
       "      <th></th>\n",
       "      <th></th>\n",
       "    </tr>\n",
       "  </thead>\n",
       "  <tbody>\n",
       "    <tr>\n",
       "      <th>0</th>\n",
       "      <td>51871</td>\n",
       "      <td>29117</td>\n",
       "    </tr>\n",
       "    <tr>\n",
       "      <th>1</th>\n",
       "      <td>5</td>\n",
       "      <td>2</td>\n",
       "    </tr>\n",
       "    <tr>\n",
       "      <th>2</th>\n",
       "      <td>2</td>\n",
       "      <td>0</td>\n",
       "    </tr>\n",
       "    <tr>\n",
       "      <th>3</th>\n",
       "      <td>0</td>\n",
       "      <td>41</td>\n",
       "    </tr>\n",
       "    <tr>\n",
       "      <th>4</th>\n",
       "      <td>14</td>\n",
       "      <td>6</td>\n",
       "    </tr>\n",
       "    <tr>\n",
       "      <th>...</th>\n",
       "      <td>...</td>\n",
       "      <td>...</td>\n",
       "    </tr>\n",
       "    <tr>\n",
       "      <th>236</th>\n",
       "      <td>20</td>\n",
       "      <td>3</td>\n",
       "    </tr>\n",
       "    <tr>\n",
       "      <th>259</th>\n",
       "      <td>8</td>\n",
       "      <td>0</td>\n",
       "    </tr>\n",
       "    <tr>\n",
       "      <th>330</th>\n",
       "      <td>8</td>\n",
       "      <td>0</td>\n",
       "    </tr>\n",
       "    <tr>\n",
       "      <th>379</th>\n",
       "      <td>5</td>\n",
       "      <td>5</td>\n",
       "    </tr>\n",
       "    <tr>\n",
       "      <th>391</th>\n",
       "      <td>0</td>\n",
       "      <td>33</td>\n",
       "    </tr>\n",
       "  </tbody>\n",
       "</table>\n",
       "<p>115 rows × 2 columns</p>\n",
       "</div>"
      ],
      "text/plain": [
       "is_canceled               0      1\n",
       "days_in_waiting_list              \n",
       "0                     51871  29117\n",
       "1                         5      2\n",
       "2                         2      0\n",
       "3                         0     41\n",
       "4                        14      6\n",
       "...                     ...    ...\n",
       "236                      20      3\n",
       "259                       8      0\n",
       "330                       8      0\n",
       "379                       5      5\n",
       "391                       0     33\n",
       "\n",
       "[115 rows x 2 columns]"
      ]
     },
     "execution_count": 26,
     "metadata": {},
     "output_type": "execute_result"
    },
    {
     "data": {
      "image/png": "[encoded data removed]",
      "text/plain": [
       "<Figure size 1700x1200 with 1 Axes>"
      ]
     },
     "metadata": {},
     "output_type": "display_data"
    }
   ],
   "source": [
    "plt.figure(figsize=(17,12))\n",
    "\n",
    "plt.subplot(222)\n",
    "sns.histplot(data=df,x='days_in_waiting_list',hue='is_canceled',kde=False)\n",
    "plt.title('days_in_waiting_list Histogram',fontsize=20)\n",
    "\n",
    "pd.crosstab(df['days_in_waiting_list'], df['is_canceled'])\n"
   ]
  },
  {
   "cell_type": "code",
   "execution_count": 27,
   "metadata": {},
   "outputs": [
    {
     "data": {
      "text/html": [
       "<div>\n",
       "<style scoped>\n",
       "    .dataframe tbody tr th:only-of-type {\n",
       "        vertical-align: middle;\n",
       "    }\n",
       "\n",
       "    .dataframe tbody tr th {\n",
       "        vertical-align: top;\n",
       "    }\n",
       "\n",
       "    .dataframe thead th {\n",
       "        text-align: right;\n",
       "    }\n",
       "</style>\n",
       "<table border=\"1\" class=\"dataframe\">\n",
       "  <thead>\n",
       "    <tr style=\"text-align: right;\">\n",
       "      <th></th>\n",
       "      <th>is_canceled</th>\n",
       "      <th>0</th>\n",
       "      <th>1</th>\n",
       "    </tr>\n",
       "    <tr>\n",
       "      <th>reserved_room_type</th>\n",
       "      <th>required_car_parking_spaces</th>\n",
       "      <th></th>\n",
       "      <th></th>\n",
       "    </tr>\n",
       "  </thead>\n",
       "  <tbody>\n",
       "    <tr>\n",
       "      <th rowspan=\"4\" valign=\"top\">A</th>\n",
       "      <th>0</th>\n",
       "      <td>33907</td>\n",
       "      <td>23392</td>\n",
       "    </tr>\n",
       "    <tr>\n",
       "      <th>1</th>\n",
       "      <td>2730</td>\n",
       "      <td>0</td>\n",
       "    </tr>\n",
       "    <tr>\n",
       "      <th>2</th>\n",
       "      <td>11</td>\n",
       "      <td>0</td>\n",
       "    </tr>\n",
       "    <tr>\n",
       "      <th>3</th>\n",
       "      <td>1</td>\n",
       "      <td>0</td>\n",
       "    </tr>\n",
       "    <tr>\n",
       "      <th rowspan=\"2\" valign=\"top\">B</th>\n",
       "      <th>0</th>\n",
       "      <td>501</td>\n",
       "      <td>255</td>\n",
       "    </tr>\n",
       "    <tr>\n",
       "      <th>1</th>\n",
       "      <td>31</td>\n",
       "      <td>0</td>\n",
       "    </tr>\n",
       "    <tr>\n",
       "      <th rowspan=\"2\" valign=\"top\">C</th>\n",
       "      <th>0</th>\n",
       "      <td>334</td>\n",
       "      <td>213</td>\n",
       "    </tr>\n",
       "    <tr>\n",
       "      <th>1</th>\n",
       "      <td>126</td>\n",
       "      <td>0</td>\n",
       "    </tr>\n",
       "    <tr>\n",
       "      <th rowspan=\"3\" valign=\"top\">D</th>\n",
       "      <th>0</th>\n",
       "      <td>8309</td>\n",
       "      <td>4269</td>\n",
       "    </tr>\n",
       "    <tr>\n",
       "      <th>1</th>\n",
       "      <td>945</td>\n",
       "      <td>0</td>\n",
       "    </tr>\n",
       "    <tr>\n",
       "      <th>2</th>\n",
       "      <td>3</td>\n",
       "      <td>0</td>\n",
       "    </tr>\n",
       "    <tr>\n",
       "      <th rowspan=\"4\" valign=\"top\">E</th>\n",
       "      <th>0</th>\n",
       "      <td>2606</td>\n",
       "      <td>1351</td>\n",
       "    </tr>\n",
       "    <tr>\n",
       "      <th>1</th>\n",
       "      <td>688</td>\n",
       "      <td>0</td>\n",
       "    </tr>\n",
       "    <tr>\n",
       "      <th>2</th>\n",
       "      <td>2</td>\n",
       "      <td>0</td>\n",
       "    </tr>\n",
       "    <tr>\n",
       "      <th>8</th>\n",
       "      <td>2</td>\n",
       "      <td>0</td>\n",
       "    </tr>\n",
       "    <tr>\n",
       "      <th rowspan=\"3\" valign=\"top\">F</th>\n",
       "      <th>0</th>\n",
       "      <td>1149</td>\n",
       "      <td>606</td>\n",
       "    </tr>\n",
       "    <tr>\n",
       "      <th>1</th>\n",
       "      <td>280</td>\n",
       "      <td>0</td>\n",
       "    </tr>\n",
       "    <tr>\n",
       "      <th>2</th>\n",
       "      <td>2</td>\n",
       "      <td>0</td>\n",
       "    </tr>\n",
       "    <tr>\n",
       "      <th rowspan=\"3\" valign=\"top\">G</th>\n",
       "      <th>0</th>\n",
       "      <td>627</td>\n",
       "      <td>519</td>\n",
       "    </tr>\n",
       "    <tr>\n",
       "      <th>1</th>\n",
       "      <td>298</td>\n",
       "      <td>0</td>\n",
       "    </tr>\n",
       "    <tr>\n",
       "      <th>2</th>\n",
       "      <td>3</td>\n",
       "      <td>0</td>\n",
       "    </tr>\n",
       "    <tr>\n",
       "      <th rowspan=\"3\" valign=\"top\">H</th>\n",
       "      <th>0</th>\n",
       "      <td>133</td>\n",
       "      <td>163</td>\n",
       "    </tr>\n",
       "    <tr>\n",
       "      <th>1</th>\n",
       "      <td>104</td>\n",
       "      <td>0</td>\n",
       "    </tr>\n",
       "    <tr>\n",
       "      <th>2</th>\n",
       "      <td>1</td>\n",
       "      <td>0</td>\n",
       "    </tr>\n",
       "    <tr>\n",
       "      <th>L</th>\n",
       "      <th>0</th>\n",
       "      <td>2</td>\n",
       "      <td>1</td>\n",
       "    </tr>\n",
       "    <tr>\n",
       "      <th>P</th>\n",
       "      <th>0</th>\n",
       "      <td>0</td>\n",
       "      <td>9</td>\n",
       "    </tr>\n",
       "  </tbody>\n",
       "</table>\n",
       "</div>"
      ],
      "text/plain": [
       "is_canceled                                         0      1\n",
       "reserved_room_type required_car_parking_spaces              \n",
       "A                  0                            33907  23392\n",
       "                   1                             2730      0\n",
       "                   2                               11      0\n",
       "                   3                                1      0\n",
       "B                  0                              501    255\n",
       "                   1                               31      0\n",
       "C                  0                              334    213\n",
       "                   1                              126      0\n",
       "D                  0                             8309   4269\n",
       "                   1                              945      0\n",
       "                   2                                3      0\n",
       "E                  0                             2606   1351\n",
       "                   1                              688      0\n",
       "                   2                                2      0\n",
       "                   8                                2      0\n",
       "F                  0                             1149    606\n",
       "                   1                              280      0\n",
       "                   2                                2      0\n",
       "G                  0                              627    519\n",
       "                   1                              298      0\n",
       "                   2                                3      0\n",
       "H                  0                              133    163\n",
       "                   1                              104      0\n",
       "                   2                                1      0\n",
       "L                  0                                2      1\n",
       "P                  0                                0      9"
      ]
     },
     "execution_count": 27,
     "metadata": {},
     "output_type": "execute_result"
    }
   ],
   "source": [
    "pd.crosstab([df['reserved_room_type'], df['required_car_parking_spaces']], df['is_canceled'])"
   ]
  },
  {
   "attachments": {},
   "cell_type": "markdown",
   "metadata": {},
   "source": [
    "Berdasarkan barplot dan table diatas dapat menyimpulkan beberapa hal :\n",
    "\n",
    "1. pada `Market_segment` hanya Group dan undefined yang memilik presentasi pembatalan lebih besar dibandingkan pemesanan. hal ini dapat terjadi karena ketika group membatalkan pemesanan dapat mewakili lebih dari 1 kamar yang dibatalkan maka anggap 1 group 8 orang maka akan memesan 4 kamar, dalam data ini maka 4 kamar adalah sama dengan 4 data. ketika group memutuskan untuk pembatalan maka akan 4 data `is_canceled` baru dalam data set ini. dan untuk `undefined` sebenarnya data ini bisa dihapus karena hanya 1 data saja tanpa ada data lain. namun dikarenakan data tersebut adala data pembaqtalan jadi saya tetap masukan agar menjadi faktor baru karena dari kategor di `market segment` ini sudah cukup mewakili namnun masih tetap ada `undefined` sehingga data tetap disimpan agar menjadi pembelajaran untuk model. kategori dengan persentase not_canceled terbanyak ada oada kategori complementary yang dimana ini seharunya bisa 100% tidak di canceled selain alasan 'force majeure', maka saya merekomendasi hotel untuk melihat mengapa dapat terjadinya canceled dengan membuat data khusus untuk `market segment` tersebeut agar tepat rekomendasi yang harus diberikan/aksi yang harus dilakukan agar pelanggan tidakl melakukan cancel.  \n",
    "2. `previous_booking_cancellation`, pada data ini dapat disimpulkan bahwa ketika sudah pernah mengcanel >=13 maka dapat dipastikan akan mengcancel juga ketika `previous_cancellation` ada di angka 1 tidak bisa menjadi penjamin bahwa dia akan melanjutkan booking dikarenakan di data set ini 94% booking `is_canceled` saat dia memiliki histori  pernah melakukan `previous_cancellation` sebanyak 1 kali.\n",
    "3. pada data `booking_changes` atau `perubahan booking` dapat disimpulkan ketika pelanggan melakukan adjustment pada bookingnya maka dia akan lebih besar kemungkinannya tidak mengcancel. jika dilihat pada angka 16 dan 10 memiliki persentasi canceled yang besar namun jika dilihat menggunakan cross tab hal ini dikarenakan jumlah data yang dimiliki 16 hanya 2 dengan; 1 `booking` dan 1 `canceled` sedangkan pada 10 dari 5 data booking hanya 1 yang `meng-cancel`\n",
    "4. pada `deposit type` memiliki data yang cukup unik karena. untuk tipe `non refundable` memiliki data canceled paling besar dimana artinya hotel bisa dapat keuntungan dari booking yang tercancel karena uang depositnya bisa mengurangi kerugian dari yang pihak hotel terima. jika dilihat pada tipe lainya seperti no deposit dan refundable persentasenya cenderung sama walau perbedaan banyak datanya lumayan signifikan dengan 73352 pada data `no deposit`. \n",
    "5. `Customer type` pada data ini terlihat bahwa persentase pengcancelan booking terbanyak pada tipe transient dengan nilai 40%. pada data `customer type` ini hotel harus memperhatikan juga alasan mengapa banyak booking yang tercancel oleh `transient` dikarenakan ini adalah market segment terbesar di dunia perhotelan.\n",
    "6. `reserved room type` pada data booking ini saya hanya bisa mengetahui bahwa room type P menjadi room yang tidak pernah jadi di booking (selalu tercancel) dengan 100% pasti di cancel berdasarkan data. dan pada tipe room lainya pada grafik barplot dapat terlihat bahwa persentase pengcancelan ada pada range nilai `29-40%`. karnea hanya hotel yang tau arti dari kode kode tersebut maka saya berkesimpulan bahwa kamar type E adalah kamar yang paling sedikit kemungkinann dicancelnya.\n",
    "7. `required car parking space` pada fitur ini dapat terlihat bahwa diatas 0/ ketika sudah me-`request car parking space` maka dipastikan bahwa customer tidak akan mengcancel booking-nya. \n",
    "8. pada data `number of special request` dapat terlihat pola yang sama dengan data `required car parking space` yaitu ketika pelanggan sudah melakukan special request besar kemungkinannya untuk tetap melanjutkan booking walaupun pada data `number of special request` tidak seabsolut `required car parking space` dimana masih terdapat yang melakukan cancel booking walaupun sudah melakukan banyak 'request'. hal ini perlu didalami oleh pihak hotel karena pada keseluruhan data diatas data masih kurang untuk mencari penyebab pasti apa yang membuat pelanggan `cancel` bookingnya. juga karena 'anonimity reason' special request mana yang membuat customer tetap booking dan reques mana yang membuat customer tidak jadi booking tidak dapat teridentifkasi. .\n",
    "9. `days of waiting list` pada data ini terdapat data orang yang mengantri untuk masuk antrian, dikarenakan kamar penuh juga hal lainya yang membuat customer harus masuk ke waiting list. jika dilihat dari data diimana semakin lama dia menunggu maka semakin besar kemungkinan booking akan tercancel. hal ini sangat wajar karena customer yang masih di waiting list akan mencoba mencari hotel lain apa bila dia menunggu tanpa kepastian (karena ini bukan booking). dapat terlihat juga bahwa 80.000+ data ini datang dari yang tanpa masuk ke waiting list(data menunjukan angka 0).\n",
    "\n"
   ]
  },
  {
   "cell_type": "code",
   "execution_count": null,
   "metadata": {},
   "outputs": [],
   "source": []
  },
  {
   "cell_type": "markdown",
   "metadata": {},
   "source": [
    "## Data Preparation "
   ]
  },
  {
   "cell_type": "code",
   "execution_count": 28,
   "metadata": {},
   "outputs": [
    {
     "data": {
      "text/html": [
       "<div>\n",
       "<style scoped>\n",
       "    .dataframe tbody tr th:only-of-type {\n",
       "        vertical-align: middle;\n",
       "    }\n",
       "\n",
       "    .dataframe tbody tr th {\n",
       "        vertical-align: top;\n",
       "    }\n",
       "\n",
       "    .dataframe thead th {\n",
       "        text-align: right;\n",
       "    }\n",
       "</style>\n",
       "<table border=\"1\" class=\"dataframe\">\n",
       "  <thead>\n",
       "    <tr style=\"text-align: right;\">\n",
       "      <th></th>\n",
       "      <th>market_segment</th>\n",
       "      <th>previous_cancellations</th>\n",
       "      <th>booking_changes</th>\n",
       "      <th>deposit_type</th>\n",
       "      <th>days_in_waiting_list</th>\n",
       "      <th>customer_type</th>\n",
       "      <th>reserved_room_type</th>\n",
       "      <th>required_car_parking_spaces</th>\n",
       "      <th>total_of_special_requests</th>\n",
       "      <th>is_canceled</th>\n",
       "    </tr>\n",
       "  </thead>\n",
       "  <tbody>\n",
       "    <tr>\n",
       "      <th>0</th>\n",
       "      <td>Offline TA/TO</td>\n",
       "      <td>0</td>\n",
       "      <td>0</td>\n",
       "      <td>No Deposit</td>\n",
       "      <td>0</td>\n",
       "      <td>Transient-Party</td>\n",
       "      <td>A</td>\n",
       "      <td>0</td>\n",
       "      <td>0</td>\n",
       "      <td>0</td>\n",
       "    </tr>\n",
       "    <tr>\n",
       "      <th>1</th>\n",
       "      <td>Online TA</td>\n",
       "      <td>0</td>\n",
       "      <td>0</td>\n",
       "      <td>No Deposit</td>\n",
       "      <td>0</td>\n",
       "      <td>Transient</td>\n",
       "      <td>A</td>\n",
       "      <td>0</td>\n",
       "      <td>2</td>\n",
       "      <td>0</td>\n",
       "    </tr>\n",
       "    <tr>\n",
       "      <th>2</th>\n",
       "      <td>Online TA</td>\n",
       "      <td>0</td>\n",
       "      <td>1</td>\n",
       "      <td>No Deposit</td>\n",
       "      <td>0</td>\n",
       "      <td>Transient</td>\n",
       "      <td>A</td>\n",
       "      <td>0</td>\n",
       "      <td>2</td>\n",
       "      <td>0</td>\n",
       "    </tr>\n",
       "    <tr>\n",
       "      <th>3</th>\n",
       "      <td>Online TA</td>\n",
       "      <td>0</td>\n",
       "      <td>0</td>\n",
       "      <td>No Deposit</td>\n",
       "      <td>0</td>\n",
       "      <td>Transient</td>\n",
       "      <td>A</td>\n",
       "      <td>0</td>\n",
       "      <td>1</td>\n",
       "      <td>1</td>\n",
       "    </tr>\n",
       "    <tr>\n",
       "      <th>4</th>\n",
       "      <td>Online TA</td>\n",
       "      <td>0</td>\n",
       "      <td>2</td>\n",
       "      <td>No Deposit</td>\n",
       "      <td>0</td>\n",
       "      <td>Transient</td>\n",
       "      <td>A</td>\n",
       "      <td>0</td>\n",
       "      <td>2</td>\n",
       "      <td>0</td>\n",
       "    </tr>\n",
       "  </tbody>\n",
       "</table>\n",
       "</div>"
      ],
      "text/plain": [
       "  market_segment  previous_cancellations  booking_changes deposit_type  \\\n",
       "0  Offline TA/TO                       0                0   No Deposit   \n",
       "1      Online TA                       0                0   No Deposit   \n",
       "2      Online TA                       0                1   No Deposit   \n",
       "3      Online TA                       0                0   No Deposit   \n",
       "4      Online TA                       0                2   No Deposit   \n",
       "\n",
       "   days_in_waiting_list    customer_type reserved_room_type  \\\n",
       "0                     0  Transient-Party                  A   \n",
       "1                     0        Transient                  A   \n",
       "2                     0        Transient                  A   \n",
       "3                     0        Transient                  A   \n",
       "4                     0        Transient                  A   \n",
       "\n",
       "   required_car_parking_spaces  total_of_special_requests  is_canceled  \n",
       "0                            0                          0            0  \n",
       "1                            0                          2            0  \n",
       "2                            0                          2            0  \n",
       "3                            0                          1            1  \n",
       "4                            0                          2            0  "
      ]
     },
     "execution_count": 28,
     "metadata": {},
     "output_type": "execute_result"
    }
   ],
   "source": [
    "df.head()"
   ]
  },
  {
   "attachments": {},
   "cell_type": "markdown",
   "metadata": {},
   "source": [
    "sekarang saya akan merubah data kategorikal untuk dipakai di model\n",
    "\n",
    "1. merubah fitur/kolom `market segment` menggunakan `One Hot Encoding`, menggunakan One Hot Encoding, karena fitur ini tidak memiliki urutan/tidak ordinal, dan juga jumlah unique datanya hanya sedikit.\n",
    "2. merubah fitur/kolom `deposit type` menggunakan `One Hot Encoding`, karena fitur ini tidak memiliki urutan/tidak ordinal, dan juga jumlah unique datanya hanya sedikit.\n",
    "3. merubah fitur/kolom `customer type` menggunakan `One Hot Encoding`, walaupun value per customernya bisa jadi berbeda namun tidak diberitahukan setiap perbedaan value dari tiap customernya.\n",
    "4. merubah fitur/kolom `reserved room type` menggunakan `One Hot Encoding`, walaupun bisa jadi room type ini ada ordinalnya tapi dikarenakan anonimity reason maka tidak dapat di bedakan per roomnya untuk room mana saja yang memiliki tingkatan lebih tinggi dari room lainya.\n"
   ]
  },
  {
   "cell_type": "code",
   "execution_count": 29,
   "metadata": {},
   "outputs": [],
   "source": [
    "\n",
    "transformer = ColumnTransformer([\n",
    "    ('onehot', OneHotEncoder(drop='first', handle_unknown='ignore'), ['market_segment', 'deposit_type', 'customer_type', 'reserved_room_type']),\n",
    "], remainder='passthrough')\n"
   ]
  },
  {
   "cell_type": "code",
   "execution_count": 30,
   "metadata": {},
   "outputs": [],
   "source": [
    "x = df.drop(columns=['is_canceled'])\n",
    "y = df['is_canceled']"
   ]
  },
  {
   "cell_type": "code",
   "execution_count": 31,
   "metadata": {},
   "outputs": [],
   "source": [
    "x_train,x_test,y_train,y_test=train_test_split(x,y,stratify=y,test_size=0.2,random_state=2023)"
   ]
  },
  {
   "cell_type": "code",
   "execution_count": 32,
   "metadata": {},
   "outputs": [
    {
     "name": "stdout",
     "output_type": "stream",
     "text": [
      "X_train shape: (66858, 9)\n",
      "y_train shape: (66858,)\n"
     ]
    }
   ],
   "source": [
    "print(\"X_train shape:\", x_train.shape)\n",
    "print(\"y_train shape:\", y_train.shape)"
   ]
  },
  {
   "attachments": {},
   "cell_type": "markdown",
   "metadata": {},
   "source": [
    "# Modeling & Evaluation"
   ]
  },
  {
   "cell_type": "code",
   "execution_count": 33,
   "metadata": {},
   "outputs": [],
   "source": [
    "logreg = LogisticRegression()\n",
    "knn = KNeighborsClassifier()\n",
    "dt = DecisionTreeClassifier()\n",
    "rf = RandomForestClassifier()\n",
    "xgb = XGBClassifier()\n",
    "lgbm = lgb.LGBMClassifier()"
   ]
  },
  {
   "attachments": {},
   "cell_type": "markdown",
   "metadata": {},
   "source": [
    "### Model Benchmarking : K-Fold"
   ]
  },
  {
   "cell_type": "code",
   "execution_count": 34,
   "metadata": {},
   "outputs": [
    {
     "data": {
      "text/html": [
       "<div>\n",
       "<style scoped>\n",
       "    .dataframe tbody tr th:only-of-type {\n",
       "        vertical-align: middle;\n",
       "    }\n",
       "\n",
       "    .dataframe tbody tr th {\n",
       "        vertical-align: top;\n",
       "    }\n",
       "\n",
       "    .dataframe thead th {\n",
       "        text-align: right;\n",
       "    }\n",
       "</style>\n",
       "<table border=\"1\" class=\"dataframe\">\n",
       "  <thead>\n",
       "    <tr style=\"text-align: right;\">\n",
       "      <th></th>\n",
       "      <th>mean roc_auc</th>\n",
       "      <th>sdev</th>\n",
       "    </tr>\n",
       "    <tr>\n",
       "      <th>model</th>\n",
       "      <th></th>\n",
       "      <th></th>\n",
       "    </tr>\n",
       "  </thead>\n",
       "  <tbody>\n",
       "    <tr>\n",
       "      <th>XGBoost</th>\n",
       "      <td>0.854848</td>\n",
       "      <td>0.003678</td>\n",
       "    </tr>\n",
       "    <tr>\n",
       "      <th>LightGBM</th>\n",
       "      <td>0.854311</td>\n",
       "      <td>0.003578</td>\n",
       "    </tr>\n",
       "    <tr>\n",
       "      <th>Random Forest</th>\n",
       "      <td>0.852799</td>\n",
       "      <td>0.004093</td>\n",
       "    </tr>\n",
       "    <tr>\n",
       "      <th>Decision Tree</th>\n",
       "      <td>0.851137</td>\n",
       "      <td>0.004013</td>\n",
       "    </tr>\n",
       "    <tr>\n",
       "      <th>Logistic Regression</th>\n",
       "      <td>0.832659</td>\n",
       "      <td>0.005157</td>\n",
       "    </tr>\n",
       "    <tr>\n",
       "      <th>KNN</th>\n",
       "      <td>0.804109</td>\n",
       "      <td>0.019570</td>\n",
       "    </tr>\n",
       "  </tbody>\n",
       "</table>\n",
       "</div>"
      ],
      "text/plain": [
       "                     mean roc_auc      sdev\n",
       "model                                      \n",
       "XGBoost                  0.854848  0.003678\n",
       "LightGBM                 0.854311  0.003578\n",
       "Random Forest            0.852799  0.004093\n",
       "Decision Tree            0.851137  0.004013\n",
       "Logistic Regression      0.832659  0.005157\n",
       "KNN                      0.804109  0.019570"
      ]
     },
     "execution_count": 34,
     "metadata": {},
     "output_type": "execute_result"
    }
   ],
   "source": [
    "models = [logreg,knn,dt,rf,xgb,lgbm]\n",
    "score=[]\n",
    "rata=[]\n",
    "std=[]\n",
    "\n",
    "for i in models:\n",
    "    skfold=StratifiedKFold(n_splits=5)\n",
    "    estimator=Pipeline([\n",
    "        ('preprocess',transformer),\n",
    "        ('model',i)])\n",
    "    model_cv=cross_val_score(estimator,x_train,y_train,cv=skfold,scoring='roc_auc')\n",
    "    score.append(model_cv)\n",
    "    rata.append(model_cv.mean())\n",
    "    std.append(model_cv.std())\n",
    "    \n",
    "pd.DataFrame({'model':['Logistic Regression', 'KNN', 'Decision Tree', 'Random Forest', 'XGBoost', 'LightGBM'],'mean roc_auc':rata,'sdev':std}).set_index('model').sort_values(by='mean roc_auc',ascending=False)"
   ]
  },
  {
   "attachments": {},
   "cell_type": "markdown",
   "metadata": {},
   "source": [
    "Terlihat bahwa model XGBoost adalah yang terbaik untuk roc_aucnya dari setiap model yang menggunakan default hyperparameter"
   ]
  },
  {
   "attachments": {},
   "cell_type": "markdown",
   "metadata": {},
   "source": [
    "### Model Benchmarking : Test Data"
   ]
  },
  {
   "cell_type": "code",
   "execution_count": 35,
   "metadata": {},
   "outputs": [
    {
     "name": "stdout",
     "output_type": "stream",
     "text": [
      "Logistic Regression \n",
      "               precision    recall  f1-score   support\n",
      "\n",
      "           0       0.80      0.91      0.85     10559\n",
      "           1       0.80      0.61      0.69      6156\n",
      "\n",
      "    accuracy                           0.80     16715\n",
      "   macro avg       0.80      0.76      0.77     16715\n",
      "weighted avg       0.80      0.80      0.79     16715\n",
      "\n",
      "KNN \n",
      "               precision    recall  f1-score   support\n",
      "\n",
      "           0       0.82      0.74      0.78     10559\n",
      "           1       0.62      0.73      0.67      6156\n",
      "\n",
      "    accuracy                           0.74     16715\n",
      "   macro avg       0.72      0.73      0.73     16715\n",
      "weighted avg       0.75      0.74      0.74     16715\n",
      "\n",
      "Decision Tree \n",
      "               precision    recall  f1-score   support\n",
      "\n",
      "           0       0.81      0.91      0.85     10559\n",
      "           1       0.79      0.63      0.70      6156\n",
      "\n",
      "    accuracy                           0.80     16715\n",
      "   macro avg       0.80      0.77      0.78     16715\n",
      "weighted avg       0.80      0.80      0.80     16715\n",
      "\n",
      "Random Forest \n",
      "               precision    recall  f1-score   support\n",
      "\n",
      "           0       0.81      0.90      0.85     10559\n",
      "           1       0.79      0.63      0.70      6156\n",
      "\n",
      "    accuracy                           0.80     16715\n",
      "   macro avg       0.80      0.77      0.78     16715\n",
      "weighted avg       0.80      0.80      0.80     16715\n",
      "\n",
      "XGBoost \n",
      "               precision    recall  f1-score   support\n",
      "\n",
      "           0       0.81      0.91      0.85     10559\n",
      "           1       0.80      0.63      0.70      6156\n",
      "\n",
      "    accuracy                           0.80     16715\n",
      "   macro avg       0.80      0.77      0.78     16715\n",
      "weighted avg       0.80      0.80      0.80     16715\n",
      "\n",
      "LightGBM \n",
      "               precision    recall  f1-score   support\n",
      "\n",
      "           0       0.81      0.91      0.85     10559\n",
      "           1       0.80      0.63      0.70      6156\n",
      "\n",
      "    accuracy                           0.80     16715\n",
      "   macro avg       0.80      0.77      0.78     16715\n",
      "weighted avg       0.80      0.80      0.80     16715\n",
      "\n"
     ]
    },
    {
     "data": {
      "text/html": [
       "<div>\n",
       "<style scoped>\n",
       "    .dataframe tbody tr th:only-of-type {\n",
       "        vertical-align: middle;\n",
       "    }\n",
       "\n",
       "    .dataframe tbody tr th {\n",
       "        vertical-align: top;\n",
       "    }\n",
       "\n",
       "    .dataframe thead th {\n",
       "        text-align: right;\n",
       "    }\n",
       "</style>\n",
       "<table border=\"1\" class=\"dataframe\">\n",
       "  <thead>\n",
       "    <tr style=\"text-align: right;\">\n",
       "      <th></th>\n",
       "      <th>roc_auc score</th>\n",
       "      <th>recall score</th>\n",
       "    </tr>\n",
       "    <tr>\n",
       "      <th>model</th>\n",
       "      <th></th>\n",
       "      <th></th>\n",
       "    </tr>\n",
       "  </thead>\n",
       "  <tbody>\n",
       "    <tr>\n",
       "      <th>XGBoost</th>\n",
       "      <td>0.858236</td>\n",
       "      <td>0.626056</td>\n",
       "    </tr>\n",
       "    <tr>\n",
       "      <th>LightGBM</th>\n",
       "      <td>0.858116</td>\n",
       "      <td>0.625244</td>\n",
       "    </tr>\n",
       "    <tr>\n",
       "      <th>Random Forest</th>\n",
       "      <td>0.856139</td>\n",
       "      <td>0.628005</td>\n",
       "    </tr>\n",
       "    <tr>\n",
       "      <th>Decision Tree</th>\n",
       "      <td>0.855076</td>\n",
       "      <td>0.627518</td>\n",
       "    </tr>\n",
       "    <tr>\n",
       "      <th>Logistic Regression</th>\n",
       "      <td>0.835390</td>\n",
       "      <td>0.610299</td>\n",
       "    </tr>\n",
       "    <tr>\n",
       "      <th>KNN</th>\n",
       "      <td>0.815163</td>\n",
       "      <td>0.728720</td>\n",
       "    </tr>\n",
       "  </tbody>\n",
       "</table>\n",
       "</div>"
      ],
      "text/plain": [
       "                     roc_auc score  recall score\n",
       "model                                           \n",
       "XGBoost                   0.858236      0.626056\n",
       "LightGBM                  0.858116      0.625244\n",
       "Random Forest             0.856139      0.628005\n",
       "Decision Tree             0.855076      0.627518\n",
       "Logistic Regression       0.835390      0.610299\n",
       "KNN                       0.815163      0.728720"
      ]
     },
     "execution_count": 35,
     "metadata": {},
     "output_type": "execute_result"
    }
   ],
   "source": [
    "\n",
    "models = [logreg,knn,dt,rf,xgb,lgbm]\n",
    "score_roc_auc = []\n",
    "score_recall = []\n",
    "\n",
    "def y_pred_func(i):\n",
    "    estimator=Pipeline([\n",
    "        ('preprocess',transformer),\n",
    "        ('model',i)])\n",
    "    x_train,x_test\n",
    "    \n",
    "    estimator.fit(x_train,y_train)\n",
    "    return(estimator,estimator.predict(x_test),x_test)\n",
    "\n",
    "for i,j in zip(models, ['Logistic Regression', 'KNN', 'Decision Tree', 'Random Forest', 'XGBoost','LightGBM']):\n",
    "    estimator,y_pred,x_test = y_pred_func(i)\n",
    "    y_predict_proba = estimator.predict_proba(x_test)[:,1]\n",
    "    score_roc_auc.append(roc_auc_score(y_test,y_predict_proba))\n",
    "    score_recall.append(recall_score(y_test,y_pred))\n",
    "    print(j,'\\n', classification_report(y_test,y_pred))\n",
    "    \n",
    "pd.DataFrame({'model':['Logistic Regression', 'KNN', 'Decision Tree', 'Random Forest', 'XGBoost','LightGBM'],\n",
    "             'roc_auc score':score_roc_auc,\n",
    "             'recall score': score_recall}).set_index('model').sort_values(by='roc_auc score',ascending=False)\n"
   ]
  },
  {
   "attachments": {},
   "cell_type": "markdown",
   "metadata": {},
   "source": [
    "Terlihat kembali lagi model XGBoost adalah yang terbaik performanya pada test data.\n",
    "\n",
    "\n"
   ]
  },
  {
   "attachments": {},
   "cell_type": "markdown",
   "metadata": {},
   "source": [
    "### Test Oversampling and Undersampling with K-Fold Cross Validation"
   ]
  },
  {
   "cell_type": "code",
   "execution_count": 36,
   "metadata": {},
   "outputs": [],
   "source": [
    "def calc_train_error(x_train, y_train, model):\n",
    "#     '''returns in-sample error for already fit model.'''\n",
    "    predictions = model.predict(x_train)\n",
    "    predictProba = model.predict_proba(x_train)\n",
    "    accuracy = accuracy_score(y_train, predictions)\n",
    "    f1 = f1_score(y_train, predictions, average='macro')\n",
    "    roc_auc = roc_auc_score(y_train, predictProba[:,1])\n",
    "    recall = recall_score(y_train, predictions)\n",
    "    precision = precision_score(y_train, predictions)\n",
    "    report = classification_report(y_train, predictions)\n",
    "    return { \n",
    "        'report': report, \n",
    "        'f1' : f1, \n",
    "        'roc': roc_auc, \n",
    "        'accuracy': accuracy,\n",
    "        'recall': recall,\n",
    "        'precision': precision\n",
    "    }\n",
    "    \n",
    "def calc_validation_error(x_test, y_test, model):\n",
    "#     '''returns out-of-sample error for already fit model.'''\n",
    "    predictions = model.predict(x_test)\n",
    "    predictProba = model.predict_proba(x_test)\n",
    "    accuracy = accuracy_score(y_test, predictions)\n",
    "    f1 = f1_score(y_test, predictions, average='macro')\n",
    "    roc_auc = roc_auc_score(y_test, predictProba[:,1])\n",
    "    recall = recall_score(y_test, predictions)\n",
    "    precision = precision_score(y_test, predictions)\n",
    "    report = classification_report(y_test, predictions)\n",
    "    return { \n",
    "        'report': report, \n",
    "        'f1' : f1, \n",
    "        'roc': roc_auc, \n",
    "        'accuracy': accuracy,\n",
    "        'recall': recall,\n",
    "        'precision': precision\n",
    "    }\n",
    "    \n",
    "def calc_metrics(x_train, y_train, x_test, y_test, model):\n",
    "#     '''fits model and returns the in-sample error and out-of-sample error'''\n",
    "    model.fit(x_train, y_train)\n",
    "    train_error = calc_train_error(x_train, y_train, model)\n",
    "    validation_error = calc_validation_error(x_test, y_test, model)\n",
    "    return train_error, validation_error"
   ]
  },
  {
   "cell_type": "code",
   "execution_count": 37,
   "metadata": {},
   "outputs": [],
   "source": [
    "from sklearn.model_selection import StratifiedKFold\n",
    "\n",
    "K = 10\n",
    "kf = StratifiedKFold(n_splits=K, shuffle=True, random_state=42)"
   ]
  },
  {
   "cell_type": "code",
   "execution_count": 38,
   "metadata": {},
   "outputs": [],
   "source": [
    "data = x_train\n",
    "target = y_train"
   ]
  },
  {
   "cell_type": "code",
   "execution_count": 39,
   "metadata": {},
   "outputs": [],
   "source": [
    "from imblearn.pipeline import Pipeline\n",
    "from imblearn.over_sampling import RandomOverSampler\n",
    "from imblearn.under_sampling import RandomUnderSampler\n",
    "\n",
    "train_errors_without_resampling = []\n",
    "validation_errors_without_resampling = []\n",
    "train_errors_with_oversampling = []\n",
    "validation_errors_with_oversampling = []\n",
    "train_errors_with_undersampling = []\n",
    "validation_errors_with_undersampling = []\n",
    "\n",
    "for train_index, val_index in kf.split(data, target):\n",
    "    \n",
    "    # split data\n",
    "    x_train, x_val = data.iloc[train_index], data.iloc[val_index]\n",
    "    y_train, y_val = target.iloc[train_index], target.iloc[val_index]\n",
    "\n",
    "    # instantiate model\n",
    "    xgb = XGBClassifier()\n",
    "    estimator_without_resampling = Pipeline([\n",
    "        ('preprocess', transformer),\n",
    "        ('model', xgb)\n",
    "    ])\n",
    "\n",
    "    estimator_with_oversampling = Pipeline([\n",
    "        ('preprocess', transformer),\n",
    "        ('oversampling', RandomOverSampler()),\n",
    "        ('model', xgb)\n",
    "    ])\n",
    "\n",
    "    estimator_with_undersampling = Pipeline([\n",
    "        ('preprocess', transformer),\n",
    "        ('undersampling', RandomUnderSampler()),\n",
    "        ('model', xgb)\n",
    "    ])\n",
    "\n",
    "    # calculate errors\n",
    "    train_error_without_resampling, val_error_without_resampling = calc_metrics(x_train, y_train, x_val, y_val, estimator_without_resampling)\n",
    "    train_error_with_oversampling, val_error_with_oversampling = calc_metrics(x_train, y_train, x_val, y_val, estimator_with_oversampling)\n",
    "    train_error_with_undersampling, val_error_with_undersampling = calc_metrics(x_train, y_train, x_val, y_val, estimator_with_undersampling)\n",
    "\n",
    "    # append to appropriate list\n",
    "    train_errors_without_resampling.append(train_error_without_resampling)\n",
    "    validation_errors_without_resampling.append(val_error_without_resampling)\n",
    "    train_errors_with_oversampling.append(train_error_with_oversampling)\n",
    "    validation_errors_with_oversampling.append(val_error_with_oversampling)\n",
    "    train_errors_with_undersampling.append(train_error_with_undersampling)\n",
    "    validation_errors_with_undersampling.append(val_error_with_undersampling)\n",
    "\n"
   ]
  },
  {
   "cell_type": "markdown",
   "metadata": {},
   "source": [
    "#### Evaluation Metrics Without Oversampling"
   ]
  },
  {
   "cell_type": "code",
   "execution_count": 40,
   "metadata": {},
   "outputs": [
    {
     "data": {
      "text/html": [
       "<div>\n",
       "<style scoped>\n",
       "    .dataframe tbody tr th:only-of-type {\n",
       "        vertical-align: middle;\n",
       "    }\n",
       "\n",
       "    .dataframe tbody tr th {\n",
       "        vertical-align: top;\n",
       "    }\n",
       "\n",
       "    .dataframe thead th {\n",
       "        text-align: right;\n",
       "    }\n",
       "</style>\n",
       "<table border=\"1\" class=\"dataframe\">\n",
       "  <thead>\n",
       "    <tr style=\"text-align: right;\">\n",
       "      <th></th>\n",
       "      <th>Train Accuracy</th>\n",
       "      <th>Test Accuracy</th>\n",
       "      <th>Train ROC AUC</th>\n",
       "      <th>Test ROC AUC</th>\n",
       "      <th>Train F1 Score</th>\n",
       "      <th>Test F1 Score</th>\n",
       "      <th>Train Recall</th>\n",
       "      <th>Test Recall</th>\n",
       "      <th>Train Precision</th>\n",
       "      <th>Test Precision</th>\n",
       "    </tr>\n",
       "  </thead>\n",
       "  <tbody>\n",
       "    <tr>\n",
       "      <th>0</th>\n",
       "      <td>0.804477</td>\n",
       "      <td>0.798684</td>\n",
       "      <td>0.859567</td>\n",
       "      <td>0.854143</td>\n",
       "      <td>0.777521</td>\n",
       "      <td>0.770198</td>\n",
       "      <td>0.619630</td>\n",
       "      <td>0.606418</td>\n",
       "      <td>0.804535</td>\n",
       "      <td>0.798396</td>\n",
       "    </tr>\n",
       "    <tr>\n",
       "      <th>1</th>\n",
       "      <td>0.804810</td>\n",
       "      <td>0.794646</td>\n",
       "      <td>0.860398</td>\n",
       "      <td>0.845935</td>\n",
       "      <td>0.777928</td>\n",
       "      <td>0.765220</td>\n",
       "      <td>0.620307</td>\n",
       "      <td>0.598294</td>\n",
       "      <td>0.804942</td>\n",
       "      <td>0.793215</td>\n",
       "    </tr>\n",
       "    <tr>\n",
       "      <th>2</th>\n",
       "      <td>0.803962</td>\n",
       "      <td>0.802423</td>\n",
       "      <td>0.860143</td>\n",
       "      <td>0.853563</td>\n",
       "      <td>0.776943</td>\n",
       "      <td>0.773837</td>\n",
       "      <td>0.618998</td>\n",
       "      <td>0.606824</td>\n",
       "      <td>0.803574</td>\n",
       "      <td>0.808879</td>\n",
       "    </tr>\n",
       "    <tr>\n",
       "      <th>3</th>\n",
       "      <td>0.803796</td>\n",
       "      <td>0.804068</td>\n",
       "      <td>0.859264</td>\n",
       "      <td>0.856112</td>\n",
       "      <td>0.776701</td>\n",
       "      <td>0.777822</td>\n",
       "      <td>0.618366</td>\n",
       "      <td>0.625102</td>\n",
       "      <td>0.803601</td>\n",
       "      <td>0.799065</td>\n",
       "    </tr>\n",
       "    <tr>\n",
       "      <th>4</th>\n",
       "      <td>0.803281</td>\n",
       "      <td>0.810051</td>\n",
       "      <td>0.858746</td>\n",
       "      <td>0.865593</td>\n",
       "      <td>0.776130</td>\n",
       "      <td>0.784806</td>\n",
       "      <td>0.617780</td>\n",
       "      <td>0.634850</td>\n",
       "      <td>0.802603</td>\n",
       "      <td>0.808170</td>\n",
       "    </tr>\n",
       "    <tr>\n",
       "      <th>5</th>\n",
       "      <td>0.803945</td>\n",
       "      <td>0.801825</td>\n",
       "      <td>0.860063</td>\n",
       "      <td>0.851714</td>\n",
       "      <td>0.776869</td>\n",
       "      <td>0.774777</td>\n",
       "      <td>0.618547</td>\n",
       "      <td>0.618197</td>\n",
       "      <td>0.803882</td>\n",
       "      <td>0.798112</td>\n",
       "    </tr>\n",
       "    <tr>\n",
       "      <th>6</th>\n",
       "      <td>0.803895</td>\n",
       "      <td>0.803320</td>\n",
       "      <td>0.859567</td>\n",
       "      <td>0.855654</td>\n",
       "      <td>0.776838</td>\n",
       "      <td>0.778076</td>\n",
       "      <td>0.618710</td>\n",
       "      <td>0.632562</td>\n",
       "      <td>0.803587</td>\n",
       "      <td>0.791667</td>\n",
       "    </tr>\n",
       "    <tr>\n",
       "      <th>7</th>\n",
       "      <td>0.803713</td>\n",
       "      <td>0.803021</td>\n",
       "      <td>0.859015</td>\n",
       "      <td>0.859262</td>\n",
       "      <td>0.776692</td>\n",
       "      <td>0.776084</td>\n",
       "      <td>0.618936</td>\n",
       "      <td>0.619164</td>\n",
       "      <td>0.802892</td>\n",
       "      <td>0.800945</td>\n",
       "    </tr>\n",
       "    <tr>\n",
       "      <th>8</th>\n",
       "      <td>0.804082</td>\n",
       "      <td>0.802094</td>\n",
       "      <td>0.859962</td>\n",
       "      <td>0.853231</td>\n",
       "      <td>0.777168</td>\n",
       "      <td>0.774190</td>\n",
       "      <td>0.619856</td>\n",
       "      <td>0.611698</td>\n",
       "      <td>0.803228</td>\n",
       "      <td>0.804058</td>\n",
       "    </tr>\n",
       "    <tr>\n",
       "      <th>9</th>\n",
       "      <td>0.803799</td>\n",
       "      <td>0.804188</td>\n",
       "      <td>0.859654</td>\n",
       "      <td>0.854493</td>\n",
       "      <td>0.777002</td>\n",
       "      <td>0.776525</td>\n",
       "      <td>0.620668</td>\n",
       "      <td>0.614135</td>\n",
       "      <td>0.801795</td>\n",
       "      <td>0.808124</td>\n",
       "    </tr>\n",
       "    <tr>\n",
       "      <th>Average</th>\n",
       "      <td>0.803976</td>\n",
       "      <td>0.802432</td>\n",
       "      <td>0.859638</td>\n",
       "      <td>0.854970</td>\n",
       "      <td>0.776979</td>\n",
       "      <td>0.775153</td>\n",
       "      <td>0.619180</td>\n",
       "      <td>0.616724</td>\n",
       "      <td>0.803464</td>\n",
       "      <td>0.801063</td>\n",
       "    </tr>\n",
       "  </tbody>\n",
       "</table>\n",
       "</div>"
      ],
      "text/plain": [
       "         Train Accuracy  Test Accuracy   Train ROC AUC  Test ROC AUC   \\\n",
       "0              0.804477        0.798684       0.859567       0.854143   \n",
       "1              0.804810        0.794646       0.860398       0.845935   \n",
       "2              0.803962        0.802423       0.860143       0.853563   \n",
       "3              0.803796        0.804068       0.859264       0.856112   \n",
       "4              0.803281        0.810051       0.858746       0.865593   \n",
       "5              0.803945        0.801825       0.860063       0.851714   \n",
       "6              0.803895        0.803320       0.859567       0.855654   \n",
       "7              0.803713        0.803021       0.859015       0.859262   \n",
       "8              0.804082        0.802094       0.859962       0.853231   \n",
       "9              0.803799        0.804188       0.859654       0.854493   \n",
       "Average        0.803976        0.802432       0.859638       0.854970   \n",
       "\n",
       "         Train F1 Score  Test F1 Score   Train Recall  Test Recall   \\\n",
       "0              0.777521        0.770198      0.619630      0.606418   \n",
       "1              0.777928        0.765220      0.620307      0.598294   \n",
       "2              0.776943        0.773837      0.618998      0.606824   \n",
       "3              0.776701        0.777822      0.618366      0.625102   \n",
       "4              0.776130        0.784806      0.617780      0.634850   \n",
       "5              0.776869        0.774777      0.618547      0.618197   \n",
       "6              0.776838        0.778076      0.618710      0.632562   \n",
       "7              0.776692        0.776084      0.618936      0.619164   \n",
       "8              0.777168        0.774190      0.619856      0.611698   \n",
       "9              0.777002        0.776525      0.620668      0.614135   \n",
       "Average        0.776979        0.775153      0.619180      0.616724   \n",
       "\n",
       "         Train Precision  Test Precision   \n",
       "0               0.804535         0.798396  \n",
       "1               0.804942         0.793215  \n",
       "2               0.803574         0.808879  \n",
       "3               0.803601         0.799065  \n",
       "4               0.802603         0.808170  \n",
       "5               0.803882         0.798112  \n",
       "6               0.803587         0.791667  \n",
       "7               0.802892         0.800945  \n",
       "8               0.803228         0.804058  \n",
       "9               0.801795         0.808124  \n",
       "Average         0.803464         0.801063  "
      ]
     },
     "execution_count": 40,
     "metadata": {},
     "output_type": "execute_result"
    }
   ],
   "source": [
    "listItem_with_oversampling = []\n",
    "\n",
    "for tr,val in zip(train_errors_without_resampling,validation_errors_without_resampling) :\n",
    "    listItem_with_oversampling.append([tr['accuracy'],val['accuracy'],tr['roc'],val['roc'],tr['f1'],val['f1'],\n",
    "                     tr['recall'],val['recall'],tr['precision'],val['precision']])\n",
    "\n",
    "listItem_with_oversampling.append(list(np.mean(listItem_with_oversampling,axis=0)))\n",
    "    \n",
    "dfEvaluate_with_oversampling = pd.DataFrame(listItem_with_oversampling, \n",
    "                    columns=['Train Accuracy', \n",
    "                            'Test Accuracy ', \n",
    "                            'Train ROC AUC', \n",
    "                            'Test ROC AUC ', \n",
    "                            'Train F1 Score',\n",
    "                            'Test F1 Score ',\n",
    "                            'Train Recall',\n",
    "                            'Test Recall ',\n",
    "                            'Train Precision',\n",
    "                            'Test Precision '])\n",
    "\n",
    "listIndex = list(dfEvaluate_with_oversampling.index)\n",
    "listIndex[-1] = 'Average'\n",
    "dfEvaluate_with_oversampling.index = listIndex\n",
    "dfEvaluate_with_oversampling"
   ]
  },
  {
   "cell_type": "markdown",
   "metadata": {},
   "source": [
    "#### Evaluation Metrics With Oversampling"
   ]
  },
  {
   "cell_type": "code",
   "execution_count": 41,
   "metadata": {},
   "outputs": [
    {
     "data": {
      "text/html": [
       "<div>\n",
       "<style scoped>\n",
       "    .dataframe tbody tr th:only-of-type {\n",
       "        vertical-align: middle;\n",
       "    }\n",
       "\n",
       "    .dataframe tbody tr th {\n",
       "        vertical-align: top;\n",
       "    }\n",
       "\n",
       "    .dataframe thead th {\n",
       "        text-align: right;\n",
       "    }\n",
       "</style>\n",
       "<table border=\"1\" class=\"dataframe\">\n",
       "  <thead>\n",
       "    <tr style=\"text-align: right;\">\n",
       "      <th></th>\n",
       "      <th>Train Accuracy</th>\n",
       "      <th>Test Accuracy</th>\n",
       "      <th>Train ROC AUC</th>\n",
       "      <th>Test ROC AUC</th>\n",
       "      <th>Train F1 Score</th>\n",
       "      <th>Test F1 Score</th>\n",
       "      <th>Train Recall</th>\n",
       "      <th>Test Recall</th>\n",
       "      <th>Train Precision</th>\n",
       "      <th>Test Precision</th>\n",
       "    </tr>\n",
       "  </thead>\n",
       "  <tbody>\n",
       "    <tr>\n",
       "      <th>0</th>\n",
       "      <td>0.801885</td>\n",
       "      <td>0.796440</td>\n",
       "      <td>0.859675</td>\n",
       "      <td>0.853994</td>\n",
       "      <td>0.777902</td>\n",
       "      <td>0.771089</td>\n",
       "      <td>0.642554</td>\n",
       "      <td>0.629569</td>\n",
       "      <td>0.780690</td>\n",
       "      <td>0.775388</td>\n",
       "    </tr>\n",
       "    <tr>\n",
       "      <th>1</th>\n",
       "      <td>0.802084</td>\n",
       "      <td>0.791804</td>\n",
       "      <td>0.860477</td>\n",
       "      <td>0.845772</td>\n",
       "      <td>0.778266</td>\n",
       "      <td>0.765692</td>\n",
       "      <td>0.643998</td>\n",
       "      <td>0.621852</td>\n",
       "      <td>0.780220</td>\n",
       "      <td>0.768574</td>\n",
       "    </tr>\n",
       "    <tr>\n",
       "      <th>2</th>\n",
       "      <td>0.800522</td>\n",
       "      <td>0.796739</td>\n",
       "      <td>0.860139</td>\n",
       "      <td>0.853084</td>\n",
       "      <td>0.777014</td>\n",
       "      <td>0.771732</td>\n",
       "      <td>0.646029</td>\n",
       "      <td>0.632413</td>\n",
       "      <td>0.774885</td>\n",
       "      <td>0.774242</td>\n",
       "    </tr>\n",
       "    <tr>\n",
       "      <th>3</th>\n",
       "      <td>0.801203</td>\n",
       "      <td>0.799581</td>\n",
       "      <td>0.859531</td>\n",
       "      <td>0.855139</td>\n",
       "      <td>0.777004</td>\n",
       "      <td>0.776081</td>\n",
       "      <td>0.640523</td>\n",
       "      <td>0.645816</td>\n",
       "      <td>0.780319</td>\n",
       "      <td>0.772595</td>\n",
       "    </tr>\n",
       "    <tr>\n",
       "      <th>4</th>\n",
       "      <td>0.799990</td>\n",
       "      <td>0.808854</td>\n",
       "      <td>0.858798</td>\n",
       "      <td>0.864809</td>\n",
       "      <td>0.775855</td>\n",
       "      <td>0.786809</td>\n",
       "      <td>0.640614</td>\n",
       "      <td>0.661657</td>\n",
       "      <td>0.777139</td>\n",
       "      <td>0.785439</td>\n",
       "    </tr>\n",
       "    <tr>\n",
       "      <th>5</th>\n",
       "      <td>0.801054</td>\n",
       "      <td>0.799133</td>\n",
       "      <td>0.859699</td>\n",
       "      <td>0.851336</td>\n",
       "      <td>0.777128</td>\n",
       "      <td>0.774967</td>\n",
       "      <td>0.642735</td>\n",
       "      <td>0.640130</td>\n",
       "      <td>0.778434</td>\n",
       "      <td>0.775209</td>\n",
       "    </tr>\n",
       "    <tr>\n",
       "      <th>6</th>\n",
       "      <td>0.801037</td>\n",
       "      <td>0.796141</td>\n",
       "      <td>0.859747</td>\n",
       "      <td>0.855722</td>\n",
       "      <td>0.777036</td>\n",
       "      <td>0.773426</td>\n",
       "      <td>0.642132</td>\n",
       "      <td>0.650832</td>\n",
       "      <td>0.778775</td>\n",
       "      <td>0.761159</td>\n",
       "    </tr>\n",
       "    <tr>\n",
       "      <th>7</th>\n",
       "      <td>0.800971</td>\n",
       "      <td>0.798684</td>\n",
       "      <td>0.859482</td>\n",
       "      <td>0.859029</td>\n",
       "      <td>0.777103</td>\n",
       "      <td>0.773940</td>\n",
       "      <td>0.643215</td>\n",
       "      <td>0.634998</td>\n",
       "      <td>0.777875</td>\n",
       "      <td>0.777723</td>\n",
       "    </tr>\n",
       "    <tr>\n",
       "      <th>8</th>\n",
       "      <td>0.800492</td>\n",
       "      <td>0.797158</td>\n",
       "      <td>0.860041</td>\n",
       "      <td>0.852159</td>\n",
       "      <td>0.777092</td>\n",
       "      <td>0.772446</td>\n",
       "      <td>0.646931</td>\n",
       "      <td>0.634850</td>\n",
       "      <td>0.774207</td>\n",
       "      <td>0.773762</td>\n",
       "    </tr>\n",
       "    <tr>\n",
       "      <th>9</th>\n",
       "      <td>0.800874</td>\n",
       "      <td>0.800150</td>\n",
       "      <td>0.859563</td>\n",
       "      <td>0.853599</td>\n",
       "      <td>0.776835</td>\n",
       "      <td>0.775303</td>\n",
       "      <td>0.641742</td>\n",
       "      <td>0.634850</td>\n",
       "      <td>0.778636</td>\n",
       "      <td>0.781500</td>\n",
       "    </tr>\n",
       "    <tr>\n",
       "      <th>Average</th>\n",
       "      <td>0.801011</td>\n",
       "      <td>0.798468</td>\n",
       "      <td>0.859715</td>\n",
       "      <td>0.854464</td>\n",
       "      <td>0.777124</td>\n",
       "      <td>0.774148</td>\n",
       "      <td>0.643047</td>\n",
       "      <td>0.638697</td>\n",
       "      <td>0.778118</td>\n",
       "      <td>0.774559</td>\n",
       "    </tr>\n",
       "  </tbody>\n",
       "</table>\n",
       "</div>"
      ],
      "text/plain": [
       "         Train Accuracy  Test Accuracy   Train ROC AUC  Test ROC AUC   \\\n",
       "0              0.801885        0.796440       0.859675       0.853994   \n",
       "1              0.802084        0.791804       0.860477       0.845772   \n",
       "2              0.800522        0.796739       0.860139       0.853084   \n",
       "3              0.801203        0.799581       0.859531       0.855139   \n",
       "4              0.799990        0.808854       0.858798       0.864809   \n",
       "5              0.801054        0.799133       0.859699       0.851336   \n",
       "6              0.801037        0.796141       0.859747       0.855722   \n",
       "7              0.800971        0.798684       0.859482       0.859029   \n",
       "8              0.800492        0.797158       0.860041       0.852159   \n",
       "9              0.800874        0.800150       0.859563       0.853599   \n",
       "Average        0.801011        0.798468       0.859715       0.854464   \n",
       "\n",
       "         Train F1 Score  Test F1 Score   Train Recall  Test Recall   \\\n",
       "0              0.777902        0.771089      0.642554      0.629569   \n",
       "1              0.778266        0.765692      0.643998      0.621852   \n",
       "2              0.777014        0.771732      0.646029      0.632413   \n",
       "3              0.777004        0.776081      0.640523      0.645816   \n",
       "4              0.775855        0.786809      0.640614      0.661657   \n",
       "5              0.777128        0.774967      0.642735      0.640130   \n",
       "6              0.777036        0.773426      0.642132      0.650832   \n",
       "7              0.777103        0.773940      0.643215      0.634998   \n",
       "8              0.777092        0.772446      0.646931      0.634850   \n",
       "9              0.776835        0.775303      0.641742      0.634850   \n",
       "Average        0.777124        0.774148      0.643047      0.638697   \n",
       "\n",
       "         Train Precision  Test Precision   \n",
       "0               0.780690         0.775388  \n",
       "1               0.780220         0.768574  \n",
       "2               0.774885         0.774242  \n",
       "3               0.780319         0.772595  \n",
       "4               0.777139         0.785439  \n",
       "5               0.778434         0.775209  \n",
       "6               0.778775         0.761159  \n",
       "7               0.777875         0.777723  \n",
       "8               0.774207         0.773762  \n",
       "9               0.778636         0.781500  \n",
       "Average         0.778118         0.774559  "
      ]
     },
     "execution_count": 41,
     "metadata": {},
     "output_type": "execute_result"
    }
   ],
   "source": [
    "listItem_with_oversampling = []\n",
    "\n",
    "for tr,val in zip(train_errors_with_oversampling,validation_errors_with_oversampling) :\n",
    "    listItem_with_oversampling.append([tr['accuracy'],val['accuracy'],tr['roc'],val['roc'],tr['f1'],val['f1'],\n",
    "                     tr['recall'],val['recall'],tr['precision'],val['precision']])\n",
    "\n",
    "listItem_with_oversampling.append(list(np.mean(listItem_with_oversampling,axis=0)))\n",
    "    \n",
    "dfEvaluate_with_oversampling = pd.DataFrame(listItem_with_oversampling, \n",
    "                    columns=['Train Accuracy', \n",
    "                            'Test Accuracy ', \n",
    "                            'Train ROC AUC', \n",
    "                            'Test ROC AUC ', \n",
    "                            'Train F1 Score',\n",
    "                            'Test F1 Score ',\n",
    "                            'Train Recall',\n",
    "                            'Test Recall ',\n",
    "                            'Train Precision',\n",
    "                            'Test Precision '])\n",
    "\n",
    "listIndex = list(dfEvaluate_with_oversampling.index)\n",
    "listIndex[-1] = 'Average'\n",
    "dfEvaluate_with_oversampling.index = listIndex\n",
    "dfEvaluate_with_oversampling\n"
   ]
  },
  {
   "attachments": {},
   "cell_type": "markdown",
   "metadata": {},
   "source": [
    "#### Evaluation Metrics With undersampling"
   ]
  },
  {
   "cell_type": "code",
   "execution_count": 42,
   "metadata": {},
   "outputs": [
    {
     "data": {
      "text/html": [
       "<div>\n",
       "<style scoped>\n",
       "    .dataframe tbody tr th:only-of-type {\n",
       "        vertical-align: middle;\n",
       "    }\n",
       "\n",
       "    .dataframe tbody tr th {\n",
       "        vertical-align: top;\n",
       "    }\n",
       "\n",
       "    .dataframe thead th {\n",
       "        text-align: right;\n",
       "    }\n",
       "</style>\n",
       "<table border=\"1\" class=\"dataframe\">\n",
       "  <thead>\n",
       "    <tr style=\"text-align: right;\">\n",
       "      <th></th>\n",
       "      <th>Train Accuracy</th>\n",
       "      <th>Test Accuracy</th>\n",
       "      <th>Train ROC AUC</th>\n",
       "      <th>Test ROC AUC</th>\n",
       "      <th>Train F1 Score</th>\n",
       "      <th>Test F1 Score</th>\n",
       "      <th>Train Recall</th>\n",
       "      <th>Test Recall</th>\n",
       "      <th>Train Precision</th>\n",
       "      <th>Test Precision</th>\n",
       "    </tr>\n",
       "  </thead>\n",
       "  <tbody>\n",
       "    <tr>\n",
       "      <th>0</th>\n",
       "      <td>0.800406</td>\n",
       "      <td>0.795543</td>\n",
       "      <td>0.859379</td>\n",
       "      <td>0.854287</td>\n",
       "      <td>0.776984</td>\n",
       "      <td>0.770744</td>\n",
       "      <td>0.646706</td>\n",
       "      <td>0.633631</td>\n",
       "      <td>0.774146</td>\n",
       "      <td>0.770370</td>\n",
       "    </tr>\n",
       "    <tr>\n",
       "      <th>1</th>\n",
       "      <td>0.800738</td>\n",
       "      <td>0.789112</td>\n",
       "      <td>0.859983</td>\n",
       "      <td>0.845875</td>\n",
       "      <td>0.777253</td>\n",
       "      <td>0.763506</td>\n",
       "      <td>0.646300</td>\n",
       "      <td>0.624695</td>\n",
       "      <td>0.775252</td>\n",
       "      <td>0.759881</td>\n",
       "    </tr>\n",
       "    <tr>\n",
       "      <th>2</th>\n",
       "      <td>0.801469</td>\n",
       "      <td>0.800030</td>\n",
       "      <td>0.859465</td>\n",
       "      <td>0.852896</td>\n",
       "      <td>0.776989</td>\n",
       "      <td>0.774105</td>\n",
       "      <td>0.638312</td>\n",
       "      <td>0.626320</td>\n",
       "      <td>0.782529</td>\n",
       "      <td>0.787136</td>\n",
       "    </tr>\n",
       "    <tr>\n",
       "      <th>3</th>\n",
       "      <td>0.800273</td>\n",
       "      <td>0.798235</td>\n",
       "      <td>0.858932</td>\n",
       "      <td>0.855452</td>\n",
       "      <td>0.776168</td>\n",
       "      <td>0.775134</td>\n",
       "      <td>0.640975</td>\n",
       "      <td>0.648660</td>\n",
       "      <td>0.777620</td>\n",
       "      <td>0.767420</td>\n",
       "    </tr>\n",
       "    <tr>\n",
       "      <th>4</th>\n",
       "      <td>0.798428</td>\n",
       "      <td>0.806162</td>\n",
       "      <td>0.858256</td>\n",
       "      <td>0.864653</td>\n",
       "      <td>0.774826</td>\n",
       "      <td>0.784450</td>\n",
       "      <td>0.644449</td>\n",
       "      <td>0.663688</td>\n",
       "      <td>0.770655</td>\n",
       "      <td>0.777355</td>\n",
       "    </tr>\n",
       "    <tr>\n",
       "      <th>5</th>\n",
       "      <td>0.800671</td>\n",
       "      <td>0.799581</td>\n",
       "      <td>0.859263</td>\n",
       "      <td>0.850751</td>\n",
       "      <td>0.776566</td>\n",
       "      <td>0.775346</td>\n",
       "      <td>0.641110</td>\n",
       "      <td>0.639724</td>\n",
       "      <td>0.778551</td>\n",
       "      <td>0.776627</td>\n",
       "    </tr>\n",
       "    <tr>\n",
       "      <th>6</th>\n",
       "      <td>0.800671</td>\n",
       "      <td>0.795842</td>\n",
       "      <td>0.858812</td>\n",
       "      <td>0.855844</td>\n",
       "      <td>0.776435</td>\n",
       "      <td>0.772661</td>\n",
       "      <td>0.640056</td>\n",
       "      <td>0.646772</td>\n",
       "      <td>0.779243</td>\n",
       "      <td>0.762931</td>\n",
       "    </tr>\n",
       "    <tr>\n",
       "      <th>7</th>\n",
       "      <td>0.800705</td>\n",
       "      <td>0.799282</td>\n",
       "      <td>0.858648</td>\n",
       "      <td>0.858882</td>\n",
       "      <td>0.776636</td>\n",
       "      <td>0.774862</td>\n",
       "      <td>0.641455</td>\n",
       "      <td>0.637840</td>\n",
       "      <td>0.778380</td>\n",
       "      <td>0.777338</td>\n",
       "    </tr>\n",
       "    <tr>\n",
       "      <th>8</th>\n",
       "      <td>0.801090</td>\n",
       "      <td>0.798055</td>\n",
       "      <td>0.859550</td>\n",
       "      <td>0.853008</td>\n",
       "      <td>0.777135</td>\n",
       "      <td>0.772999</td>\n",
       "      <td>0.642509</td>\n",
       "      <td>0.632413</td>\n",
       "      <td>0.778671</td>\n",
       "      <td>0.777722</td>\n",
       "    </tr>\n",
       "    <tr>\n",
       "      <th>9</th>\n",
       "      <td>0.798913</td>\n",
       "      <td>0.797906</td>\n",
       "      <td>0.859697</td>\n",
       "      <td>0.853988</td>\n",
       "      <td>0.775931</td>\n",
       "      <td>0.774783</td>\n",
       "      <td>0.649865</td>\n",
       "      <td>0.648253</td>\n",
       "      <td>0.768381</td>\n",
       "      <td>0.766939</td>\n",
       "    </tr>\n",
       "    <tr>\n",
       "      <th>Average</th>\n",
       "      <td>0.800336</td>\n",
       "      <td>0.797975</td>\n",
       "      <td>0.859199</td>\n",
       "      <td>0.854564</td>\n",
       "      <td>0.776492</td>\n",
       "      <td>0.773859</td>\n",
       "      <td>0.643174</td>\n",
       "      <td>0.640200</td>\n",
       "      <td>0.776343</td>\n",
       "      <td>0.772372</td>\n",
       "    </tr>\n",
       "  </tbody>\n",
       "</table>\n",
       "</div>"
      ],
      "text/plain": [
       "         Train Accuracy  Test Accuracy  Train ROC AUC  Test ROC AUC  \\\n",
       "0              0.800406       0.795543       0.859379      0.854287   \n",
       "1              0.800738       0.789112       0.859983      0.845875   \n",
       "2              0.801469       0.800030       0.859465      0.852896   \n",
       "3              0.800273       0.798235       0.858932      0.855452   \n",
       "4              0.798428       0.806162       0.858256      0.864653   \n",
       "5              0.800671       0.799581       0.859263      0.850751   \n",
       "6              0.800671       0.795842       0.858812      0.855844   \n",
       "7              0.800705       0.799282       0.858648      0.858882   \n",
       "8              0.801090       0.798055       0.859550      0.853008   \n",
       "9              0.798913       0.797906       0.859697      0.853988   \n",
       "Average        0.800336       0.797975       0.859199      0.854564   \n",
       "\n",
       "         Train F1 Score  Test F1 Score  Train Recall  Test Recall  \\\n",
       "0              0.776984       0.770744      0.646706     0.633631   \n",
       "1              0.777253       0.763506      0.646300     0.624695   \n",
       "2              0.776989       0.774105      0.638312     0.626320   \n",
       "3              0.776168       0.775134      0.640975     0.648660   \n",
       "4              0.774826       0.784450      0.644449     0.663688   \n",
       "5              0.776566       0.775346      0.641110     0.639724   \n",
       "6              0.776435       0.772661      0.640056     0.646772   \n",
       "7              0.776636       0.774862      0.641455     0.637840   \n",
       "8              0.777135       0.772999      0.642509     0.632413   \n",
       "9              0.775931       0.774783      0.649865     0.648253   \n",
       "Average        0.776492       0.773859      0.643174     0.640200   \n",
       "\n",
       "         Train Precision  Test Precision  \n",
       "0               0.774146        0.770370  \n",
       "1               0.775252        0.759881  \n",
       "2               0.782529        0.787136  \n",
       "3               0.777620        0.767420  \n",
       "4               0.770655        0.777355  \n",
       "5               0.778551        0.776627  \n",
       "6               0.779243        0.762931  \n",
       "7               0.778380        0.777338  \n",
       "8               0.778671        0.777722  \n",
       "9               0.768381        0.766939  \n",
       "Average         0.776343        0.772372  "
      ]
     },
     "execution_count": 42,
     "metadata": {},
     "output_type": "execute_result"
    }
   ],
   "source": [
    "listItem = []\n",
    "\n",
    "for tr,val in zip(train_errors_with_undersampling,validation_errors_with_undersampling) :\n",
    "    listItem.append([tr['accuracy'],val['accuracy'],tr['roc'],val['roc'],tr['f1'],val['f1'],\n",
    "                     tr['recall'],val['recall'],tr['precision'],val['precision']])\n",
    "\n",
    "listItem.append(list(np.mean(listItem,axis=0)))\n",
    "    \n",
    "dfEvaluate = pd.DataFrame(listItem, \n",
    "                    columns=['Train Accuracy', \n",
    "                            'Test Accuracy', \n",
    "                            'Train ROC AUC', \n",
    "                            'Test ROC AUC', \n",
    "                            'Train F1 Score',\n",
    "                            'Test F1 Score',\n",
    "                            'Train Recall',\n",
    "                            'Test Recall',\n",
    "                            'Train Precision',\n",
    "                            'Test Precision'])\n",
    "\n",
    "listIndex = list(dfEvaluate.index)\n",
    "listIndex[-1] = 'Average'\n",
    "dfEvaluate.index = listIndex\n",
    "dfEvaluate"
   ]
  },
  {
   "attachments": {},
   "cell_type": "markdown",
   "metadata": {},
   "source": [
    "Terlihat bahwa hasil evaluation metricsnya untuk recall dari class positive lebih baik setelah di oversampling juga undersampling dari yang tidak di oversampling tetapi precisionnya tebakan class positive menjadi sedikit lebih buruk. \n",
    "Dapat terlihat bahwa dengan menggunakan oversampling didapatkan nilai recall terbaik. walaupun precision calss possitivenya turun namun lebih baik dibandingkan nilai recall yang terlalu kecil.\n",
    "\n",
    "Ini masuk akal karena class positive datanya saya perbanyak menjadi sama dengan jumlah data dari class negative, dimana ini biasa memang akan membuat recall dari class yg minoritas naik tetapi otomatis precisionnya juga akan turun sebagai dampaknya. Tetapi untuk kasus kali ini recallnya naik walau nilai lainya turun. model setelah di oversampling menjadi mendapatkan potensial customer (cancel) yang lebih banyak dari sebelumnya, tetapi sedikit berkurang dalam ketepatan/precision tebakannya untuk customer (cancel) potensial.\n",
    "\n",
    "saya akan menggunakan model dengan oversampling bukan undersampling karena yang dibutuhkan adalah TP(True Positive) yaitu yang diprediksi mengcancel dan benar mencancel pemesanannnya. karena setelah menggunakan over sampling maupun under sampling hanya nilai recall yang menjadi bertambah sebanyak +-3% walau nilai lainya turun. karena kenaikan recall tersebut maka saya akan menggunakan model oversampling. \n",
    "\n"
   ]
  },
  {
   "cell_type": "markdown",
   "metadata": {},
   "source": [
    "#### Classification Reports Without Oversampling"
   ]
  },
  {
   "cell_type": "code",
   "execution_count": 43,
   "metadata": {},
   "outputs": [
    {
     "name": "stdout",
     "output_type": "stream",
     "text": [
      "              precision    recall  f1-score   support\n",
      "\n",
      "           0       0.80      0.91      0.85      4224\n",
      "           1       0.80      0.61      0.69      2462\n",
      "\n",
      "    accuracy                           0.80      6686\n",
      "   macro avg       0.80      0.76      0.77      6686\n",
      "weighted avg       0.80      0.80      0.79      6686\n",
      "\n",
      "              precision    recall  f1-score   support\n",
      "\n",
      "           0       0.80      0.91      0.85      4224\n",
      "           1       0.79      0.60      0.68      2462\n",
      "\n",
      "    accuracy                           0.79      6686\n",
      "   macro avg       0.79      0.75      0.77      6686\n",
      "weighted avg       0.79      0.79      0.79      6686\n",
      "\n",
      "              precision    recall  f1-score   support\n",
      "\n",
      "           0       0.80      0.92      0.85      4224\n",
      "           1       0.81      0.61      0.69      2462\n",
      "\n",
      "    accuracy                           0.80      6686\n",
      "   macro avg       0.80      0.76      0.77      6686\n",
      "weighted avg       0.80      0.80      0.80      6686\n",
      "\n",
      "              precision    recall  f1-score   support\n",
      "\n",
      "           0       0.81      0.91      0.85      4224\n",
      "           1       0.80      0.63      0.70      2462\n",
      "\n",
      "    accuracy                           0.80      6686\n",
      "   macro avg       0.80      0.77      0.78      6686\n",
      "weighted avg       0.80      0.80      0.80      6686\n",
      "\n",
      "              precision    recall  f1-score   support\n",
      "\n",
      "           0       0.81      0.91      0.86      4224\n",
      "           1       0.81      0.63      0.71      2462\n",
      "\n",
      "    accuracy                           0.81      6686\n",
      "   macro avg       0.81      0.77      0.78      6686\n",
      "weighted avg       0.81      0.81      0.80      6686\n",
      "\n",
      "              precision    recall  f1-score   support\n",
      "\n",
      "           0       0.80      0.91      0.85      4224\n",
      "           1       0.80      0.62      0.70      2462\n",
      "\n",
      "    accuracy                           0.80      6686\n",
      "   macro avg       0.80      0.76      0.77      6686\n",
      "weighted avg       0.80      0.80      0.80      6686\n",
      "\n",
      "              precision    recall  f1-score   support\n",
      "\n",
      "           0       0.81      0.90      0.85      4223\n",
      "           1       0.79      0.63      0.70      2463\n",
      "\n",
      "    accuracy                           0.80      6686\n",
      "   macro avg       0.80      0.77      0.78      6686\n",
      "weighted avg       0.80      0.80      0.80      6686\n",
      "\n",
      "              precision    recall  f1-score   support\n",
      "\n",
      "           0       0.80      0.91      0.85      4223\n",
      "           1       0.80      0.62      0.70      2463\n",
      "\n",
      "    accuracy                           0.80      6686\n",
      "   macro avg       0.80      0.76      0.78      6686\n",
      "weighted avg       0.80      0.80      0.80      6686\n",
      "\n",
      "              precision    recall  f1-score   support\n",
      "\n",
      "           0       0.80      0.91      0.85      4223\n",
      "           1       0.80      0.61      0.69      2462\n",
      "\n",
      "    accuracy                           0.80      6685\n",
      "   macro avg       0.80      0.76      0.77      6685\n",
      "weighted avg       0.80      0.80      0.80      6685\n",
      "\n",
      "              precision    recall  f1-score   support\n",
      "\n",
      "           0       0.80      0.91      0.86      4223\n",
      "           1       0.81      0.61      0.70      2462\n",
      "\n",
      "    accuracy                           0.80      6685\n",
      "   macro avg       0.81      0.76      0.78      6685\n",
      "weighted avg       0.80      0.80      0.80      6685\n",
      "\n"
     ]
    }
   ],
   "source": [
    "for rep in validation_errors_without_resampling :\n",
    "    print(rep['report'])"
   ]
  },
  {
   "cell_type": "markdown",
   "metadata": {},
   "source": [
    "#### Classification Reports With Oversampling"
   ]
  },
  {
   "cell_type": "code",
   "execution_count": 44,
   "metadata": {},
   "outputs": [
    {
     "name": "stdout",
     "output_type": "stream",
     "text": [
      "              precision    recall  f1-score   support\n",
      "\n",
      "           0       0.81      0.89      0.85      4224\n",
      "           1       0.78      0.63      0.69      2462\n",
      "\n",
      "    accuracy                           0.80      6686\n",
      "   macro avg       0.79      0.76      0.77      6686\n",
      "weighted avg       0.79      0.80      0.79      6686\n",
      "\n",
      "              precision    recall  f1-score   support\n",
      "\n",
      "           0       0.80      0.89      0.84      4224\n",
      "           1       0.77      0.62      0.69      2462\n",
      "\n",
      "    accuracy                           0.79      6686\n",
      "   macro avg       0.79      0.76      0.77      6686\n",
      "weighted avg       0.79      0.79      0.79      6686\n",
      "\n",
      "              precision    recall  f1-score   support\n",
      "\n",
      "           0       0.81      0.89      0.85      4224\n",
      "           1       0.77      0.63      0.70      2462\n",
      "\n",
      "    accuracy                           0.80      6686\n",
      "   macro avg       0.79      0.76      0.77      6686\n",
      "weighted avg       0.79      0.80      0.79      6686\n",
      "\n",
      "              precision    recall  f1-score   support\n",
      "\n",
      "           0       0.81      0.89      0.85      4224\n",
      "           1       0.77      0.65      0.70      2462\n",
      "\n",
      "    accuracy                           0.80      6686\n",
      "   macro avg       0.79      0.77      0.78      6686\n",
      "weighted avg       0.80      0.80      0.80      6686\n",
      "\n",
      "              precision    recall  f1-score   support\n",
      "\n",
      "           0       0.82      0.89      0.86      4224\n",
      "           1       0.79      0.66      0.72      2462\n",
      "\n",
      "    accuracy                           0.81      6686\n",
      "   macro avg       0.80      0.78      0.79      6686\n",
      "weighted avg       0.81      0.81      0.80      6686\n",
      "\n",
      "              precision    recall  f1-score   support\n",
      "\n",
      "           0       0.81      0.89      0.85      4224\n",
      "           1       0.78      0.64      0.70      2462\n",
      "\n",
      "    accuracy                           0.80      6686\n",
      "   macro avg       0.79      0.77      0.77      6686\n",
      "weighted avg       0.80      0.80      0.79      6686\n",
      "\n",
      "              precision    recall  f1-score   support\n",
      "\n",
      "           0       0.81      0.88      0.85      4223\n",
      "           1       0.76      0.65      0.70      2463\n",
      "\n",
      "    accuracy                           0.80      6686\n",
      "   macro avg       0.79      0.77      0.77      6686\n",
      "weighted avg       0.79      0.80      0.79      6686\n",
      "\n",
      "              precision    recall  f1-score   support\n",
      "\n",
      "           0       0.81      0.89      0.85      4223\n",
      "           1       0.78      0.63      0.70      2463\n",
      "\n",
      "    accuracy                           0.80      6686\n",
      "   macro avg       0.79      0.76      0.77      6686\n",
      "weighted avg       0.80      0.80      0.79      6686\n",
      "\n",
      "              precision    recall  f1-score   support\n",
      "\n",
      "           0       0.81      0.89      0.85      4223\n",
      "           1       0.77      0.63      0.70      2462\n",
      "\n",
      "    accuracy                           0.80      6685\n",
      "   macro avg       0.79      0.76      0.77      6685\n",
      "weighted avg       0.79      0.80      0.79      6685\n",
      "\n",
      "              precision    recall  f1-score   support\n",
      "\n",
      "           0       0.81      0.90      0.85      4223\n",
      "           1       0.78      0.63      0.70      2462\n",
      "\n",
      "    accuracy                           0.80      6685\n",
      "   macro avg       0.79      0.77      0.78      6685\n",
      "weighted avg       0.80      0.80      0.79      6685\n",
      "\n"
     ]
    }
   ],
   "source": [
    "for rep in validation_errors_with_oversampling :\n",
    "    print(rep['report'])"
   ]
  },
  {
   "attachments": {},
   "cell_type": "markdown",
   "metadata": {},
   "source": [
    "#### Classification Reports With undersampling"
   ]
  },
  {
   "cell_type": "code",
   "execution_count": 45,
   "metadata": {},
   "outputs": [
    {
     "name": "stdout",
     "output_type": "stream",
     "text": [
      "              precision    recall  f1-score   support\n",
      "\n",
      "           0       0.81      0.89      0.85      4224\n",
      "           1       0.77      0.63      0.70      2462\n",
      "\n",
      "    accuracy                           0.80      6686\n",
      "   macro avg       0.79      0.76      0.77      6686\n",
      "weighted avg       0.79      0.80      0.79      6686\n",
      "\n",
      "              precision    recall  f1-score   support\n",
      "\n",
      "           0       0.80      0.88      0.84      4224\n",
      "           1       0.76      0.62      0.69      2462\n",
      "\n",
      "    accuracy                           0.79      6686\n",
      "   macro avg       0.78      0.75      0.76      6686\n",
      "weighted avg       0.79      0.79      0.78      6686\n",
      "\n",
      "              precision    recall  f1-score   support\n",
      "\n",
      "           0       0.81      0.90      0.85      4224\n",
      "           1       0.79      0.63      0.70      2462\n",
      "\n",
      "    accuracy                           0.80      6686\n",
      "   macro avg       0.80      0.76      0.77      6686\n",
      "weighted avg       0.80      0.80      0.79      6686\n",
      "\n",
      "              precision    recall  f1-score   support\n",
      "\n",
      "           0       0.81      0.89      0.85      4224\n",
      "           1       0.77      0.65      0.70      2462\n",
      "\n",
      "    accuracy                           0.80      6686\n",
      "   macro avg       0.79      0.77      0.78      6686\n",
      "weighted avg       0.80      0.80      0.79      6686\n",
      "\n",
      "              precision    recall  f1-score   support\n",
      "\n",
      "           0       0.82      0.89      0.85      4224\n",
      "           1       0.78      0.66      0.72      2462\n",
      "\n",
      "    accuracy                           0.81      6686\n",
      "   macro avg       0.80      0.78      0.78      6686\n",
      "weighted avg       0.80      0.81      0.80      6686\n",
      "\n",
      "              precision    recall  f1-score   support\n",
      "\n",
      "           0       0.81      0.89      0.85      4224\n",
      "           1       0.78      0.64      0.70      2462\n",
      "\n",
      "    accuracy                           0.80      6686\n",
      "   macro avg       0.79      0.77      0.78      6686\n",
      "weighted avg       0.80      0.80      0.79      6686\n",
      "\n",
      "              precision    recall  f1-score   support\n",
      "\n",
      "           0       0.81      0.88      0.85      4223\n",
      "           1       0.76      0.65      0.70      2463\n",
      "\n",
      "    accuracy                           0.80      6686\n",
      "   macro avg       0.79      0.76      0.77      6686\n",
      "weighted avg       0.79      0.80      0.79      6686\n",
      "\n",
      "              precision    recall  f1-score   support\n",
      "\n",
      "           0       0.81      0.89      0.85      4223\n",
      "           1       0.78      0.64      0.70      2463\n",
      "\n",
      "    accuracy                           0.80      6686\n",
      "   macro avg       0.79      0.77      0.77      6686\n",
      "weighted avg       0.80      0.80      0.79      6686\n",
      "\n",
      "              precision    recall  f1-score   support\n",
      "\n",
      "           0       0.81      0.89      0.85      4223\n",
      "           1       0.78      0.63      0.70      2462\n",
      "\n",
      "    accuracy                           0.80      6685\n",
      "   macro avg       0.79      0.76      0.77      6685\n",
      "weighted avg       0.80      0.80      0.79      6685\n",
      "\n",
      "              precision    recall  f1-score   support\n",
      "\n",
      "           0       0.81      0.89      0.85      4223\n",
      "           1       0.77      0.65      0.70      2462\n",
      "\n",
      "    accuracy                           0.80      6685\n",
      "   macro avg       0.79      0.77      0.77      6685\n",
      "weighted avg       0.80      0.80      0.79      6685\n",
      "\n"
     ]
    }
   ],
   "source": [
    "for rep in validation_errors_with_undersampling :\n",
    "    print(rep['report'])"
   ]
  },
  {
   "attachments": {},
   "cell_type": "markdown",
   "metadata": {},
   "source": [
    "Terlihat bahwa model yang setelah di oversampling dan undersampling memang recall mendapat peningkatan  karena  tujuan utama dari model ini memprediksi true positive lebih tepat maka akan digunakan model dengan oversampling. agar recall tidak jauh dibawah parameter yang lain \n"
   ]
  },
  {
   "attachments": {},
   "cell_type": "markdown",
   "metadata": {},
   "source": [
    "# hyperparameter tuning\n",
    "\n",
    "dengan nilai default untuk xgboost adalah sebesar :\n",
    "learning_rate: 0.3\n",
    "n_estimators: 100\n",
    "max_depth: 6\n",
    "subsample: 1.0\n",
    "colsample_bytree: 1.0\n",
    "objective: 'binary:logistic'\n",
    "referensi :\n",
    "1. XGBoost Documentation: https://xgboost.readthedocs.io/en/latest/parameter.html\n",
    "2. Analytics Vidhya: https://www.analyticsvidhya.com/blog/2016/03/complete-guide-parameter-tuning-xgboost-with-codes-python/\n",
    "3. Machine Learning Mastery: https://machinelearningmastery.com/tune-number-size-decision-trees-xgboost-python/"
   ]
  },
  {
   "cell_type": "code",
   "execution_count": 46,
   "metadata": {},
   "outputs": [],
   "source": [
    "\n",
    "# Define the pipeline with oversampler\n",
    "xgb = XGBClassifier()\n",
    "ros = RandomOverSampler(random_state=42)\n",
    "\n",
    "estimator = Pipeline([\n",
    "    ('oversampling', ros),\n",
    "    ('preprocess', transformer),\n",
    "    ('model', xgb)\n",
    "])\n",
    "\n",
    "# Define the parameter grid to search\n",
    "param_grid = {\n",
    "    'model__learning_rate': [0.3, 0.1, 0.2],\n",
    "    'model__n_estimators': [50, 100, 200],\n",
    "    'model__max_depth': [3, 6, 7],\n",
    "    'model__subsample': [0.5, 0.7, 1.0],\n",
    "    'model__colsample_bytree': [0.5, 0.7, 1.0],\n",
    "}\n"
   ]
  },
  {
   "cell_type": "code",
   "execution_count": 47,
   "metadata": {},
   "outputs": [],
   "source": [
    "# Perform grid search\n",
    "grid = GridSearchCV(estimator, n_jobs=-1, param_grid=param_grid, scoring='roc_auc', cv=StratifiedKFold(n_splits=5, shuffle=True, random_state=42))\n"
   ]
  },
  {
   "cell_type": "code",
   "execution_count": 48,
   "metadata": {},
   "outputs": [
    {
     "name": "stdout",
     "output_type": "stream",
     "text": [
      "0.8543363808979179\n",
      "{'model__colsample_bytree': 0.5, 'model__learning_rate': 0.3, 'model__max_depth': 6, 'model__n_estimators': 200, 'model__subsample': 1.0}\n"
     ]
    }
   ],
   "source": [
    "grid.fit(x_train,y_train)\n",
    "print(grid.best_score_)\n",
    "print(grid.best_params_)"
   ]
  },
  {
   "attachments": {},
   "cell_type": "markdown",
   "metadata": {},
   "source": [
    "dari parameter yang dicoba yang memiliki nilai terbaik adalah sebagai berikut 'model__colsample_bytree': 0.5, 'model__learning_rate': 0.3, 'model__max_depth': 6, 'model__n_estimators': 200, 'model__subsample': 1.0 . model dengan benar memprediksi 85% sampel dalam set pengujian dengan data yang sudah di oversampling."
   ]
  },
  {
   "cell_type": "code",
   "execution_count": 49,
   "metadata": {},
   "outputs": [
    {
     "data": {
      "text/html": [
       "<style>#sk-container-id-1 {color: black;background-color: white;}#sk-container-id-1 pre{padding: 0;}#sk-container-id-1 div.sk-toggleable {background-color: white;}#sk-container-id-1 label.sk-toggleable__label {cursor: pointer;display: block;width: 100%;margin-bottom: 0;padding: 0.3em;box-sizing: border-box;text-align: center;}#sk-container-id-1 label.sk-toggleable__label-arrow:before {content: \"▸\";float: left;margin-right: 0.25em;color: #696969;}#sk-container-id-1 label.sk-toggleable__label-arrow:hover:before {color: black;}#sk-container-id-1 div.sk-estimator:hover label.sk-toggleable__label-arrow:before {color: black;}#sk-container-id-1 div.sk-toggleable__content {max-height: 0;max-width: 0;overflow: hidden;text-align: left;background-color: #f0f8ff;}#sk-container-id-1 div.sk-toggleable__content pre {margin: 0.2em;color: black;border-radius: 0.25em;background-color: #f0f8ff;}#sk-container-id-1 input.sk-toggleable__control:checked~div.sk-toggleable__content {max-height: 200px;max-width: 100%;overflow: auto;}#sk-container-id-1 input.sk-toggleable__control:checked~label.sk-toggleable__label-arrow:before {content: \"▾\";}#sk-container-id-1 div.sk-estimator input.sk-toggleable__control:checked~label.sk-toggleable__label {background-color: #d4ebff;}#sk-container-id-1 div.sk-label input.sk-toggleable__control:checked~label.sk-toggleable__label {background-color: #d4ebff;}#sk-container-id-1 input.sk-hidden--visually {border: 0;clip: rect(1px 1px 1px 1px);clip: rect(1px, 1px, 1px, 1px);height: 1px;margin: -1px;overflow: hidden;padding: 0;position: absolute;width: 1px;}#sk-container-id-1 div.sk-estimator {font-family: monospace;background-color: #f0f8ff;border: 1px dotted black;border-radius: 0.25em;box-sizing: border-box;margin-bottom: 0.5em;}#sk-container-id-1 div.sk-estimator:hover {background-color: #d4ebff;}#sk-container-id-1 div.sk-parallel-item::after {content: \"\";width: 100%;border-bottom: 1px solid gray;flex-grow: 1;}#sk-container-id-1 div.sk-label:hover label.sk-toggleable__label {background-color: #d4ebff;}#sk-container-id-1 div.sk-serial::before {content: \"\";position: absolute;border-left: 1px solid gray;box-sizing: border-box;top: 0;bottom: 0;left: 50%;z-index: 0;}#sk-container-id-1 div.sk-serial {display: flex;flex-direction: column;align-items: center;background-color: white;padding-right: 0.2em;padding-left: 0.2em;position: relative;}#sk-container-id-1 div.sk-item {position: relative;z-index: 1;}#sk-container-id-1 div.sk-parallel {display: flex;align-items: stretch;justify-content: center;background-color: white;position: relative;}#sk-container-id-1 div.sk-item::before, #sk-container-id-1 div.sk-parallel-item::before {content: \"\";position: absolute;border-left: 1px solid gray;box-sizing: border-box;top: 0;bottom: 0;left: 50%;z-index: -1;}#sk-container-id-1 div.sk-parallel-item {display: flex;flex-direction: column;z-index: 1;position: relative;background-color: white;}#sk-container-id-1 div.sk-parallel-item:first-child::after {align-self: flex-end;width: 50%;}#sk-container-id-1 div.sk-parallel-item:last-child::after {align-self: flex-start;width: 50%;}#sk-container-id-1 div.sk-parallel-item:only-child::after {width: 0;}#sk-container-id-1 div.sk-dashed-wrapped {border: 1px dashed gray;margin: 0 0.4em 0.5em 0.4em;box-sizing: border-box;padding-bottom: 0.4em;background-color: white;}#sk-container-id-1 div.sk-label label {font-family: monospace;font-weight: bold;display: inline-block;line-height: 1.2em;}#sk-container-id-1 div.sk-label-container {text-align: center;}#sk-container-id-1 div.sk-container {/* jupyter's `normalize.less` sets `[hidden] { display: none; }` but bootstrap.min.css set `[hidden] { display: none !important; }` so we also need the `!important` here to be able to override the default hidden behavior on the sphinx rendered scikit-learn.org. See: https://github.com/scikit-learn/scikit-learn/issues/21755 */display: inline-block !important;position: relative;}#sk-container-id-1 div.sk-text-repr-fallback {display: none;}</style><div id=\"sk-container-id-1\" class=\"sk-top-container\"><div class=\"sk-text-repr-fallback\"><pre>Pipeline(steps=[(&#x27;oversampling&#x27;, RandomOverSampler(random_state=42)),\n",
       "                (&#x27;preprocess&#x27;,\n",
       "                 ColumnTransformer(remainder=&#x27;passthrough&#x27;,\n",
       "                                   transformers=[(&#x27;onehot&#x27;,\n",
       "                                                  OneHotEncoder(drop=&#x27;first&#x27;,\n",
       "                                                                handle_unknown=&#x27;ignore&#x27;),\n",
       "                                                  [&#x27;market_segment&#x27;,\n",
       "                                                   &#x27;deposit_type&#x27;,\n",
       "                                                   &#x27;customer_type&#x27;,\n",
       "                                                   &#x27;reserved_room_type&#x27;])])),\n",
       "                (&#x27;model&#x27;,\n",
       "                 XGBClassifier(base_score=None, booster=None, callbacks=None,\n",
       "                               colsampl...\n",
       "                               feature_types=None, gamma=None, gpu_id=None,\n",
       "                               grow_policy=None, importance_type=None,\n",
       "                               interaction_constraints=None, learning_rate=0.3,\n",
       "                               max_bin=None, max_cat_threshold=None,\n",
       "                               max_cat_to_onehot=None, max_delta_step=None,\n",
       "                               max_depth=6, max_leaves=None,\n",
       "                               min_child_weight=None, missing=nan,\n",
       "                               monotone_constraints=None, n_estimators=200,\n",
       "                               n_jobs=None, num_parallel_tree=None,\n",
       "                               predictor=None, random_state=None, ...))])</pre><b>In a Jupyter environment, please rerun this cell to show the HTML representation or trust the notebook. <br />On GitHub, the HTML representation is unable to render, please try loading this page with nbviewer.org.</b></div><div class=\"sk-container\" hidden><div class=\"sk-item sk-dashed-wrapped\"><div class=\"sk-label-container\"><div class=\"sk-label sk-toggleable\"><input class=\"sk-toggleable__control sk-hidden--visually\" id=\"sk-estimator-id-1\" type=\"checkbox\" ><label for=\"sk-estimator-id-1\" class=\"sk-toggleable__label sk-toggleable__label-arrow\">Pipeline</label><div class=\"sk-toggleable__content\"><pre>Pipeline(steps=[(&#x27;oversampling&#x27;, RandomOverSampler(random_state=42)),\n",
       "                (&#x27;preprocess&#x27;,\n",
       "                 ColumnTransformer(remainder=&#x27;passthrough&#x27;,\n",
       "                                   transformers=[(&#x27;onehot&#x27;,\n",
       "                                                  OneHotEncoder(drop=&#x27;first&#x27;,\n",
       "                                                                handle_unknown=&#x27;ignore&#x27;),\n",
       "                                                  [&#x27;market_segment&#x27;,\n",
       "                                                   &#x27;deposit_type&#x27;,\n",
       "                                                   &#x27;customer_type&#x27;,\n",
       "                                                   &#x27;reserved_room_type&#x27;])])),\n",
       "                (&#x27;model&#x27;,\n",
       "                 XGBClassifier(base_score=None, booster=None, callbacks=None,\n",
       "                               colsampl...\n",
       "                               feature_types=None, gamma=None, gpu_id=None,\n",
       "                               grow_policy=None, importance_type=None,\n",
       "                               interaction_constraints=None, learning_rate=0.3,\n",
       "                               max_bin=None, max_cat_threshold=None,\n",
       "                               max_cat_to_onehot=None, max_delta_step=None,\n",
       "                               max_depth=6, max_leaves=None,\n",
       "                               min_child_weight=None, missing=nan,\n",
       "                               monotone_constraints=None, n_estimators=200,\n",
       "                               n_jobs=None, num_parallel_tree=None,\n",
       "                               predictor=None, random_state=None, ...))])</pre></div></div></div><div class=\"sk-serial\"><div class=\"sk-item\"><div class=\"sk-estimator sk-toggleable\"><input class=\"sk-toggleable__control sk-hidden--visually\" id=\"sk-estimator-id-2\" type=\"checkbox\" ><label for=\"sk-estimator-id-2\" class=\"sk-toggleable__label sk-toggleable__label-arrow\">RandomOverSampler</label><div class=\"sk-toggleable__content\"><pre>RandomOverSampler(random_state=42)</pre></div></div></div><div class=\"sk-item sk-dashed-wrapped\"><div class=\"sk-label-container\"><div class=\"sk-label sk-toggleable\"><input class=\"sk-toggleable__control sk-hidden--visually\" id=\"sk-estimator-id-3\" type=\"checkbox\" ><label for=\"sk-estimator-id-3\" class=\"sk-toggleable__label sk-toggleable__label-arrow\">preprocess: ColumnTransformer</label><div class=\"sk-toggleable__content\"><pre>ColumnTransformer(remainder=&#x27;passthrough&#x27;,\n",
       "                  transformers=[(&#x27;onehot&#x27;,\n",
       "                                 OneHotEncoder(drop=&#x27;first&#x27;,\n",
       "                                               handle_unknown=&#x27;ignore&#x27;),\n",
       "                                 [&#x27;market_segment&#x27;, &#x27;deposit_type&#x27;,\n",
       "                                  &#x27;customer_type&#x27;, &#x27;reserved_room_type&#x27;])])</pre></div></div></div><div class=\"sk-parallel\"><div class=\"sk-parallel-item\"><div class=\"sk-item\"><div class=\"sk-label-container\"><div class=\"sk-label sk-toggleable\"><input class=\"sk-toggleable__control sk-hidden--visually\" id=\"sk-estimator-id-4\" type=\"checkbox\" ><label for=\"sk-estimator-id-4\" class=\"sk-toggleable__label sk-toggleable__label-arrow\">onehot</label><div class=\"sk-toggleable__content\"><pre>[&#x27;market_segment&#x27;, &#x27;deposit_type&#x27;, &#x27;customer_type&#x27;, &#x27;reserved_room_type&#x27;]</pre></div></div></div><div class=\"sk-serial\"><div class=\"sk-item\"><div class=\"sk-estimator sk-toggleable\"><input class=\"sk-toggleable__control sk-hidden--visually\" id=\"sk-estimator-id-5\" type=\"checkbox\" ><label for=\"sk-estimator-id-5\" class=\"sk-toggleable__label sk-toggleable__label-arrow\">OneHotEncoder</label><div class=\"sk-toggleable__content\"><pre>OneHotEncoder(drop=&#x27;first&#x27;, handle_unknown=&#x27;ignore&#x27;)</pre></div></div></div></div></div></div><div class=\"sk-parallel-item\"><div class=\"sk-item\"><div class=\"sk-label-container\"><div class=\"sk-label sk-toggleable\"><input class=\"sk-toggleable__control sk-hidden--visually\" id=\"sk-estimator-id-6\" type=\"checkbox\" ><label for=\"sk-estimator-id-6\" class=\"sk-toggleable__label sk-toggleable__label-arrow\">remainder</label><div class=\"sk-toggleable__content\"><pre>[&#x27;previous_cancellations&#x27;, &#x27;booking_changes&#x27;, &#x27;days_in_waiting_list&#x27;, &#x27;required_car_parking_spaces&#x27;, &#x27;total_of_special_requests&#x27;]</pre></div></div></div><div class=\"sk-serial\"><div class=\"sk-item\"><div class=\"sk-estimator sk-toggleable\"><input class=\"sk-toggleable__control sk-hidden--visually\" id=\"sk-estimator-id-7\" type=\"checkbox\" ><label for=\"sk-estimator-id-7\" class=\"sk-toggleable__label sk-toggleable__label-arrow\">passthrough</label><div class=\"sk-toggleable__content\"><pre>passthrough</pre></div></div></div></div></div></div></div></div><div class=\"sk-item\"><div class=\"sk-estimator sk-toggleable\"><input class=\"sk-toggleable__control sk-hidden--visually\" id=\"sk-estimator-id-8\" type=\"checkbox\" ><label for=\"sk-estimator-id-8\" class=\"sk-toggleable__label sk-toggleable__label-arrow\">XGBClassifier</label><div class=\"sk-toggleable__content\"><pre>XGBClassifier(base_score=None, booster=None, callbacks=None,\n",
       "              colsample_bylevel=None, colsample_bynode=None,\n",
       "              colsample_bytree=0.5, early_stopping_rounds=None,\n",
       "              enable_categorical=False, eval_metric=None, feature_types=None,\n",
       "              gamma=None, gpu_id=None, grow_policy=None, importance_type=None,\n",
       "              interaction_constraints=None, learning_rate=0.3, max_bin=None,\n",
       "              max_cat_threshold=None, max_cat_to_onehot=None,\n",
       "              max_delta_step=None, max_depth=6, max_leaves=None,\n",
       "              min_child_weight=None, missing=nan, monotone_constraints=None,\n",
       "              n_estimators=200, n_jobs=None, num_parallel_tree=None,\n",
       "              predictor=None, random_state=None, ...)</pre></div></div></div></div></div></div></div>"
      ],
      "text/plain": [
       "Pipeline(steps=[('oversampling', RandomOverSampler(random_state=42)),\n",
       "                ('preprocess',\n",
       "                 ColumnTransformer(remainder='passthrough',\n",
       "                                   transformers=[('onehot',\n",
       "                                                  OneHotEncoder(drop='first',\n",
       "                                                                handle_unknown='ignore'),\n",
       "                                                  ['market_segment',\n",
       "                                                   'deposit_type',\n",
       "                                                   'customer_type',\n",
       "                                                   'reserved_room_type'])])),\n",
       "                ('model',\n",
       "                 XGBClassifier(base_score=None, booster=None, callbacks=None,\n",
       "                               colsampl...\n",
       "                               feature_types=None, gamma=None, gpu_id=None,\n",
       "                               grow_policy=None, importance_type=None,\n",
       "                               interaction_constraints=None, learning_rate=0.3,\n",
       "                               max_bin=None, max_cat_threshold=None,\n",
       "                               max_cat_to_onehot=None, max_delta_step=None,\n",
       "                               max_depth=6, max_leaves=None,\n",
       "                               min_child_weight=None, missing=nan,\n",
       "                               monotone_constraints=None, n_estimators=200,\n",
       "                               n_jobs=None, num_parallel_tree=None,\n",
       "                               predictor=None, random_state=None, ...))])"
      ]
     },
     "execution_count": 49,
     "metadata": {},
     "output_type": "execute_result"
    }
   ],
   "source": [
    "best_model = grid.best_estimator_\n",
    "best_model.fit(x_train, y_train)"
   ]
  },
  {
   "cell_type": "code",
   "execution_count": 50,
   "metadata": {},
   "outputs": [
    {
     "data": {
      "text/html": [
       "<style>#sk-container-id-2 {color: black;background-color: white;}#sk-container-id-2 pre{padding: 0;}#sk-container-id-2 div.sk-toggleable {background-color: white;}#sk-container-id-2 label.sk-toggleable__label {cursor: pointer;display: block;width: 100%;margin-bottom: 0;padding: 0.3em;box-sizing: border-box;text-align: center;}#sk-container-id-2 label.sk-toggleable__label-arrow:before {content: \"▸\";float: left;margin-right: 0.25em;color: #696969;}#sk-container-id-2 label.sk-toggleable__label-arrow:hover:before {color: black;}#sk-container-id-2 div.sk-estimator:hover label.sk-toggleable__label-arrow:before {color: black;}#sk-container-id-2 div.sk-toggleable__content {max-height: 0;max-width: 0;overflow: hidden;text-align: left;background-color: #f0f8ff;}#sk-container-id-2 div.sk-toggleable__content pre {margin: 0.2em;color: black;border-radius: 0.25em;background-color: #f0f8ff;}#sk-container-id-2 input.sk-toggleable__control:checked~div.sk-toggleable__content {max-height: 200px;max-width: 100%;overflow: auto;}#sk-container-id-2 input.sk-toggleable__control:checked~label.sk-toggleable__label-arrow:before {content: \"▾\";}#sk-container-id-2 div.sk-estimator input.sk-toggleable__control:checked~label.sk-toggleable__label {background-color: #d4ebff;}#sk-container-id-2 div.sk-label input.sk-toggleable__control:checked~label.sk-toggleable__label {background-color: #d4ebff;}#sk-container-id-2 input.sk-hidden--visually {border: 0;clip: rect(1px 1px 1px 1px);clip: rect(1px, 1px, 1px, 1px);height: 1px;margin: -1px;overflow: hidden;padding: 0;position: absolute;width: 1px;}#sk-container-id-2 div.sk-estimator {font-family: monospace;background-color: #f0f8ff;border: 1px dotted black;border-radius: 0.25em;box-sizing: border-box;margin-bottom: 0.5em;}#sk-container-id-2 div.sk-estimator:hover {background-color: #d4ebff;}#sk-container-id-2 div.sk-parallel-item::after {content: \"\";width: 100%;border-bottom: 1px solid gray;flex-grow: 1;}#sk-container-id-2 div.sk-label:hover label.sk-toggleable__label {background-color: #d4ebff;}#sk-container-id-2 div.sk-serial::before {content: \"\";position: absolute;border-left: 1px solid gray;box-sizing: border-box;top: 0;bottom: 0;left: 50%;z-index: 0;}#sk-container-id-2 div.sk-serial {display: flex;flex-direction: column;align-items: center;background-color: white;padding-right: 0.2em;padding-left: 0.2em;position: relative;}#sk-container-id-2 div.sk-item {position: relative;z-index: 1;}#sk-container-id-2 div.sk-parallel {display: flex;align-items: stretch;justify-content: center;background-color: white;position: relative;}#sk-container-id-2 div.sk-item::before, #sk-container-id-2 div.sk-parallel-item::before {content: \"\";position: absolute;border-left: 1px solid gray;box-sizing: border-box;top: 0;bottom: 0;left: 50%;z-index: -1;}#sk-container-id-2 div.sk-parallel-item {display: flex;flex-direction: column;z-index: 1;position: relative;background-color: white;}#sk-container-id-2 div.sk-parallel-item:first-child::after {align-self: flex-end;width: 50%;}#sk-container-id-2 div.sk-parallel-item:last-child::after {align-self: flex-start;width: 50%;}#sk-container-id-2 div.sk-parallel-item:only-child::after {width: 0;}#sk-container-id-2 div.sk-dashed-wrapped {border: 1px dashed gray;margin: 0 0.4em 0.5em 0.4em;box-sizing: border-box;padding-bottom: 0.4em;background-color: white;}#sk-container-id-2 div.sk-label label {font-family: monospace;font-weight: bold;display: inline-block;line-height: 1.2em;}#sk-container-id-2 div.sk-label-container {text-align: center;}#sk-container-id-2 div.sk-container {/* jupyter's `normalize.less` sets `[hidden] { display: none; }` but bootstrap.min.css set `[hidden] { display: none !important; }` so we also need the `!important` here to be able to override the default hidden behavior on the sphinx rendered scikit-learn.org. See: https://github.com/scikit-learn/scikit-learn/issues/21755 */display: inline-block !important;position: relative;}#sk-container-id-2 div.sk-text-repr-fallback {display: none;}</style><div id=\"sk-container-id-2\" class=\"sk-top-container\"><div class=\"sk-text-repr-fallback\"><pre>Pipeline(steps=[(&#x27;oversampling&#x27;, RandomOverSampler(random_state=42)),\n",
       "                (&#x27;preprocess&#x27;,\n",
       "                 ColumnTransformer(remainder=&#x27;passthrough&#x27;,\n",
       "                                   transformers=[(&#x27;onehot&#x27;,\n",
       "                                                  OneHotEncoder(drop=&#x27;first&#x27;,\n",
       "                                                                handle_unknown=&#x27;ignore&#x27;),\n",
       "                                                  [&#x27;market_segment&#x27;,\n",
       "                                                   &#x27;deposit_type&#x27;,\n",
       "                                                   &#x27;customer_type&#x27;,\n",
       "                                                   &#x27;reserved_room_type&#x27;])])),\n",
       "                (&#x27;model&#x27;,\n",
       "                 XGBClassifier(base_score=None, booster=None, callbacks=None,\n",
       "                               colsampl...\n",
       "                               feature_types=None, gamma=None, gpu_id=None,\n",
       "                               grow_policy=None, importance_type=None,\n",
       "                               interaction_constraints=None, learning_rate=None,\n",
       "                               max_bin=None, max_cat_threshold=None,\n",
       "                               max_cat_to_onehot=None, max_delta_step=None,\n",
       "                               max_depth=None, max_leaves=None,\n",
       "                               min_child_weight=None, missing=nan,\n",
       "                               monotone_constraints=None, n_estimators=100,\n",
       "                               n_jobs=None, num_parallel_tree=None,\n",
       "                               predictor=None, random_state=None, ...))])</pre><b>In a Jupyter environment, please rerun this cell to show the HTML representation or trust the notebook. <br />On GitHub, the HTML representation is unable to render, please try loading this page with nbviewer.org.</b></div><div class=\"sk-container\" hidden><div class=\"sk-item sk-dashed-wrapped\"><div class=\"sk-label-container\"><div class=\"sk-label sk-toggleable\"><input class=\"sk-toggleable__control sk-hidden--visually\" id=\"sk-estimator-id-9\" type=\"checkbox\" ><label for=\"sk-estimator-id-9\" class=\"sk-toggleable__label sk-toggleable__label-arrow\">Pipeline</label><div class=\"sk-toggleable__content\"><pre>Pipeline(steps=[(&#x27;oversampling&#x27;, RandomOverSampler(random_state=42)),\n",
       "                (&#x27;preprocess&#x27;,\n",
       "                 ColumnTransformer(remainder=&#x27;passthrough&#x27;,\n",
       "                                   transformers=[(&#x27;onehot&#x27;,\n",
       "                                                  OneHotEncoder(drop=&#x27;first&#x27;,\n",
       "                                                                handle_unknown=&#x27;ignore&#x27;),\n",
       "                                                  [&#x27;market_segment&#x27;,\n",
       "                                                   &#x27;deposit_type&#x27;,\n",
       "                                                   &#x27;customer_type&#x27;,\n",
       "                                                   &#x27;reserved_room_type&#x27;])])),\n",
       "                (&#x27;model&#x27;,\n",
       "                 XGBClassifier(base_score=None, booster=None, callbacks=None,\n",
       "                               colsampl...\n",
       "                               feature_types=None, gamma=None, gpu_id=None,\n",
       "                               grow_policy=None, importance_type=None,\n",
       "                               interaction_constraints=None, learning_rate=None,\n",
       "                               max_bin=None, max_cat_threshold=None,\n",
       "                               max_cat_to_onehot=None, max_delta_step=None,\n",
       "                               max_depth=None, max_leaves=None,\n",
       "                               min_child_weight=None, missing=nan,\n",
       "                               monotone_constraints=None, n_estimators=100,\n",
       "                               n_jobs=None, num_parallel_tree=None,\n",
       "                               predictor=None, random_state=None, ...))])</pre></div></div></div><div class=\"sk-serial\"><div class=\"sk-item\"><div class=\"sk-estimator sk-toggleable\"><input class=\"sk-toggleable__control sk-hidden--visually\" id=\"sk-estimator-id-10\" type=\"checkbox\" ><label for=\"sk-estimator-id-10\" class=\"sk-toggleable__label sk-toggleable__label-arrow\">RandomOverSampler</label><div class=\"sk-toggleable__content\"><pre>RandomOverSampler(random_state=42)</pre></div></div></div><div class=\"sk-item sk-dashed-wrapped\"><div class=\"sk-label-container\"><div class=\"sk-label sk-toggleable\"><input class=\"sk-toggleable__control sk-hidden--visually\" id=\"sk-estimator-id-11\" type=\"checkbox\" ><label for=\"sk-estimator-id-11\" class=\"sk-toggleable__label sk-toggleable__label-arrow\">preprocess: ColumnTransformer</label><div class=\"sk-toggleable__content\"><pre>ColumnTransformer(remainder=&#x27;passthrough&#x27;,\n",
       "                  transformers=[(&#x27;onehot&#x27;,\n",
       "                                 OneHotEncoder(drop=&#x27;first&#x27;,\n",
       "                                               handle_unknown=&#x27;ignore&#x27;),\n",
       "                                 [&#x27;market_segment&#x27;, &#x27;deposit_type&#x27;,\n",
       "                                  &#x27;customer_type&#x27;, &#x27;reserved_room_type&#x27;])])</pre></div></div></div><div class=\"sk-parallel\"><div class=\"sk-parallel-item\"><div class=\"sk-item\"><div class=\"sk-label-container\"><div class=\"sk-label sk-toggleable\"><input class=\"sk-toggleable__control sk-hidden--visually\" id=\"sk-estimator-id-12\" type=\"checkbox\" ><label for=\"sk-estimator-id-12\" class=\"sk-toggleable__label sk-toggleable__label-arrow\">onehot</label><div class=\"sk-toggleable__content\"><pre>[&#x27;market_segment&#x27;, &#x27;deposit_type&#x27;, &#x27;customer_type&#x27;, &#x27;reserved_room_type&#x27;]</pre></div></div></div><div class=\"sk-serial\"><div class=\"sk-item\"><div class=\"sk-estimator sk-toggleable\"><input class=\"sk-toggleable__control sk-hidden--visually\" id=\"sk-estimator-id-13\" type=\"checkbox\" ><label for=\"sk-estimator-id-13\" class=\"sk-toggleable__label sk-toggleable__label-arrow\">OneHotEncoder</label><div class=\"sk-toggleable__content\"><pre>OneHotEncoder(drop=&#x27;first&#x27;, handle_unknown=&#x27;ignore&#x27;)</pre></div></div></div></div></div></div><div class=\"sk-parallel-item\"><div class=\"sk-item\"><div class=\"sk-label-container\"><div class=\"sk-label sk-toggleable\"><input class=\"sk-toggleable__control sk-hidden--visually\" id=\"sk-estimator-id-14\" type=\"checkbox\" ><label for=\"sk-estimator-id-14\" class=\"sk-toggleable__label sk-toggleable__label-arrow\">remainder</label><div class=\"sk-toggleable__content\"><pre>[&#x27;previous_cancellations&#x27;, &#x27;booking_changes&#x27;, &#x27;days_in_waiting_list&#x27;, &#x27;required_car_parking_spaces&#x27;, &#x27;total_of_special_requests&#x27;]</pre></div></div></div><div class=\"sk-serial\"><div class=\"sk-item\"><div class=\"sk-estimator sk-toggleable\"><input class=\"sk-toggleable__control sk-hidden--visually\" id=\"sk-estimator-id-15\" type=\"checkbox\" ><label for=\"sk-estimator-id-15\" class=\"sk-toggleable__label sk-toggleable__label-arrow\">passthrough</label><div class=\"sk-toggleable__content\"><pre>passthrough</pre></div></div></div></div></div></div></div></div><div class=\"sk-item\"><div class=\"sk-estimator sk-toggleable\"><input class=\"sk-toggleable__control sk-hidden--visually\" id=\"sk-estimator-id-16\" type=\"checkbox\" ><label for=\"sk-estimator-id-16\" class=\"sk-toggleable__label sk-toggleable__label-arrow\">XGBClassifier</label><div class=\"sk-toggleable__content\"><pre>XGBClassifier(base_score=None, booster=None, callbacks=None,\n",
       "              colsample_bylevel=None, colsample_bynode=None,\n",
       "              colsample_bytree=None, early_stopping_rounds=None,\n",
       "              enable_categorical=False, eval_metric=None, feature_types=None,\n",
       "              gamma=None, gpu_id=None, grow_policy=None, importance_type=None,\n",
       "              interaction_constraints=None, learning_rate=None, max_bin=None,\n",
       "              max_cat_threshold=None, max_cat_to_onehot=None,\n",
       "              max_delta_step=None, max_depth=None, max_leaves=None,\n",
       "              min_child_weight=None, missing=nan, monotone_constraints=None,\n",
       "              n_estimators=100, n_jobs=None, num_parallel_tree=None,\n",
       "              predictor=None, random_state=None, ...)</pre></div></div></div></div></div></div></div>"
      ],
      "text/plain": [
       "Pipeline(steps=[('oversampling', RandomOverSampler(random_state=42)),\n",
       "                ('preprocess',\n",
       "                 ColumnTransformer(remainder='passthrough',\n",
       "                                   transformers=[('onehot',\n",
       "                                                  OneHotEncoder(drop='first',\n",
       "                                                                handle_unknown='ignore'),\n",
       "                                                  ['market_segment',\n",
       "                                                   'deposit_type',\n",
       "                                                   'customer_type',\n",
       "                                                   'reserved_room_type'])])),\n",
       "                ('model',\n",
       "                 XGBClassifier(base_score=None, booster=None, callbacks=None,\n",
       "                               colsampl...\n",
       "                               feature_types=None, gamma=None, gpu_id=None,\n",
       "                               grow_policy=None, importance_type=None,\n",
       "                               interaction_constraints=None, learning_rate=None,\n",
       "                               max_bin=None, max_cat_threshold=None,\n",
       "                               max_cat_to_onehot=None, max_delta_step=None,\n",
       "                               max_depth=None, max_leaves=None,\n",
       "                               min_child_weight=None, missing=nan,\n",
       "                               monotone_constraints=None, n_estimators=100,\n",
       "                               n_jobs=None, num_parallel_tree=None,\n",
       "                               predictor=None, random_state=None, ...))])"
      ]
     },
     "execution_count": 50,
     "metadata": {},
     "output_type": "execute_result"
    }
   ],
   "source": [
    "estimator=Pipeline([\n",
    "    ('oversampling',ros),\n",
    "    ('preprocess',transformer),\n",
    "    ('model',xgb)\n",
    "])\n",
    "estimator.fit(x_train, y_train)"
   ]
  },
  {
   "cell_type": "code",
   "execution_count": 51,
   "metadata": {},
   "outputs": [
    {
     "name": "stdout",
     "output_type": "stream",
     "text": [
      "ROC AUC Score Default XGBoost :  0.857833702588032\n",
      "ROC AUC Score Tuned XGBoost :  0.8574605171928815\n",
      "Recall Score Default XGBoost :  0.6487979207277453\n",
      "Recall Score Tuned XGBoost :  0.648635477582846\n"
     ]
    }
   ],
   "source": [
    "y_pred_default = estimator.predict(x_test)\n",
    "y_pred_proba_default = estimator.predict_proba(x_test)[:, 1]\n",
    "y_pred_tuned = best_model.predict(x_test)\n",
    "y_pred_proba_tuned = best_model.predict_proba(x_test)[:, 1]\n",
    "\n",
    "roc_auc_default = roc_auc_score(y_test, y_pred_proba_default)\n",
    "roc_auc_tuned = roc_auc_score(y_test, y_pred_proba_tuned)\n",
    "recall_default = recall_score(y_test, y_pred_default)\n",
    "recall_tuned = recall_score(y_test, y_pred_tuned)\n",
    "\n",
    "print('ROC AUC Score Default XGBoost : ', roc_auc_default)\n",
    "print('ROC AUC Score Tuned XGBoost : ', roc_auc_tuned)\n",
    "print('Recall Score Default XGBoost : ', recall_default)\n",
    "print('Recall Score Tuned XGBoost : ', recall_tuned)\n"
   ]
  },
  {
   "cell_type": "code",
   "execution_count": 52,
   "metadata": {},
   "outputs": [
    {
     "name": "stdout",
     "output_type": "stream",
     "text": [
      "ROC AUC Score Default XGBoost :  0.857833702588032\n",
      "ROC AUC Score Tuned XGBoost :  0.8574605171928815\n",
      "Recall Score Default XGBoost :  0.6487979207277453\n",
      "Recall Score Tuned XGBoost :  0.648635477582846\n",
      "Training Accuracy Default XGBoost :  0.8008076712146643\n",
      "Training Accuracy Tuned XGBoost :  0.8007910524653915\n",
      "Test Accuracy Default XGBoost :  0.8001196530062817\n",
      "Test Accuracy Tuned XGBoost :  0.7996410409811546\n",
      "The default model is not overfitting to the training data.\n",
      "The tuned model is not overfitting to the training data.\n"
     ]
    }
   ],
   "source": [
    "\n",
    "\n",
    "# Make predictions on both training and test data using the default and tuned models\n",
    "y_pred_default_train = estimator.predict(x_train)\n",
    "y_pred_proba_default_train = estimator.predict_proba(x_train)[:, 1]\n",
    "y_pred_tuned_train = best_model.predict(x_train)\n",
    "y_pred_proba_tuned_train = best_model.predict_proba(x_train)[:, 1]\n",
    "y_pred_default_test = estimator.predict(x_test)\n",
    "y_pred_proba_default_test = estimator.predict_proba(x_test)[:, 1]\n",
    "y_pred_tuned_test = best_model.predict(x_test)\n",
    "y_pred_proba_tuned_test = best_model.predict_proba(x_test)[:, 1]\n",
    "\n",
    "# Calculate the ROC AUC scores and recall scores for both the default and tuned models\n",
    "roc_auc_default = roc_auc_score(y_test, y_pred_proba_default_test)\n",
    "roc_auc_tuned = roc_auc_score(y_test, y_pred_proba_tuned_test)\n",
    "recall_default = recall_score(y_test, y_pred_default_test)\n",
    "recall_tuned = recall_score(y_test, y_pred_tuned_test)\n",
    "\n",
    "# Calculate the training and test accuracy for both the default and tuned models\n",
    "train_acc_default = accuracy_score(y_train, y_pred_default_train)\n",
    "train_acc_tuned = accuracy_score(y_train, y_pred_tuned_train)\n",
    "test_acc_default = accuracy_score(y_test, y_pred_default_test)\n",
    "test_acc_tuned = accuracy_score(y_test, y_pred_tuned_test)\n",
    "\n",
    "# Print the results\n",
    "print(\"ROC AUC Score Default XGBoost : \", roc_auc_default)\n",
    "print(\"ROC AUC Score Tuned XGBoost : \", roc_auc_tuned)\n",
    "print(\"Recall Score Default XGBoost : \", recall_default)\n",
    "print(\"Recall Score Tuned XGBoost : \", recall_tuned)\n",
    "print(\"Training Accuracy Default XGBoost : \", train_acc_default)\n",
    "print(\"Training Accuracy Tuned XGBoost : \", train_acc_tuned)\n",
    "print(\"Test Accuracy Default XGBoost : \", test_acc_default)\n",
    "print(\"Test Accuracy Tuned XGBoost : \", test_acc_tuned)\n",
    "\n",
    "# Check if the difference between training and test accuracy is significant for both the default and tuned models\n",
    "if train_acc_default - test_acc_default > 0.05:\n",
    "    print(\"The default model may be overfitting to the training data.\")\n",
    "else:\n",
    "    print(\"The default model is not overfitting to the training data.\")\n",
    "if train_acc_tuned - test_acc_tuned > 0.05:\n",
    "    print(\"The tuned model may be overfitting to the training data.\")\n",
    "else:\n",
    "    print(\"The tuned model is not overfitting to the training data.\")\n"
   ]
  },
  {
   "attachments": {},
   "cell_type": "markdown",
   "metadata": {},
   "source": [
    "jika dilihat dari data diatas terjadi penurunan nilai pada score ROC AUC dan RECALL walau pun penurunannya tidak terlalu signifikan karena 4 angka di belakang koma. namun nilai roc aucnya sudah cukup bagus untuk dijadikan model sehingga lebih baik menggunakan model XGBoost yang tidak di tuned (default) sebagai model akhir."
   ]
  },
  {
   "cell_type": "code",
   "execution_count": 53,
   "metadata": {},
   "outputs": [
    {
     "name": "stdout",
     "output_type": "stream",
     "text": [
      "Classification Report Default XGBoost : \n",
      "               precision    recall  f1-score   support\n",
      "\n",
      "           0       0.81      0.89      0.85     10559\n",
      "           1       0.77      0.65      0.71      6156\n",
      "\n",
      "    accuracy                           0.80     16715\n",
      "   macro avg       0.79      0.77      0.78     16715\n",
      "weighted avg       0.80      0.80      0.80     16715\n",
      "\n",
      "Classification Report Tuned XGBoost : \n",
      "               precision    recall  f1-score   support\n",
      "\n",
      "           0       0.81      0.89      0.85     10559\n",
      "           1       0.77      0.65      0.70      6156\n",
      "\n",
      "    accuracy                           0.80     16715\n",
      "   macro avg       0.79      0.77      0.78     16715\n",
      "weighted avg       0.80      0.80      0.80     16715\n",
      "\n"
     ]
    }
   ],
   "source": [
    "report_default = classification_report(y_test, y_pred_default)\n",
    "report_tuned = classification_report(y_test, y_pred_tuned)\n",
    "\n",
    "print('Classification Report Default XGBoost : \\n', report_default)\n",
    "print('Classification Report Tuned XGBoost : \\n', report_tuned)"
   ]
  },
  {
   "attachments": {},
   "cell_type": "markdown",
   "metadata": {},
   "source": [
    "### Feature Importances\n",
    "\n",
    "dapat dilihat fitur/kolom apa saja yang paling penting untuk model XGBoost"
   ]
  },
  {
   "cell_type": "code",
   "execution_count": 54,
   "metadata": {},
   "outputs": [
    {
     "data": {
      "image/png": "[encoded data removed]",
      "text/plain": [
       "<Figure size 640x480 with 1 Axes>"
      ]
     },
     "metadata": {},
     "output_type": "display_data"
    }
   ],
   "source": [
    "coef1 = pd.Series(best_model['model'].feature_importances_, transformer.get_feature_names_out()).sort_values(ascending = False).head(10)\n",
    "coef1.plot(kind='barh', title='Feature Importances')\n",
    "plt.show()"
   ]
  },
  {
   "attachments": {},
   "cell_type": "markdown",
   "metadata": {},
   "source": [
    "terlihat bahwa untuk model XGBoost fitur yang paling penting adalah Deposit type :non refund dan diikuti dengan required car parking space. kedua fitur tersebut trlihat pada saat analisis data bahwa memiliki persebaran data yang signifikan perbedaannya. kerena 99% dari 10111 data di non refund adalah data cancel. juga pada required car space ketika data diatas angka 0 maka dapat dipastikan booking akan dilanjutkan."
   ]
  },
  {
   "attachments": {},
   "cell_type": "markdown",
   "metadata": {},
   "source": [
    "# Conclusion & Recommendation"
   ]
  },
  {
   "cell_type": "code",
   "execution_count": 55,
   "metadata": {},
   "outputs": [
    {
     "name": "stdout",
     "output_type": "stream",
     "text": [
      "Classification Report Default XGBoost : \n",
      "               precision    recall  f1-score   support\n",
      "\n",
      "           0       0.81      0.89      0.85     10559\n",
      "           1       0.77      0.65      0.71      6156\n",
      "\n",
      "    accuracy                           0.80     16715\n",
      "   macro avg       0.79      0.77      0.78     16715\n",
      "weighted avg       0.80      0.80      0.80     16715\n",
      "\n"
     ]
    }
   ],
   "source": [
    "print('Classification Report Default XGBoost : \\n', report_default)"
   ]
  },
  {
   "attachments": {},
   "cell_type": "markdown",
   "metadata": {},
   "source": [
    "Berdasarkan hasil classification report dari model default XBoost, dapat di simpulkan ketika model digunakan maka dapat menyaring para customer dengan 89% customer yang akan tetap menginap dan 65% customer yang akan membatalkan bookingnya jika dilihat dari recallnya.\n",
    "\n",
    "model ini memiliki ketepatan sebesar 77 %(precicison) mengetahui customer yang membatalkan bookingnya dari 65% (recall) yang akan membatalkan bookingnya. dan akan tersisa 11% (recall) customer yang sebenarnya akan mencancel masih masuk kedalam list customer yang akan melanjutkan bookingannya.\n",
    "\n",
    "bila seandainya biaya perkamar itu 840.000 rupiah (berdasarkan : https://www.agoda.com/en-gb/search?city=5590&checkIn=2023-03-15&los=1&rooms=1&adults=2&children=0&locale=en-gb&ckuid=a457af23-c14e-45f2-87b4-294dbd77605a&prid=0&gclid=Cj0KCQiA6LyfBhC3ARIsAG4gkF_QPB1m1oqPbNX91g8-qjrFcEUlbUysa9Cw7NTC6uhllc4qDsnehHMaAoq7EALw_wcB&currency=IDR&correlationId=073b3ded-9aff-4a00-9189-3c48642fb777&analyticsSessionId=8902887725591333422&pageTypeId=5&realLanguageId=16&languageId=1&origin=ID&cid=1891439&tag=a1504c41-b3fb-4c0d-ac56-2b0742e2bc0e&userId=a457af23-c14e-45f2-87b4-294dbd77605a&whitelabelid=1&loginLvl=0&storefrontId=3&currencyId=25&currencyCode=IDR&htmlLanguage=en-gb&cultureInfoName=en-gb&machineName=sg-geoweb-6003&trafficGroupId=5&sessionId=raouenigsefypygv5dq3knax&trafficSubGroupId=9&aid=82361&useFullPageLogin=true&cttp=4&isRealUser=true&mode=production&browserFamily=Chrome&checkOut=2023-03-16&priceCur=IDR&textToSearch=Albufeira&productType=-1&travellerType=1&familyMode=off), dan apa bila ada 200 booking yang masuk (100 orang cancel dan 100 orang tetap melakukan booking) maka hitungannya akan seperti ini :\n",
    "\n",
    "Tanpa model :\n",
    "- gross profit 1 kamar = Rp 840.000 x 200 orang => 168.000.000/hari\n",
    "- total customer cancel 100 orang = - Rp 84.000.000\n",
    "- total customer booking 100 orang = Rp 84.000.000\n",
    "- selisih untung rugi hotel adalah = 84.000.000 (100booking) - 84.000.000 (100cancel) = Rp 0,00-\n",
    "\n",
    "dengan model :\n",
    "- 65 orang (dari 100 orang cancel) x Rp. 840.000 = 54.600.000 (berdasarkan nilai recall cancel) TP\n",
    "- 11 orang (dari 100 orang cancel) x Rp. 840.000 =  9.240.000 (berdasarkan recall tetap booking) FP\n",
    "- 54.600.000 + 9.240.000 =Rp 63.840.000\n",
    "\n",
    "- 35 orang (dari 100orang cancel tetap booking) x Rp.840.000 = 29.400.000 ( berdasarkan recall cancel) FN\n",
    "- 89 orang (dari 100 orang tetap booking) x Rp. 840.000 = 74.760.000 ( berdasarkan recall tetap booking) TN\n",
    "- selisih untung-rugi yang dialami setelah menggunakan model =Rp. 104.160.000 - Rp. 63.840.000 = Rp 40.320.000\n",
    "\n",
    "dengan menggunakan model saya hotel dapat memprediksi pemasukannya di hari tersebut. \n",
    "\n"
   ]
  },
  {
   "attachments": {},
   "cell_type": "markdown",
   "metadata": {},
   "source": [
    "# Recommendation"
   ]
  },
  {
   "attachments": {},
   "cell_type": "markdown",
   "metadata": {},
   "source": [
    "Hal Hal yang bisa dilakukan agar bisa menjukan model lebih baik lagi :\n",
    "- Fitur fitur dari data dapat di tambahkan lagi seperti jasa jasa yang hotel berikan agar dapat lebih terlihat jasa apa yang menjadi deal breaker. Seperti satisfaction level terhadap jasa jasa yang diberikan.\n",
    "- Menggunakan evaluation metric lain seperti focus untuk recall saja agar meminimalisir false negativenya bisa dilihat di data saya bahwa `KNN` memiliki nilai Recall terbesar. \n",
    "- gunakan hyperparameter lain agar hasilnya bisa lebih meningkat ataupun menggunakan Teknik oversampling lain selain randomeoversampler.\n",
    "- gunakan model lain seperit LGBM , Random forest, jika masih menggunakan ROC AUC sebagai metric nya. karena nilainya tidak terpaut jauh.\n",
    "\n",
    "\n"
   ]
  },
  {
   "cell_type": "code",
   "execution_count": 57,
   "metadata": {},
   "outputs": [],
   "source": [
    "import pickle\n",
    "\n",
    "with open('estimator_model.pickle', 'wb') as f:\n",
    "    pickle.dump(estimator, f)\n",
    "\n",
    "\n",
    "with open('C:/Users/Dlos/Documents/PURWADHIKA/Capstone 3/model.pkl', 'wb') as f:\n",
    "    pickle.dump(estimator, f)\n"
   ]
  }
 ],
 "metadata": {
  "kernelspec": {
   "display_name": "Python 3",
   "language": "python",
   "name": "python3"
  },
  "language_info": {
   "codemirror_mode": {
    "name": "ipython",
    "version": 3
   },
   "file_extension": ".py",
   "mimetype": "text/x-python",
   "name": "python",
   "nbconvert_exporter": "python",
   "pygments_lexer": "ipython3",
   "version": "3.10.8"
  },
  "orig_nbformat": 4,
  "vscode": {
   "interpreter": {
    "hash": "6c7eab417996ca776968b29b38ff440a371bb20225c961037772354a99eaea7a"
   }
  }
 },
 "nbformat": 4,
 "nbformat_minor": 2
}
